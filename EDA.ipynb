{
 "cells": [
  {
   "cell_type": "code",
   "execution_count": 1,
   "metadata": {},
   "outputs": [],
   "source": [
    "import numpy as np\n",
    "import pandas as pd\n"
   ]
  },
  {
   "cell_type": "code",
   "execution_count": 2,
   "metadata": {},
   "outputs": [
    {
     "data": {
      "text/html": [
       "<div>\n",
       "<style scoped>\n",
       "    .dataframe tbody tr th:only-of-type {\n",
       "        vertical-align: middle;\n",
       "    }\n",
       "\n",
       "    .dataframe tbody tr th {\n",
       "        vertical-align: top;\n",
       "    }\n",
       "\n",
       "    .dataframe thead th {\n",
       "        text-align: right;\n",
       "    }\n",
       "</style>\n",
       "<table border=\"1\" class=\"dataframe\">\n",
       "  <thead>\n",
       "    <tr style=\"text-align: right;\">\n",
       "      <th></th>\n",
       "      <th>price</th>\n",
       "      <th>bd_num</th>\n",
       "      <th>ba_num</th>\n",
       "      <th>sqft</th>\n",
       "      <th>address</th>\n",
       "      <th>zestimate</th>\n",
       "      <th>Building</th>\n",
       "      <th>Calendar</th>\n",
       "      <th>Heating</th>\n",
       "      <th>Snowflake</th>\n",
       "      <th>Parking</th>\n",
       "      <th>Lot</th>\n",
       "      <th>PriceSquareFeet</th>\n",
       "      <th>url</th>\n",
       "      <th>zipcode</th>\n",
       "    </tr>\n",
       "  </thead>\n",
       "  <tbody>\n",
       "    <tr>\n",
       "      <th>0</th>\n",
       "      <td>$279,900</td>\n",
       "      <td>3</td>\n",
       "      <td>1</td>\n",
       "      <td>1,324</td>\n",
       "      <td>3072 Beechwood Blvd,Pittsburgh, PA 15217</td>\n",
       "      <td>$275,900</td>\n",
       "      <td>Single family residence</td>\n",
       "      <td>Built in 1940</td>\n",
       "      <td>Natural gas, baseboard</td>\n",
       "      <td>Wall unit(s), window a/c</td>\n",
       "      <td>Open parking</td>\n",
       "      <td>3,049 sqft</td>\n",
       "      <td>$211 price/sqft</td>\n",
       "      <td>https://www.zillow.com/homedetails/3072-Beechw...</td>\n",
       "      <td>15106</td>\n",
       "    </tr>\n",
       "    <tr>\n",
       "      <th>1</th>\n",
       "      <td>$258,900</td>\n",
       "      <td>4</td>\n",
       "      <td>3</td>\n",
       "      <td>2,854</td>\n",
       "      <td>304 Washington Ave,New Galilee, PA 16141</td>\n",
       "      <td>Contact Agent</td>\n",
       "      <td>Single family residence</td>\n",
       "      <td>Built in 1957</td>\n",
       "      <td>Natural gas, forced air</td>\n",
       "      <td>Central air</td>\n",
       "      <td>2 Attached garage spaces</td>\n",
       "      <td>0.42 Acres</td>\n",
       "      <td>$91 price/sqft</td>\n",
       "      <td>https://www.zillow.com/homedetails/304-Washing...</td>\n",
       "      <td>15106</td>\n",
       "    </tr>\n",
       "    <tr>\n",
       "      <th>2</th>\n",
       "      <td>$167,000</td>\n",
       "      <td>5</td>\n",
       "      <td>2</td>\n",
       "      <td>3,698</td>\n",
       "      <td>1000 Ridge Ave,New Cumberland, WV 26047</td>\n",
       "      <td>$160,800</td>\n",
       "      <td>Single family residence</td>\n",
       "      <td>Built in 1875</td>\n",
       "      <td>Forced air, fireplace(s), gas</td>\n",
       "      <td>None</td>\n",
       "      <td>3 Garage spaces</td>\n",
       "      <td>0.51 Acres</td>\n",
       "      <td>$45 price/sqft</td>\n",
       "      <td>https://www.zillow.com/homedetails/1000-Ridge-...</td>\n",
       "      <td>15106</td>\n",
       "    </tr>\n",
       "    <tr>\n",
       "      <th>3</th>\n",
       "      <td>$350,000</td>\n",
       "      <td>3</td>\n",
       "      <td>3</td>\n",
       "      <td>2,180</td>\n",
       "      <td>165 Jamison Ln,Monroeville, PA 15146</td>\n",
       "      <td>$350,100</td>\n",
       "      <td>Single family residence</td>\n",
       "      <td>Built in 1965</td>\n",
       "      <td>Electric, radiant</td>\n",
       "      <td>Central air, electric</td>\n",
       "      <td>3 Attached garage spaces</td>\n",
       "      <td>0.25 Acres</td>\n",
       "      <td>$161 price/sqft</td>\n",
       "      <td>https://www.zillow.com/homedetails/165-Jamison...</td>\n",
       "      <td>15106</td>\n",
       "    </tr>\n",
       "    <tr>\n",
       "      <th>4</th>\n",
       "      <td>$219,900</td>\n",
       "      <td>3</td>\n",
       "      <td>3</td>\n",
       "      <td>2,994</td>\n",
       "      <td>35 Northgait Dr,Slippery Rock, PA 16057</td>\n",
       "      <td>None</td>\n",
       "      <td>Single family residence</td>\n",
       "      <td>Built in 1985</td>\n",
       "      <td>No data</td>\n",
       "      <td>No data</td>\n",
       "      <td>2 Attached garage spaces</td>\n",
       "      <td>1.57 Acres</td>\n",
       "      <td>$73 price/sqft</td>\n",
       "      <td>https://www.zillow.com/homedetails/35-Northgai...</td>\n",
       "      <td>15106</td>\n",
       "    </tr>\n",
       "  </tbody>\n",
       "</table>\n",
       "</div>"
      ],
      "text/plain": [
       "      price bd_num ba_num   sqft                                   address  \\\n",
       "0  $279,900      3      1  1,324  3072 Beechwood Blvd,Pittsburgh, PA 15217   \n",
       "1  $258,900      4      3  2,854  304 Washington Ave,New Galilee, PA 16141   \n",
       "2  $167,000      5      2  3,698   1000 Ridge Ave,New Cumberland, WV 26047   \n",
       "3  $350,000      3      3  2,180      165 Jamison Ln,Monroeville, PA 15146   \n",
       "4  $219,900      3      3  2,994   35 Northgait Dr,Slippery Rock, PA 16057   \n",
       "\n",
       "       zestimate                 Building       Calendar  \\\n",
       "0       $275,900  Single family residence  Built in 1940   \n",
       "1  Contact Agent  Single family residence  Built in 1957   \n",
       "2       $160,800  Single family residence  Built in 1875   \n",
       "3       $350,100  Single family residence  Built in 1965   \n",
       "4          None   Single family residence  Built in 1985   \n",
       "\n",
       "                         Heating                 Snowflake  \\\n",
       "0         Natural gas, baseboard  Wall unit(s), window a/c   \n",
       "1        Natural gas, forced air               Central air   \n",
       "2  Forced air, fireplace(s), gas                      None   \n",
       "3              Electric, radiant     Central air, electric   \n",
       "4                        No data                   No data   \n",
       "\n",
       "                    Parking         Lot  PriceSquareFeet  \\\n",
       "0              Open parking  3,049 sqft  $211 price/sqft   \n",
       "1  2 Attached garage spaces  0.42 Acres   $91 price/sqft   \n",
       "2           3 Garage spaces  0.51 Acres   $45 price/sqft   \n",
       "3  3 Attached garage spaces  0.25 Acres  $161 price/sqft   \n",
       "4  2 Attached garage spaces  1.57 Acres   $73 price/sqft   \n",
       "\n",
       "                                                 url  zipcode  \n",
       "0  https://www.zillow.com/homedetails/3072-Beechw...    15106  \n",
       "1  https://www.zillow.com/homedetails/304-Washing...    15106  \n",
       "2  https://www.zillow.com/homedetails/1000-Ridge-...    15106  \n",
       "3  https://www.zillow.com/homedetails/165-Jamison...    15106  \n",
       "4  https://www.zillow.com/homedetails/35-Northgai...    15106  "
      ]
     },
     "execution_count": 2,
     "metadata": {},
     "output_type": "execute_result"
    }
   ],
   "source": [
    "df = pd.read_csv('data/2022-01-05.csv', index_col=0)\n",
    "df.head(5)\n"
   ]
  },
  {
   "cell_type": "markdown",
   "metadata": {},
   "source": [
    "[Feature Engineering for Categorical Attributes](https://dotdata.com/blog/feature-engineering-for-categorical-attributes/)\n",
    "\n",
    "[One-Hot Encoding a Feature on a Pandas Dataframe: Examples](https://queirozf.com/entries/one-hot-encoding-a-feature-on-a-pandas-dataframe-an-example)\n",
    "\n",
    "### Category column process:\n",
    "\n",
    "- Building : One-hot\n",
    "- Heating : One-hot with combination\n",
    "- Snowflake : One-hot with combination\n",
    "- Parking: label encoding\n",
    "- Zipcode: One-hot\n",
    "\n",
    "### Insignificant features:\n",
    "\n",
    "- address\n"
   ]
  },
  {
   "cell_type": "markdown",
   "metadata": {},
   "source": [
    "## Column classify\n"
   ]
  },
  {
   "cell_type": "code",
   "execution_count": 3,
   "metadata": {},
   "outputs": [],
   "source": [
    "# price, bd_num, ba_num, sqft, zestimate, Calendar, Lot, PriceSquareFeet\n",
    "num_cols = ['price', 'bd_num', 'ba_num', 'sqft', 'Calendar']\n",
    "one_hot_cols = ['Building', 'zipcode']\n",
    "one_hot_unstruc_cols = ['Heating', 'Snowflake']\n",
    "ord_unstruc_cols = ['Parking']\n",
    "removed_cols = ['address', 'zestimate', 'PriceSquareFeet', 'url']\n"
   ]
  },
  {
   "cell_type": "markdown",
   "metadata": {},
   "source": [
    "## Column data process function\n"
   ]
  },
  {
   "cell_type": "code",
   "execution_count": 4,
   "metadata": {},
   "outputs": [],
   "source": [
    "def extract_num(num_str):\n",
    "    '''Extract number value from string'''\n",
    "    num_str = str(num_str)\n",
    "    ans = ''\n",
    "    for letter in num_str:\n",
    "        if letter.isdecimal() or letter == '.':\n",
    "            ans += letter\n",
    "    return float(ans) if ans else None\n",
    "\n",
    "\n",
    "def one_hot_transform(df, col_name):\n",
    "    import pandas as pd\n",
    "    # get one hot coding matrix\n",
    "    one_hot_df = pd.get_dummies(df[col_name], prefix=col_name)\n",
    "    # merge one hot with df\n",
    "    df = pd.concat([df, one_hot_df], axis=1)\n",
    "    # delete original feature\n",
    "    df.drop([col_name], axis=1, inplace=True)\n",
    "    return df\n",
    "\n",
    "\n",
    "def one_hot_transform_unstructure(df, col_name, separator):\n",
    "    # first loop through all rows to get all titles\n",
    "    titles = set()\n",
    "    for names in df[col_name]:\n",
    "        for title in names.split(separator):\n",
    "            titles.add(title.strip())\n",
    "    titles = list(titles)\n",
    "    # create new column based on existance of the title in col_name\n",
    "    for title in titles:\n",
    "        df[col_name + '_' +\n",
    "            title] = df[col_name].apply(lambda x: 1 if title in x else 0)\n",
    "    # delete original feature\n",
    "    df.drop([col_name], axis=1, inplace=True)\n",
    "    return df\n",
    "\n",
    "# special for one col\n",
    "\n",
    "\n",
    "def parking_score(info):\n",
    "    '''\n",
    "    scale = {\n",
    "        'garage': 10,\n",
    "        'covered': 8,\n",
    "        'parking': 6\n",
    "    }\n",
    "    '''\n",
    "    num = extract_num(info)\n",
    "    num = num if num else 1\n",
    "    # print(num)\n",
    "    if 'garage' in info.lower():\n",
    "        return 10 * num\n",
    "    elif 'covered' in info.lower():\n",
    "        return 8 * num\n",
    "    elif 'parking' in info.lower():\n",
    "        return 6 * num\n",
    "    return 0\n",
    "\n",
    "\n",
    "def lot_area(info):\n",
    "    info = str(info)\n",
    "    multiply = 43560 if 'acres' in info.lower() else 1\n",
    "    val = extract_num(info)\n",
    "    res = val*multiply if val else None\n",
    "    return res\n"
   ]
  },
  {
   "cell_type": "markdown",
   "metadata": {},
   "source": [
    "## Remove cols\n"
   ]
  },
  {
   "cell_type": "code",
   "execution_count": 5,
   "metadata": {},
   "outputs": [],
   "source": [
    "for col in removed_cols:\n",
    "    del df[col]\n"
   ]
  },
  {
   "cell_type": "markdown",
   "metadata": {},
   "source": [
    "## Apply functions to columns\n"
   ]
  },
  {
   "cell_type": "code",
   "execution_count": 6,
   "metadata": {},
   "outputs": [],
   "source": [
    "df['Parking'] = df['Parking'].apply(parking_score)\n",
    "df['Lot'] = df['Lot'].apply(lot_area)\n",
    "for col in num_cols:\n",
    "    df[col] = df[col].apply(extract_num)\n",
    "for col in one_hot_cols:\n",
    "    df = one_hot_transform(df, col)\n",
    "for col in one_hot_unstruc_cols:\n",
    "    df = one_hot_transform_unstructure(df, col, ',')\n"
   ]
  },
  {
   "cell_type": "markdown",
   "metadata": {},
   "source": [
    "## Replace None with average\n"
   ]
  },
  {
   "cell_type": "code",
   "execution_count": 7,
   "metadata": {},
   "outputs": [
    {
     "name": "stdout",
     "output_type": "stream",
     "text": [
      "<class 'pandas.core.frame.DataFrame'>\n",
      "Int64Index: 783 entries, 0 to 782\n",
      "Data columns (total 91 columns):\n",
      " #   Column                                       Non-Null Count  Dtype  \n",
      "---  ------                                       --------------  -----  \n",
      " 0   price                                        783 non-null    float64\n",
      " 1   bd_num                                       686 non-null    float64\n",
      " 2   ba_num                                       684 non-null    float64\n",
      " 3   sqft                                         545 non-null    float64\n",
      " 4   Calendar                                     761 non-null    float64\n",
      " 5   Parking                                      783 non-null    float64\n",
      " 6   Lot                                          623 non-null    float64\n",
      " 7   Building_Detached                            783 non-null    uint8  \n",
      " 8   Building_Duplex                              783 non-null    uint8  \n",
      " 9   Building_Multifamily                         783 non-null    uint8  \n",
      " 10  Building_Quadruplex                          783 non-null    uint8  \n",
      " 11  Building_Single family residence             783 non-null    uint8  \n",
      " 12  Building_Single family residence, townhouse  783 non-null    uint8  \n",
      " 13  Building_Singlefamily                        783 non-null    uint8  \n",
      " 14  Building_Stock cooperative, townhouse        783 non-null    uint8  \n",
      " 15  Building_Townhouse                           783 non-null    uint8  \n",
      " 16  Building_Triplex                             783 non-null    uint8  \n",
      " 17  zipcode_15106                                783 non-null    uint8  \n",
      " 18  zipcode_15120                                783 non-null    uint8  \n",
      " 19  zipcode_15201                                783 non-null    uint8  \n",
      " 20  zipcode_15203                                783 non-null    uint8  \n",
      " 21  zipcode_15204                                783 non-null    uint8  \n",
      " 22  zipcode_15205                                783 non-null    uint8  \n",
      " 23  zipcode_15206                                783 non-null    uint8  \n",
      " 24  zipcode_15207                                783 non-null    uint8  \n",
      " 25  zipcode_15208                                783 non-null    uint8  \n",
      " 26  zipcode_15210                                783 non-null    uint8  \n",
      " 27  zipcode_15211                                783 non-null    uint8  \n",
      " 28  zipcode_15212                                783 non-null    uint8  \n",
      " 29  zipcode_15213                                783 non-null    uint8  \n",
      " 30  zipcode_15214                                783 non-null    uint8  \n",
      " 31  zipcode_15215                                783 non-null    uint8  \n",
      " 32  zipcode_15216                                783 non-null    uint8  \n",
      " 33  zipcode_15217                                783 non-null    uint8  \n",
      " 34  zipcode_15218                                783 non-null    uint8  \n",
      " 35  zipcode_15219                                783 non-null    uint8  \n",
      " 36  zipcode_15220                                783 non-null    uint8  \n",
      " 37  zipcode_15221                                783 non-null    uint8  \n",
      " 38  zipcode_15222                                783 non-null    uint8  \n",
      " 39  zipcode_15224                                783 non-null    uint8  \n",
      " 40  zipcode_15226                                783 non-null    uint8  \n",
      " 41  zipcode_15227                                783 non-null    uint8  \n",
      " 42  zipcode_15232                                783 non-null    uint8  \n",
      " 43  zipcode_15233                                783 non-null    uint8  \n",
      " 44  zipcode_15234                                783 non-null    uint8  \n",
      " 45  zipcode_15235                                783 non-null    uint8  \n",
      " 46  zipcode_15236                                783 non-null    uint8  \n",
      " 47  zipcode_15238                                783 non-null    uint8  \n",
      " 48  zipcode_15260                                783 non-null    uint8  \n",
      " 49  zipcode_15290                                783 non-null    uint8  \n",
      " 50  Heating_90% forced air                       783 non-null    int64  \n",
      " 51  Heating_heat pump                            783 non-null    int64  \n",
      " 52  Heating_natural gas                          783 non-null    int64  \n",
      " 53  Heating_fireplace(s)                         783 non-null    int64  \n",
      " 54  Heating_Oil                                  783 non-null    int64  \n",
      " 55  Heating_hot water                            783 non-null    int64  \n",
      " 56  Heating_Forced air                           783 non-null    int64  \n",
      " 57  Heating_Other                                783 non-null    int64  \n",
      " 58  Heating_forced air                           783 non-null    int64  \n",
      " 59  Heating_Hot water                            783 non-null    int64  \n",
      " 60  Heating_baseboard                            783 non-null    int64  \n",
      " 61  Heating_steam                                783 non-null    int64  \n",
      " 62  Heating_Natural gas                          783 non-null    int64  \n",
      " 63  Heating_Radiant                              783 non-null    int64  \n",
      " 64  Heating_gas                                  783 non-null    int64  \n",
      " 65  Heating_zoned                                783 non-null    int64  \n",
      " 66  Heating_radiant                              783 non-null    int64  \n",
      " 67  Heating_Central                              783 non-null    int64  \n",
      " 68  Heating_No data                              783 non-null    int64  \n",
      " 69  Heating_Electric                             783 non-null    int64  \n",
      " 70  Heating_propane - leased                     783 non-null    int64  \n",
      " 71  Snowflake_Ceiling fan(s)                     783 non-null    int64  \n",
      " 72  Snowflake_Window a/c                         783 non-null    int64  \n",
      " 73  Snowflake_Central air                        783 non-null    int64  \n",
      " 74  Snowflake_Attic fan                          783 non-null    int64  \n",
      " 75  Snowflake_Gas                                783 non-null    int64  \n",
      " 76  Snowflake_Central a/c                        783 non-null    int64  \n",
      " 77  Snowflake_window a/c                         783 non-null    int64  \n",
      " 78  Snowflake_Other                              783 non-null    int64  \n",
      " 79  Snowflake_central a/c                        783 non-null    int64  \n",
      " 80  Snowflake_gas                                783 non-null    int64  \n",
      " 81  Snowflake_central air                        783 non-null    int64  \n",
      " 82  Snowflake_wall unit(s)                       783 non-null    int64  \n",
      " 83  Snowflake_None                               783 non-null    int64  \n",
      " 84  Snowflake_Central                            783 non-null    int64  \n",
      " 85  Snowflake_No data                            783 non-null    int64  \n",
      " 86  Snowflake_other                              783 non-null    int64  \n",
      " 87  Snowflake_Wall unit(s)                       783 non-null    int64  \n",
      " 88  Snowflake_Electric                           783 non-null    int64  \n",
      " 89  Snowflake_window unit(s)                     783 non-null    int64  \n",
      " 90  Snowflake_electric                           783 non-null    int64  \n",
      "dtypes: float64(7), int64(41), uint8(43)\n",
      "memory usage: 332.6 KB\n"
     ]
    }
   ],
   "source": [
    "df.info()\n"
   ]
  },
  {
   "cell_type": "code",
   "execution_count": 8,
   "metadata": {},
   "outputs": [
    {
     "data": {
      "text/html": [
       "<div>\n",
       "<style scoped>\n",
       "    .dataframe tbody tr th:only-of-type {\n",
       "        vertical-align: middle;\n",
       "    }\n",
       "\n",
       "    .dataframe tbody tr th {\n",
       "        vertical-align: top;\n",
       "    }\n",
       "\n",
       "    .dataframe thead th {\n",
       "        text-align: right;\n",
       "    }\n",
       "</style>\n",
       "<table border=\"1\" class=\"dataframe\">\n",
       "  <thead>\n",
       "    <tr style=\"text-align: right;\">\n",
       "      <th></th>\n",
       "      <th>price</th>\n",
       "      <th>bd_num</th>\n",
       "      <th>ba_num</th>\n",
       "      <th>sqft</th>\n",
       "      <th>Calendar</th>\n",
       "      <th>Parking</th>\n",
       "      <th>Lot</th>\n",
       "      <th>Building_Detached</th>\n",
       "      <th>Building_Duplex</th>\n",
       "      <th>Building_Multifamily</th>\n",
       "      <th>...</th>\n",
       "      <th>Snowflake_central air</th>\n",
       "      <th>Snowflake_wall unit(s)</th>\n",
       "      <th>Snowflake_None</th>\n",
       "      <th>Snowflake_Central</th>\n",
       "      <th>Snowflake_No data</th>\n",
       "      <th>Snowflake_other</th>\n",
       "      <th>Snowflake_Wall unit(s)</th>\n",
       "      <th>Snowflake_Electric</th>\n",
       "      <th>Snowflake_window unit(s)</th>\n",
       "      <th>Snowflake_electric</th>\n",
       "    </tr>\n",
       "  </thead>\n",
       "  <tbody>\n",
       "    <tr>\n",
       "      <th>0</th>\n",
       "      <td>279900.0</td>\n",
       "      <td>3.0</td>\n",
       "      <td>1.0</td>\n",
       "      <td>1324.0</td>\n",
       "      <td>1940.0</td>\n",
       "      <td>6.0</td>\n",
       "      <td>3049.0</td>\n",
       "      <td>0</td>\n",
       "      <td>0</td>\n",
       "      <td>0</td>\n",
       "      <td>...</td>\n",
       "      <td>0</td>\n",
       "      <td>0</td>\n",
       "      <td>0</td>\n",
       "      <td>0</td>\n",
       "      <td>0</td>\n",
       "      <td>0</td>\n",
       "      <td>1</td>\n",
       "      <td>0</td>\n",
       "      <td>0</td>\n",
       "      <td>0</td>\n",
       "    </tr>\n",
       "    <tr>\n",
       "      <th>1</th>\n",
       "      <td>258900.0</td>\n",
       "      <td>4.0</td>\n",
       "      <td>3.0</td>\n",
       "      <td>2854.0</td>\n",
       "      <td>1957.0</td>\n",
       "      <td>20.0</td>\n",
       "      <td>18295.2</td>\n",
       "      <td>0</td>\n",
       "      <td>0</td>\n",
       "      <td>0</td>\n",
       "      <td>...</td>\n",
       "      <td>0</td>\n",
       "      <td>0</td>\n",
       "      <td>0</td>\n",
       "      <td>1</td>\n",
       "      <td>0</td>\n",
       "      <td>0</td>\n",
       "      <td>0</td>\n",
       "      <td>0</td>\n",
       "      <td>0</td>\n",
       "      <td>0</td>\n",
       "    </tr>\n",
       "    <tr>\n",
       "      <th>2</th>\n",
       "      <td>167000.0</td>\n",
       "      <td>5.0</td>\n",
       "      <td>2.0</td>\n",
       "      <td>3698.0</td>\n",
       "      <td>1875.0</td>\n",
       "      <td>30.0</td>\n",
       "      <td>22215.6</td>\n",
       "      <td>0</td>\n",
       "      <td>0</td>\n",
       "      <td>0</td>\n",
       "      <td>...</td>\n",
       "      <td>0</td>\n",
       "      <td>0</td>\n",
       "      <td>1</td>\n",
       "      <td>0</td>\n",
       "      <td>0</td>\n",
       "      <td>0</td>\n",
       "      <td>0</td>\n",
       "      <td>0</td>\n",
       "      <td>0</td>\n",
       "      <td>0</td>\n",
       "    </tr>\n",
       "    <tr>\n",
       "      <th>3</th>\n",
       "      <td>350000.0</td>\n",
       "      <td>3.0</td>\n",
       "      <td>3.0</td>\n",
       "      <td>2180.0</td>\n",
       "      <td>1965.0</td>\n",
       "      <td>30.0</td>\n",
       "      <td>10890.0</td>\n",
       "      <td>0</td>\n",
       "      <td>0</td>\n",
       "      <td>0</td>\n",
       "      <td>...</td>\n",
       "      <td>0</td>\n",
       "      <td>0</td>\n",
       "      <td>0</td>\n",
       "      <td>1</td>\n",
       "      <td>0</td>\n",
       "      <td>0</td>\n",
       "      <td>0</td>\n",
       "      <td>0</td>\n",
       "      <td>0</td>\n",
       "      <td>1</td>\n",
       "    </tr>\n",
       "    <tr>\n",
       "      <th>4</th>\n",
       "      <td>219900.0</td>\n",
       "      <td>3.0</td>\n",
       "      <td>3.0</td>\n",
       "      <td>2994.0</td>\n",
       "      <td>1985.0</td>\n",
       "      <td>20.0</td>\n",
       "      <td>68389.2</td>\n",
       "      <td>0</td>\n",
       "      <td>0</td>\n",
       "      <td>0</td>\n",
       "      <td>...</td>\n",
       "      <td>0</td>\n",
       "      <td>0</td>\n",
       "      <td>0</td>\n",
       "      <td>0</td>\n",
       "      <td>1</td>\n",
       "      <td>0</td>\n",
       "      <td>0</td>\n",
       "      <td>0</td>\n",
       "      <td>0</td>\n",
       "      <td>0</td>\n",
       "    </tr>\n",
       "    <tr>\n",
       "      <th>...</th>\n",
       "      <td>...</td>\n",
       "      <td>...</td>\n",
       "      <td>...</td>\n",
       "      <td>...</td>\n",
       "      <td>...</td>\n",
       "      <td>...</td>\n",
       "      <td>...</td>\n",
       "      <td>...</td>\n",
       "      <td>...</td>\n",
       "      <td>...</td>\n",
       "      <td>...</td>\n",
       "      <td>...</td>\n",
       "      <td>...</td>\n",
       "      <td>...</td>\n",
       "      <td>...</td>\n",
       "      <td>...</td>\n",
       "      <td>...</td>\n",
       "      <td>...</td>\n",
       "      <td>...</td>\n",
       "      <td>...</td>\n",
       "      <td>...</td>\n",
       "    </tr>\n",
       "    <tr>\n",
       "      <th>778</th>\n",
       "      <td>395000.0</td>\n",
       "      <td>3.0</td>\n",
       "      <td>3.0</td>\n",
       "      <td>1792.0</td>\n",
       "      <td>1936.0</td>\n",
       "      <td>20.0</td>\n",
       "      <td>15681.6</td>\n",
       "      <td>0</td>\n",
       "      <td>0</td>\n",
       "      <td>0</td>\n",
       "      <td>...</td>\n",
       "      <td>0</td>\n",
       "      <td>0</td>\n",
       "      <td>0</td>\n",
       "      <td>1</td>\n",
       "      <td>0</td>\n",
       "      <td>0</td>\n",
       "      <td>0</td>\n",
       "      <td>0</td>\n",
       "      <td>0</td>\n",
       "      <td>0</td>\n",
       "    </tr>\n",
       "    <tr>\n",
       "      <th>779</th>\n",
       "      <td>149900.0</td>\n",
       "      <td>3.0</td>\n",
       "      <td>2.0</td>\n",
       "      <td>1144.0</td>\n",
       "      <td>1930.0</td>\n",
       "      <td>6.0</td>\n",
       "      <td>3584.0</td>\n",
       "      <td>0</td>\n",
       "      <td>0</td>\n",
       "      <td>0</td>\n",
       "      <td>...</td>\n",
       "      <td>0</td>\n",
       "      <td>0</td>\n",
       "      <td>0</td>\n",
       "      <td>0</td>\n",
       "      <td>0</td>\n",
       "      <td>0</td>\n",
       "      <td>0</td>\n",
       "      <td>0</td>\n",
       "      <td>0</td>\n",
       "      <td>0</td>\n",
       "    </tr>\n",
       "    <tr>\n",
       "      <th>780</th>\n",
       "      <td>274900.0</td>\n",
       "      <td>4.0</td>\n",
       "      <td>3.0</td>\n",
       "      <td>2433.0</td>\n",
       "      <td>1904.0</td>\n",
       "      <td>20.0</td>\n",
       "      <td>6699.0</td>\n",
       "      <td>0</td>\n",
       "      <td>0</td>\n",
       "      <td>0</td>\n",
       "      <td>...</td>\n",
       "      <td>0</td>\n",
       "      <td>0</td>\n",
       "      <td>0</td>\n",
       "      <td>1</td>\n",
       "      <td>0</td>\n",
       "      <td>0</td>\n",
       "      <td>0</td>\n",
       "      <td>0</td>\n",
       "      <td>0</td>\n",
       "      <td>1</td>\n",
       "    </tr>\n",
       "    <tr>\n",
       "      <th>781</th>\n",
       "      <td>269000.0</td>\n",
       "      <td>3.0</td>\n",
       "      <td>2.0</td>\n",
       "      <td>1328.0</td>\n",
       "      <td>1950.0</td>\n",
       "      <td>20.0</td>\n",
       "      <td>34848.0</td>\n",
       "      <td>0</td>\n",
       "      <td>0</td>\n",
       "      <td>0</td>\n",
       "      <td>...</td>\n",
       "      <td>0</td>\n",
       "      <td>0</td>\n",
       "      <td>0</td>\n",
       "      <td>1</td>\n",
       "      <td>0</td>\n",
       "      <td>0</td>\n",
       "      <td>0</td>\n",
       "      <td>0</td>\n",
       "      <td>0</td>\n",
       "      <td>0</td>\n",
       "    </tr>\n",
       "    <tr>\n",
       "      <th>782</th>\n",
       "      <td>289000.0</td>\n",
       "      <td>3.0</td>\n",
       "      <td>2.0</td>\n",
       "      <td>1560.0</td>\n",
       "      <td>1930.0</td>\n",
       "      <td>10.0</td>\n",
       "      <td>12196.8</td>\n",
       "      <td>0</td>\n",
       "      <td>0</td>\n",
       "      <td>0</td>\n",
       "      <td>...</td>\n",
       "      <td>0</td>\n",
       "      <td>0</td>\n",
       "      <td>0</td>\n",
       "      <td>0</td>\n",
       "      <td>0</td>\n",
       "      <td>0</td>\n",
       "      <td>0</td>\n",
       "      <td>0</td>\n",
       "      <td>0</td>\n",
       "      <td>0</td>\n",
       "    </tr>\n",
       "  </tbody>\n",
       "</table>\n",
       "<p>783 rows × 91 columns</p>\n",
       "</div>"
      ],
      "text/plain": [
       "        price  bd_num  ba_num    sqft  Calendar  Parking      Lot  \\\n",
       "0    279900.0     3.0     1.0  1324.0    1940.0      6.0   3049.0   \n",
       "1    258900.0     4.0     3.0  2854.0    1957.0     20.0  18295.2   \n",
       "2    167000.0     5.0     2.0  3698.0    1875.0     30.0  22215.6   \n",
       "3    350000.0     3.0     3.0  2180.0    1965.0     30.0  10890.0   \n",
       "4    219900.0     3.0     3.0  2994.0    1985.0     20.0  68389.2   \n",
       "..        ...     ...     ...     ...       ...      ...      ...   \n",
       "778  395000.0     3.0     3.0  1792.0    1936.0     20.0  15681.6   \n",
       "779  149900.0     3.0     2.0  1144.0    1930.0      6.0   3584.0   \n",
       "780  274900.0     4.0     3.0  2433.0    1904.0     20.0   6699.0   \n",
       "781  269000.0     3.0     2.0  1328.0    1950.0     20.0  34848.0   \n",
       "782  289000.0     3.0     2.0  1560.0    1930.0     10.0  12196.8   \n",
       "\n",
       "     Building_Detached  Building_Duplex  Building_Multifamily  ...  \\\n",
       "0                    0                0                     0  ...   \n",
       "1                    0                0                     0  ...   \n",
       "2                    0                0                     0  ...   \n",
       "3                    0                0                     0  ...   \n",
       "4                    0                0                     0  ...   \n",
       "..                 ...              ...                   ...  ...   \n",
       "778                  0                0                     0  ...   \n",
       "779                  0                0                     0  ...   \n",
       "780                  0                0                     0  ...   \n",
       "781                  0                0                     0  ...   \n",
       "782                  0                0                     0  ...   \n",
       "\n",
       "     Snowflake_central air  Snowflake_wall unit(s)  Snowflake_None  \\\n",
       "0                        0                       0               0   \n",
       "1                        0                       0               0   \n",
       "2                        0                       0               1   \n",
       "3                        0                       0               0   \n",
       "4                        0                       0               0   \n",
       "..                     ...                     ...             ...   \n",
       "778                      0                       0               0   \n",
       "779                      0                       0               0   \n",
       "780                      0                       0               0   \n",
       "781                      0                       0               0   \n",
       "782                      0                       0               0   \n",
       "\n",
       "     Snowflake_Central  Snowflake_No data  Snowflake_other  \\\n",
       "0                    0                  0                0   \n",
       "1                    1                  0                0   \n",
       "2                    0                  0                0   \n",
       "3                    1                  0                0   \n",
       "4                    0                  1                0   \n",
       "..                 ...                ...              ...   \n",
       "778                  1                  0                0   \n",
       "779                  0                  0                0   \n",
       "780                  1                  0                0   \n",
       "781                  1                  0                0   \n",
       "782                  0                  0                0   \n",
       "\n",
       "     Snowflake_Wall unit(s)  Snowflake_Electric  Snowflake_window unit(s)  \\\n",
       "0                         1                   0                         0   \n",
       "1                         0                   0                         0   \n",
       "2                         0                   0                         0   \n",
       "3                         0                   0                         0   \n",
       "4                         0                   0                         0   \n",
       "..                      ...                 ...                       ...   \n",
       "778                       0                   0                         0   \n",
       "779                       0                   0                         0   \n",
       "780                       0                   0                         0   \n",
       "781                       0                   0                         0   \n",
       "782                       0                   0                         0   \n",
       "\n",
       "     Snowflake_electric  \n",
       "0                     0  \n",
       "1                     0  \n",
       "2                     0  \n",
       "3                     1  \n",
       "4                     0  \n",
       "..                  ...  \n",
       "778                   0  \n",
       "779                   0  \n",
       "780                   1  \n",
       "781                   0  \n",
       "782                   0  \n",
       "\n",
       "[783 rows x 91 columns]"
      ]
     },
     "execution_count": 8,
     "metadata": {},
     "output_type": "execute_result"
    }
   ],
   "source": [
    "for col in df.columns:\n",
    "    df[col].fillna(df[col].mean(), inplace=True)\n",
    "df\n"
   ]
  },
  {
   "cell_type": "code",
   "execution_count": 9,
   "metadata": {},
   "outputs": [
    {
     "name": "stdout",
     "output_type": "stream",
     "text": [
      "<class 'pandas.core.frame.DataFrame'>\n",
      "Int64Index: 783 entries, 0 to 782\n",
      "Data columns (total 91 columns):\n",
      " #   Column                                       Non-Null Count  Dtype  \n",
      "---  ------                                       --------------  -----  \n",
      " 0   price                                        783 non-null    float64\n",
      " 1   bd_num                                       783 non-null    float64\n",
      " 2   ba_num                                       783 non-null    float64\n",
      " 3   sqft                                         783 non-null    float64\n",
      " 4   Calendar                                     783 non-null    float64\n",
      " 5   Parking                                      783 non-null    float64\n",
      " 6   Lot                                          783 non-null    float64\n",
      " 7   Building_Detached                            783 non-null    uint8  \n",
      " 8   Building_Duplex                              783 non-null    uint8  \n",
      " 9   Building_Multifamily                         783 non-null    uint8  \n",
      " 10  Building_Quadruplex                          783 non-null    uint8  \n",
      " 11  Building_Single family residence             783 non-null    uint8  \n",
      " 12  Building_Single family residence, townhouse  783 non-null    uint8  \n",
      " 13  Building_Singlefamily                        783 non-null    uint8  \n",
      " 14  Building_Stock cooperative, townhouse        783 non-null    uint8  \n",
      " 15  Building_Townhouse                           783 non-null    uint8  \n",
      " 16  Building_Triplex                             783 non-null    uint8  \n",
      " 17  zipcode_15106                                783 non-null    uint8  \n",
      " 18  zipcode_15120                                783 non-null    uint8  \n",
      " 19  zipcode_15201                                783 non-null    uint8  \n",
      " 20  zipcode_15203                                783 non-null    uint8  \n",
      " 21  zipcode_15204                                783 non-null    uint8  \n",
      " 22  zipcode_15205                                783 non-null    uint8  \n",
      " 23  zipcode_15206                                783 non-null    uint8  \n",
      " 24  zipcode_15207                                783 non-null    uint8  \n",
      " 25  zipcode_15208                                783 non-null    uint8  \n",
      " 26  zipcode_15210                                783 non-null    uint8  \n",
      " 27  zipcode_15211                                783 non-null    uint8  \n",
      " 28  zipcode_15212                                783 non-null    uint8  \n",
      " 29  zipcode_15213                                783 non-null    uint8  \n",
      " 30  zipcode_15214                                783 non-null    uint8  \n",
      " 31  zipcode_15215                                783 non-null    uint8  \n",
      " 32  zipcode_15216                                783 non-null    uint8  \n",
      " 33  zipcode_15217                                783 non-null    uint8  \n",
      " 34  zipcode_15218                                783 non-null    uint8  \n",
      " 35  zipcode_15219                                783 non-null    uint8  \n",
      " 36  zipcode_15220                                783 non-null    uint8  \n",
      " 37  zipcode_15221                                783 non-null    uint8  \n",
      " 38  zipcode_15222                                783 non-null    uint8  \n",
      " 39  zipcode_15224                                783 non-null    uint8  \n",
      " 40  zipcode_15226                                783 non-null    uint8  \n",
      " 41  zipcode_15227                                783 non-null    uint8  \n",
      " 42  zipcode_15232                                783 non-null    uint8  \n",
      " 43  zipcode_15233                                783 non-null    uint8  \n",
      " 44  zipcode_15234                                783 non-null    uint8  \n",
      " 45  zipcode_15235                                783 non-null    uint8  \n",
      " 46  zipcode_15236                                783 non-null    uint8  \n",
      " 47  zipcode_15238                                783 non-null    uint8  \n",
      " 48  zipcode_15260                                783 non-null    uint8  \n",
      " 49  zipcode_15290                                783 non-null    uint8  \n",
      " 50  Heating_90% forced air                       783 non-null    int64  \n",
      " 51  Heating_heat pump                            783 non-null    int64  \n",
      " 52  Heating_natural gas                          783 non-null    int64  \n",
      " 53  Heating_fireplace(s)                         783 non-null    int64  \n",
      " 54  Heating_Oil                                  783 non-null    int64  \n",
      " 55  Heating_hot water                            783 non-null    int64  \n",
      " 56  Heating_Forced air                           783 non-null    int64  \n",
      " 57  Heating_Other                                783 non-null    int64  \n",
      " 58  Heating_forced air                           783 non-null    int64  \n",
      " 59  Heating_Hot water                            783 non-null    int64  \n",
      " 60  Heating_baseboard                            783 non-null    int64  \n",
      " 61  Heating_steam                                783 non-null    int64  \n",
      " 62  Heating_Natural gas                          783 non-null    int64  \n",
      " 63  Heating_Radiant                              783 non-null    int64  \n",
      " 64  Heating_gas                                  783 non-null    int64  \n",
      " 65  Heating_zoned                                783 non-null    int64  \n",
      " 66  Heating_radiant                              783 non-null    int64  \n",
      " 67  Heating_Central                              783 non-null    int64  \n",
      " 68  Heating_No data                              783 non-null    int64  \n",
      " 69  Heating_Electric                             783 non-null    int64  \n",
      " 70  Heating_propane - leased                     783 non-null    int64  \n",
      " 71  Snowflake_Ceiling fan(s)                     783 non-null    int64  \n",
      " 72  Snowflake_Window a/c                         783 non-null    int64  \n",
      " 73  Snowflake_Central air                        783 non-null    int64  \n",
      " 74  Snowflake_Attic fan                          783 non-null    int64  \n",
      " 75  Snowflake_Gas                                783 non-null    int64  \n",
      " 76  Snowflake_Central a/c                        783 non-null    int64  \n",
      " 77  Snowflake_window a/c                         783 non-null    int64  \n",
      " 78  Snowflake_Other                              783 non-null    int64  \n",
      " 79  Snowflake_central a/c                        783 non-null    int64  \n",
      " 80  Snowflake_gas                                783 non-null    int64  \n",
      " 81  Snowflake_central air                        783 non-null    int64  \n",
      " 82  Snowflake_wall unit(s)                       783 non-null    int64  \n",
      " 83  Snowflake_None                               783 non-null    int64  \n",
      " 84  Snowflake_Central                            783 non-null    int64  \n",
      " 85  Snowflake_No data                            783 non-null    int64  \n",
      " 86  Snowflake_other                              783 non-null    int64  \n",
      " 87  Snowflake_Wall unit(s)                       783 non-null    int64  \n",
      " 88  Snowflake_Electric                           783 non-null    int64  \n",
      " 89  Snowflake_window unit(s)                     783 non-null    int64  \n",
      " 90  Snowflake_electric                           783 non-null    int64  \n",
      "dtypes: float64(7), int64(41), uint8(43)\n",
      "memory usage: 332.6 KB\n"
     ]
    }
   ],
   "source": [
    "df.info()\n"
   ]
  },
  {
   "cell_type": "code",
   "execution_count": 10,
   "metadata": {},
   "outputs": [
    {
     "data": {
      "text/html": [
       "<div>\n",
       "<style scoped>\n",
       "    .dataframe tbody tr th:only-of-type {\n",
       "        vertical-align: middle;\n",
       "    }\n",
       "\n",
       "    .dataframe tbody tr th {\n",
       "        vertical-align: top;\n",
       "    }\n",
       "\n",
       "    .dataframe thead th {\n",
       "        text-align: right;\n",
       "    }\n",
       "</style>\n",
       "<table border=\"1\" class=\"dataframe\">\n",
       "  <thead>\n",
       "    <tr style=\"text-align: right;\">\n",
       "      <th></th>\n",
       "      <th>price</th>\n",
       "      <th>bd_num</th>\n",
       "      <th>ba_num</th>\n",
       "      <th>sqft</th>\n",
       "      <th>Calendar</th>\n",
       "      <th>Parking</th>\n",
       "      <th>Lot</th>\n",
       "      <th>Building_Detached</th>\n",
       "      <th>Building_Duplex</th>\n",
       "      <th>Building_Multifamily</th>\n",
       "      <th>...</th>\n",
       "      <th>Snowflake_central air</th>\n",
       "      <th>Snowflake_wall unit(s)</th>\n",
       "      <th>Snowflake_None</th>\n",
       "      <th>Snowflake_Central</th>\n",
       "      <th>Snowflake_No data</th>\n",
       "      <th>Snowflake_other</th>\n",
       "      <th>Snowflake_Wall unit(s)</th>\n",
       "      <th>Snowflake_Electric</th>\n",
       "      <th>Snowflake_window unit(s)</th>\n",
       "      <th>Snowflake_electric</th>\n",
       "    </tr>\n",
       "  </thead>\n",
       "  <tbody>\n",
       "    <tr>\n",
       "      <th>0</th>\n",
       "      <td>279900.0</td>\n",
       "      <td>3.0</td>\n",
       "      <td>1.0</td>\n",
       "      <td>1324.0</td>\n",
       "      <td>1940.0</td>\n",
       "      <td>6.0</td>\n",
       "      <td>3049.0</td>\n",
       "      <td>0</td>\n",
       "      <td>0</td>\n",
       "      <td>0</td>\n",
       "      <td>...</td>\n",
       "      <td>0</td>\n",
       "      <td>0</td>\n",
       "      <td>0</td>\n",
       "      <td>0</td>\n",
       "      <td>0</td>\n",
       "      <td>0</td>\n",
       "      <td>1</td>\n",
       "      <td>0</td>\n",
       "      <td>0</td>\n",
       "      <td>0</td>\n",
       "    </tr>\n",
       "    <tr>\n",
       "      <th>1</th>\n",
       "      <td>258900.0</td>\n",
       "      <td>4.0</td>\n",
       "      <td>3.0</td>\n",
       "      <td>2854.0</td>\n",
       "      <td>1957.0</td>\n",
       "      <td>20.0</td>\n",
       "      <td>18295.2</td>\n",
       "      <td>0</td>\n",
       "      <td>0</td>\n",
       "      <td>0</td>\n",
       "      <td>...</td>\n",
       "      <td>0</td>\n",
       "      <td>0</td>\n",
       "      <td>0</td>\n",
       "      <td>1</td>\n",
       "      <td>0</td>\n",
       "      <td>0</td>\n",
       "      <td>0</td>\n",
       "      <td>0</td>\n",
       "      <td>0</td>\n",
       "      <td>0</td>\n",
       "    </tr>\n",
       "    <tr>\n",
       "      <th>2</th>\n",
       "      <td>167000.0</td>\n",
       "      <td>5.0</td>\n",
       "      <td>2.0</td>\n",
       "      <td>3698.0</td>\n",
       "      <td>1875.0</td>\n",
       "      <td>30.0</td>\n",
       "      <td>22215.6</td>\n",
       "      <td>0</td>\n",
       "      <td>0</td>\n",
       "      <td>0</td>\n",
       "      <td>...</td>\n",
       "      <td>0</td>\n",
       "      <td>0</td>\n",
       "      <td>1</td>\n",
       "      <td>0</td>\n",
       "      <td>0</td>\n",
       "      <td>0</td>\n",
       "      <td>0</td>\n",
       "      <td>0</td>\n",
       "      <td>0</td>\n",
       "      <td>0</td>\n",
       "    </tr>\n",
       "    <tr>\n",
       "      <th>3</th>\n",
       "      <td>350000.0</td>\n",
       "      <td>3.0</td>\n",
       "      <td>3.0</td>\n",
       "      <td>2180.0</td>\n",
       "      <td>1965.0</td>\n",
       "      <td>30.0</td>\n",
       "      <td>10890.0</td>\n",
       "      <td>0</td>\n",
       "      <td>0</td>\n",
       "      <td>0</td>\n",
       "      <td>...</td>\n",
       "      <td>0</td>\n",
       "      <td>0</td>\n",
       "      <td>0</td>\n",
       "      <td>1</td>\n",
       "      <td>0</td>\n",
       "      <td>0</td>\n",
       "      <td>0</td>\n",
       "      <td>0</td>\n",
       "      <td>0</td>\n",
       "      <td>1</td>\n",
       "    </tr>\n",
       "    <tr>\n",
       "      <th>4</th>\n",
       "      <td>219900.0</td>\n",
       "      <td>3.0</td>\n",
       "      <td>3.0</td>\n",
       "      <td>2994.0</td>\n",
       "      <td>1985.0</td>\n",
       "      <td>20.0</td>\n",
       "      <td>68389.2</td>\n",
       "      <td>0</td>\n",
       "      <td>0</td>\n",
       "      <td>0</td>\n",
       "      <td>...</td>\n",
       "      <td>0</td>\n",
       "      <td>0</td>\n",
       "      <td>0</td>\n",
       "      <td>0</td>\n",
       "      <td>1</td>\n",
       "      <td>0</td>\n",
       "      <td>0</td>\n",
       "      <td>0</td>\n",
       "      <td>0</td>\n",
       "      <td>0</td>\n",
       "    </tr>\n",
       "  </tbody>\n",
       "</table>\n",
       "<p>5 rows × 91 columns</p>\n",
       "</div>"
      ],
      "text/plain": [
       "      price  bd_num  ba_num    sqft  Calendar  Parking      Lot  \\\n",
       "0  279900.0     3.0     1.0  1324.0    1940.0      6.0   3049.0   \n",
       "1  258900.0     4.0     3.0  2854.0    1957.0     20.0  18295.2   \n",
       "2  167000.0     5.0     2.0  3698.0    1875.0     30.0  22215.6   \n",
       "3  350000.0     3.0     3.0  2180.0    1965.0     30.0  10890.0   \n",
       "4  219900.0     3.0     3.0  2994.0    1985.0     20.0  68389.2   \n",
       "\n",
       "   Building_Detached  Building_Duplex  Building_Multifamily  ...  \\\n",
       "0                  0                0                     0  ...   \n",
       "1                  0                0                     0  ...   \n",
       "2                  0                0                     0  ...   \n",
       "3                  0                0                     0  ...   \n",
       "4                  0                0                     0  ...   \n",
       "\n",
       "   Snowflake_central air  Snowflake_wall unit(s)  Snowflake_None  \\\n",
       "0                      0                       0               0   \n",
       "1                      0                       0               0   \n",
       "2                      0                       0               1   \n",
       "3                      0                       0               0   \n",
       "4                      0                       0               0   \n",
       "\n",
       "   Snowflake_Central  Snowflake_No data  Snowflake_other  \\\n",
       "0                  0                  0                0   \n",
       "1                  1                  0                0   \n",
       "2                  0                  0                0   \n",
       "3                  1                  0                0   \n",
       "4                  0                  1                0   \n",
       "\n",
       "   Snowflake_Wall unit(s)  Snowflake_Electric  Snowflake_window unit(s)  \\\n",
       "0                       1                   0                         0   \n",
       "1                       0                   0                         0   \n",
       "2                       0                   0                         0   \n",
       "3                       0                   0                         0   \n",
       "4                       0                   0                         0   \n",
       "\n",
       "   Snowflake_electric  \n",
       "0                   0  \n",
       "1                   0  \n",
       "2                   0  \n",
       "3                   1  \n",
       "4                   0  \n",
       "\n",
       "[5 rows x 91 columns]"
      ]
     },
     "execution_count": 10,
     "metadata": {},
     "output_type": "execute_result"
    }
   ],
   "source": [
    "df.head(5)\n"
   ]
  },
  {
   "cell_type": "markdown",
   "metadata": {},
   "source": [
    "## More feature engineering before training\n"
   ]
  },
  {
   "cell_type": "code",
   "execution_count": 11,
   "metadata": {},
   "outputs": [
    {
     "name": "stdout",
     "output_type": "stream",
     "text": [
      "2022\n"
     ]
    }
   ],
   "source": [
    "# year convert to the year gap towards this year\n",
    "from datetime import datetime\n",
    "from sklearn.preprocessing import MinMaxScaler\n",
    "\n",
    "print(datetime.today().year)\n",
    "df['Calendar'] = 2022 - df['Calendar']\n",
    "\n",
    "# scale = MinMaxScaler()\n",
    "# df = scale.fit_transform(df)\n",
    "\n",
    "\n"
   ]
  },
  {
   "cell_type": "code",
   "execution_count": 12,
   "metadata": {},
   "outputs": [],
   "source": [
    "# df.describe()\n"
   ]
  },
  {
   "cell_type": "markdown",
   "metadata": {},
   "source": [
    "## Begin model training\n",
    "\n",
    "[Linear Regressions and Split Datasets Using Sklearn](https://medium.com/the-code-monster/split-a-dataset-into-train-and-test-datasets-using-sk-learn-acc7fd1802e0)\n"
   ]
  },
  {
   "cell_type": "code",
   "execution_count": 13,
   "metadata": {},
   "outputs": [],
   "source": [
    "from sklearn.model_selection import train_test_split\n",
    "from matplotlib import pyplot as plt\n",
    "import plotly.express as px\n"
   ]
  },
  {
   "cell_type": "code",
   "execution_count": 14,
   "metadata": {},
   "outputs": [],
   "source": [
    "# plt.scatter(df['price'],df['sqft'])\n"
   ]
  },
  {
   "cell_type": "code",
   "execution_count": 15,
   "metadata": {},
   "outputs": [],
   "source": [
    "X = df[list(df.columns)[1:]]\n",
    "Y = df['price']\n",
    "# X.head(10)\n"
   ]
  },
  {
   "cell_type": "code",
   "execution_count": 16,
   "metadata": {},
   "outputs": [],
   "source": [
    "x_train, x_test, y_train, y_test = train_test_split(X, Y, test_size=0.2)\n",
    "# print the data\n",
    "# x_train\n"
   ]
  },
  {
   "cell_type": "code",
   "execution_count": 17,
   "metadata": {},
   "outputs": [],
   "source": [
    "from sklearn.linear_model import LinearRegression\n",
    "lr = LinearRegression()\n"
   ]
  },
  {
   "cell_type": "code",
   "execution_count": 18,
   "metadata": {},
   "outputs": [
    {
     "data": {
      "text/plain": [
       "LinearRegression()"
      ]
     },
     "execution_count": 18,
     "metadata": {},
     "output_type": "execute_result"
    }
   ],
   "source": [
    "lr.fit(x_train, y_train)\n"
   ]
  },
  {
   "cell_type": "code",
   "execution_count": 19,
   "metadata": {},
   "outputs": [
    {
     "data": {
      "text/plain": [
       "0.7720395334091457"
      ]
     },
     "execution_count": 19,
     "metadata": {},
     "output_type": "execute_result"
    }
   ],
   "source": [
    "lr.score(x_test, y_test)\n"
   ]
  },
  {
   "cell_type": "code",
   "execution_count": 20,
   "metadata": {},
   "outputs": [
    {
     "data": {
      "text/plain": [
       "<matplotlib.collections.PathCollection at 0x7ff5c83123a0>"
      ]
     },
     "execution_count": 20,
     "metadata": {},
     "output_type": "execute_result"
    },
    {
     "data": {
      "image/png": "[encoded data removed]",
      "text/plain": [
       "<Figure size 432x288 with 1 Axes>"
      ]
     },
     "metadata": {
      "needs_background": "light"
     },
     "output_type": "display_data"
    }
   ],
   "source": [
    "plt.scatter(y_test, lr.predict(x_test))\n"
   ]
  },
  {
   "cell_type": "code",
   "execution_count": 23,
   "metadata": {},
   "outputs": [
    {
     "data": {
      "application/vnd.plotly.v1+json": {
       "config": {
        "plotlyServerURL": "https://plot.ly"
       },
       "data": [
        {
         "hovertemplate": "x=%{x}<br>y=%{y}<extra></extra>",
         "legendgroup": "",
         "marker": {
          "color": "#636efa",
          "symbol": "circle"
         },
         "mode": "markers",
         "name": "",
         "orientation": "v",
         "showlegend": false,
         "type": "scatter",
         "x": [
          189900,
          130000,
          425000,
          375000,
          214900,
          579000,
          225000,
          485000,
          174900,
          125000,
          74900,
          170000,
          85000,
          295000,
          230000,
          4400000,
          339000,
          156000,
          178900,
          45500,
          99000,
          119900,
          399900,
          129000,
          99900,
          279000,
          700000,
          159000,
          145000,
          155000,
          120000,
          239000,
          39900,
          229000,
          125820,
          319000,
          309900,
          219000,
          80000,
          235000,
          50000,
          340000,
          289900,
          269000,
          134900,
          290000,
          139900,
          99900,
          635000,
          180000,
          157000,
          79900,
          185000,
          189900,
          39000,
          239000,
          849000,
          300000,
          244000,
          155000,
          169000,
          239900,
          149900,
          329900,
          175000,
          989000,
          80000,
          50000,
          233000,
          535000,
          219000,
          74900,
          194900,
          249500,
          150000,
          234500,
          195000,
          234900,
          109900,
          299000,
          565000,
          82400,
          640000,
          102500,
          289000,
          300000,
          295000,
          407000,
          349900,
          219000,
          219900,
          324500,
          320000,
          850000,
          159900,
          399000,
          330000,
          119900,
          119000,
          169900,
          89900,
          89900,
          54000,
          299900,
          147900,
          129999,
          90000,
          49750,
          157000,
          275000,
          104900,
          2800000,
          119900,
          315000,
          150000,
          225000,
          139900,
          369900,
          869900,
          199900,
          525000,
          195000,
          69900,
          164900,
          219900,
          245000,
          686000,
          239000,
          4400000,
          125000,
          365000,
          270000,
          450000,
          255000,
          539900,
          155000,
          22900,
          299000,
          159900,
          515000,
          249000,
          636000,
          149900,
          179500,
          210000,
          325000,
          199000,
          1700000,
          219900,
          99900,
          249900,
          999000,
          350000,
          329900,
          169000,
          227500,
          99900
         ],
         "xaxis": "x",
         "y": [
          154406.66624206468,
          290592.4777690726,
          412250.2867267113,
          682033.308767223,
          92360.339860498,
          587643.4995404059,
          202601.0608984658,
          609538.8523926086,
          424557.9000315225,
          151454.92879240634,
          84693.24966107268,
          -34493.49385226965,
          20484.252139479562,
          218283.76590329327,
          87008.91989665572,
          4562740.630031997,
          399890.725173726,
          -7131.30726778807,
          105745.70512429677,
          -57005.78125754201,
          260729.51261642692,
          -42848.51477702221,
          509799.6895429776,
          -67219.39275536458,
          198644.1631237046,
          206619.98719468358,
          1125934.0458819442,
          258576.0602312868,
          295874.8249952629,
          291262.12683449144,
          86387.04026453599,
          156434.97560245323,
          -71411.637547264,
          342282.89832164894,
          713753.2667878877,
          414047.78310009267,
          411549.9696406954,
          446563.0825566895,
          64059.05870929384,
          225832.00058767176,
          155787.22319172928,
          379358.733322214,
          221214.39196041308,
          208506.82143374183,
          -44288.178167305436,
          250603.63949177507,
          -27653.19510593306,
          228104.04189159157,
          799650.45031586,
          409345.1967074147,
          40968.61139859975,
          -184813.80114330797,
          196952.7928929563,
          83821.13569888016,
          296616.66544988065,
          20845.78074491254,
          891201.445399219,
          197353.55039080628,
          19775.330698859674,
          231267.48580516665,
          -22945.84975880306,
          139171.7211398232,
          397755.01018159406,
          486750.8295580123,
          177288.74855561135,
          655884.7722192045,
          385923.1707262427,
          89218.4615941307,
          256906.9657052392,
          592769.2506216926,
          13017.712324138702,
          -264783.3304365583,
          343104.1083466491,
          188019.5125820072,
          8910.080568448699,
          272048.9164579704,
          86143.51968472407,
          183850.3592040313,
          132245.69973736582,
          171311.06313450338,
          309525.0093426559,
          251280.07513321133,
          266300.78514773166,
          -279938.4982812093,
          238165.00523281842,
          590843.1340392553,
          207788.74488797423,
          966328.2222551304,
          670819.4887276856,
          166812.34667479387,
          132571.91896840418,
          466343.21768692695,
          221432.53516717406,
          177504.40448439762,
          -1382.5874139823718,
          328015.85232775065,
          268656.9161015708,
          107152.93919094198,
          -38535.4115393338,
          272108.29704403714,
          212814.25924639677,
          -4497.265381707664,
          55516.98813846719,
          348512.3597849462,
          267137.4278932943,
          61695.81645136958,
          217519.45288181375,
          519313.6464296065,
          176716.3686181769,
          343336.99828559207,
          119019.06849534635,
          627917.0448108999,
          316329.3669681499,
          186158.36849698087,
          301819.85337730974,
          202123.4087082328,
          134678.8964085615,
          403572.50226942205,
          1636914.8408034104,
          273553.45158697246,
          808264.2098110281,
          184945.3999924317,
          107535.00017198955,
          -38935.93446780248,
          625128.321915627,
          531997.8498379712,
          399999.3286232272,
          61117.612631768774,
          4822275.973819636,
          295284.678282392,
          873828.3592185626,
          179477.1768004481,
          232718.3431932514,
          450959.0249827608,
          529191.9469118831,
          282461.33851332625,
          -87619.14223428513,
          513973.69116627204,
          51605.510762000136,
          517077.05273262935,
          75251.9546904038,
          764946.8937329364,
          11463.934444443614,
          302679.96915168106,
          202123.4087082328,
          147801.03281609993,
          40714.280942205136,
          1938133.883385247,
          145390.47666271369,
          115801.5446530591,
          367543.1355426039,
          1165142.5693598534,
          345029.3878220028,
          211639.37891832634,
          166392.2751495163,
          252785.9015542323,
          -105307.97056148289
         ],
         "yaxis": "y"
        }
       ],
       "layout": {
        "legend": {
         "tracegroupgap": 0
        },
        "margin": {
         "t": 60
        },
        "template": {
         "data": {
          "bar": [
           {
            "error_x": {
             "color": "#2a3f5f"
            },
            "error_y": {
             "color": "#2a3f5f"
            },
            "marker": {
             "line": {
              "color": "#E5ECF6",
              "width": 0.5
             },
             "pattern": {
              "fillmode": "overlay",
              "size": 10,
              "solidity": 0.2
             }
            },
            "type": "bar"
           }
          ],
          "barpolar": [
           {
            "marker": {
             "line": {
              "color": "#E5ECF6",
              "width": 0.5
             },
             "pattern": {
              "fillmode": "overlay",
              "size": 10,
              "solidity": 0.2
             }
            },
            "type": "barpolar"
           }
          ],
          "carpet": [
           {
            "aaxis": {
             "endlinecolor": "#2a3f5f",
             "gridcolor": "white",
             "linecolor": "white",
             "minorgridcolor": "white",
             "startlinecolor": "#2a3f5f"
            },
            "baxis": {
             "endlinecolor": "#2a3f5f",
             "gridcolor": "white",
             "linecolor": "white",
             "minorgridcolor": "white",
             "startlinecolor": "#2a3f5f"
            },
            "type": "carpet"
           }
          ],
          "choropleth": [
           {
            "colorbar": {
             "outlinewidth": 0,
             "ticks": ""
            },
            "type": "choropleth"
           }
          ],
          "contour": [
           {
            "colorbar": {
             "outlinewidth": 0,
             "ticks": ""
            },
            "colorscale": [
             [
              0,
              "#0d0887"
             ],
             [
              0.1111111111111111,
              "#46039f"
             ],
             [
              0.2222222222222222,
              "#7201a8"
             ],
             [
              0.3333333333333333,
              "#9c179e"
             ],
             [
              0.4444444444444444,
              "#bd3786"
             ],
             [
              0.5555555555555556,
              "#d8576b"
             ],
             [
              0.6666666666666666,
              "#ed7953"
             ],
             [
              0.7777777777777778,
              "#fb9f3a"
             ],
             [
              0.8888888888888888,
              "#fdca26"
             ],
             [
              1,
              "#f0f921"
             ]
            ],
            "type": "contour"
           }
          ],
          "contourcarpet": [
           {
            "colorbar": {
             "outlinewidth": 0,
             "ticks": ""
            },
            "type": "contourcarpet"
           }
          ],
          "heatmap": [
           {
            "colorbar": {
             "outlinewidth": 0,
             "ticks": ""
            },
            "colorscale": [
             [
              0,
              "#0d0887"
             ],
             [
              0.1111111111111111,
              "#46039f"
             ],
             [
              0.2222222222222222,
              "#7201a8"
             ],
             [
              0.3333333333333333,
              "#9c179e"
             ],
             [
              0.4444444444444444,
              "#bd3786"
             ],
             [
              0.5555555555555556,
              "#d8576b"
             ],
             [
              0.6666666666666666,
              "#ed7953"
             ],
             [
              0.7777777777777778,
              "#fb9f3a"
             ],
             [
              0.8888888888888888,
              "#fdca26"
             ],
             [
              1,
              "#f0f921"
             ]
            ],
            "type": "heatmap"
           }
          ],
          "heatmapgl": [
           {
            "colorbar": {
             "outlinewidth": 0,
             "ticks": ""
            },
            "colorscale": [
             [
              0,
              "#0d0887"
             ],
             [
              0.1111111111111111,
              "#46039f"
             ],
             [
              0.2222222222222222,
              "#7201a8"
             ],
             [
              0.3333333333333333,
              "#9c179e"
             ],
             [
              0.4444444444444444,
              "#bd3786"
             ],
             [
              0.5555555555555556,
              "#d8576b"
             ],
             [
              0.6666666666666666,
              "#ed7953"
             ],
             [
              0.7777777777777778,
              "#fb9f3a"
             ],
             [
              0.8888888888888888,
              "#fdca26"
             ],
             [
              1,
              "#f0f921"
             ]
            ],
            "type": "heatmapgl"
           }
          ],
          "histogram": [
           {
            "marker": {
             "pattern": {
              "fillmode": "overlay",
              "size": 10,
              "solidity": 0.2
             }
            },
            "type": "histogram"
           }
          ],
          "histogram2d": [
           {
            "colorbar": {
             "outlinewidth": 0,
             "ticks": ""
            },
            "colorscale": [
             [
              0,
              "#0d0887"
             ],
             [
              0.1111111111111111,
              "#46039f"
             ],
             [
              0.2222222222222222,
              "#7201a8"
             ],
             [
              0.3333333333333333,
              "#9c179e"
             ],
             [
              0.4444444444444444,
              "#bd3786"
             ],
             [
              0.5555555555555556,
              "#d8576b"
             ],
             [
              0.6666666666666666,
              "#ed7953"
             ],
             [
              0.7777777777777778,
              "#fb9f3a"
             ],
             [
              0.8888888888888888,
              "#fdca26"
             ],
             [
              1,
              "#f0f921"
             ]
            ],
            "type": "histogram2d"
           }
          ],
          "histogram2dcontour": [
           {
            "colorbar": {
             "outlinewidth": 0,
             "ticks": ""
            },
            "colorscale": [
             [
              0,
              "#0d0887"
             ],
             [
              0.1111111111111111,
              "#46039f"
             ],
             [
              0.2222222222222222,
              "#7201a8"
             ],
             [
              0.3333333333333333,
              "#9c179e"
             ],
             [
              0.4444444444444444,
              "#bd3786"
             ],
             [
              0.5555555555555556,
              "#d8576b"
             ],
             [
              0.6666666666666666,
              "#ed7953"
             ],
             [
              0.7777777777777778,
              "#fb9f3a"
             ],
             [
              0.8888888888888888,
              "#fdca26"
             ],
             [
              1,
              "#f0f921"
             ]
            ],
            "type": "histogram2dcontour"
           }
          ],
          "mesh3d": [
           {
            "colorbar": {
             "outlinewidth": 0,
             "ticks": ""
            },
            "type": "mesh3d"
           }
          ],
          "parcoords": [
           {
            "line": {
             "colorbar": {
              "outlinewidth": 0,
              "ticks": ""
             }
            },
            "type": "parcoords"
           }
          ],
          "pie": [
           {
            "automargin": true,
            "type": "pie"
           }
          ],
          "scatter": [
           {
            "marker": {
             "colorbar": {
              "outlinewidth": 0,
              "ticks": ""
             }
            },
            "type": "scatter"
           }
          ],
          "scatter3d": [
           {
            "line": {
             "colorbar": {
              "outlinewidth": 0,
              "ticks": ""
             }
            },
            "marker": {
             "colorbar": {
              "outlinewidth": 0,
              "ticks": ""
             }
            },
            "type": "scatter3d"
           }
          ],
          "scattercarpet": [
           {
            "marker": {
             "colorbar": {
              "outlinewidth": 0,
              "ticks": ""
             }
            },
            "type": "scattercarpet"
           }
          ],
          "scattergeo": [
           {
            "marker": {
             "colorbar": {
              "outlinewidth": 0,
              "ticks": ""
             }
            },
            "type": "scattergeo"
           }
          ],
          "scattergl": [
           {
            "marker": {
             "colorbar": {
              "outlinewidth": 0,
              "ticks": ""
             }
            },
            "type": "scattergl"
           }
          ],
          "scattermapbox": [
           {
            "marker": {
             "colorbar": {
              "outlinewidth": 0,
              "ticks": ""
             }
            },
            "type": "scattermapbox"
           }
          ],
          "scatterpolar": [
           {
            "marker": {
             "colorbar": {
              "outlinewidth": 0,
              "ticks": ""
             }
            },
            "type": "scatterpolar"
           }
          ],
          "scatterpolargl": [
           {
            "marker": {
             "colorbar": {
              "outlinewidth": 0,
              "ticks": ""
             }
            },
            "type": "scatterpolargl"
           }
          ],
          "scatterternary": [
           {
            "marker": {
             "colorbar": {
              "outlinewidth": 0,
              "ticks": ""
             }
            },
            "type": "scatterternary"
           }
          ],
          "surface": [
           {
            "colorbar": {
             "outlinewidth": 0,
             "ticks": ""
            },
            "colorscale": [
             [
              0,
              "#0d0887"
             ],
             [
              0.1111111111111111,
              "#46039f"
             ],
             [
              0.2222222222222222,
              "#7201a8"
             ],
             [
              0.3333333333333333,
              "#9c179e"
             ],
             [
              0.4444444444444444,
              "#bd3786"
             ],
             [
              0.5555555555555556,
              "#d8576b"
             ],
             [
              0.6666666666666666,
              "#ed7953"
             ],
             [
              0.7777777777777778,
              "#fb9f3a"
             ],
             [
              0.8888888888888888,
              "#fdca26"
             ],
             [
              1,
              "#f0f921"
             ]
            ],
            "type": "surface"
           }
          ],
          "table": [
           {
            "cells": {
             "fill": {
              "color": "#EBF0F8"
             },
             "line": {
              "color": "white"
             }
            },
            "header": {
             "fill": {
              "color": "#C8D4E3"
             },
             "line": {
              "color": "white"
             }
            },
            "type": "table"
           }
          ]
         },
         "layout": {
          "annotationdefaults": {
           "arrowcolor": "#2a3f5f",
           "arrowhead": 0,
           "arrowwidth": 1
          },
          "autotypenumbers": "strict",
          "coloraxis": {
           "colorbar": {
            "outlinewidth": 0,
            "ticks": ""
           }
          },
          "colorscale": {
           "diverging": [
            [
             0,
             "#8e0152"
            ],
            [
             0.1,
             "#c51b7d"
            ],
            [
             0.2,
             "#de77ae"
            ],
            [
             0.3,
             "#f1b6da"
            ],
            [
             0.4,
             "#fde0ef"
            ],
            [
             0.5,
             "#f7f7f7"
            ],
            [
             0.6,
             "#e6f5d0"
            ],
            [
             0.7,
             "#b8e186"
            ],
            [
             0.8,
             "#7fbc41"
            ],
            [
             0.9,
             "#4d9221"
            ],
            [
             1,
             "#276419"
            ]
           ],
           "sequential": [
            [
             0,
             "#0d0887"
            ],
            [
             0.1111111111111111,
             "#46039f"
            ],
            [
             0.2222222222222222,
             "#7201a8"
            ],
            [
             0.3333333333333333,
             "#9c179e"
            ],
            [
             0.4444444444444444,
             "#bd3786"
            ],
            [
             0.5555555555555556,
             "#d8576b"
            ],
            [
             0.6666666666666666,
             "#ed7953"
            ],
            [
             0.7777777777777778,
             "#fb9f3a"
            ],
            [
             0.8888888888888888,
             "#fdca26"
            ],
            [
             1,
             "#f0f921"
            ]
           ],
           "sequentialminus": [
            [
             0,
             "#0d0887"
            ],
            [
             0.1111111111111111,
             "#46039f"
            ],
            [
             0.2222222222222222,
             "#7201a8"
            ],
            [
             0.3333333333333333,
             "#9c179e"
            ],
            [
             0.4444444444444444,
             "#bd3786"
            ],
            [
             0.5555555555555556,
             "#d8576b"
            ],
            [
             0.6666666666666666,
             "#ed7953"
            ],
            [
             0.7777777777777778,
             "#fb9f3a"
            ],
            [
             0.8888888888888888,
             "#fdca26"
            ],
            [
             1,
             "#f0f921"
            ]
           ]
          },
          "colorway": [
           "#636efa",
           "#EF553B",
           "#00cc96",
           "#ab63fa",
           "#FFA15A",
           "#19d3f3",
           "#FF6692",
           "#B6E880",
           "#FF97FF",
           "#FECB52"
          ],
          "font": {
           "color": "#2a3f5f"
          },
          "geo": {
           "bgcolor": "white",
           "lakecolor": "white",
           "landcolor": "#E5ECF6",
           "showlakes": true,
           "showland": true,
           "subunitcolor": "white"
          },
          "hoverlabel": {
           "align": "left"
          },
          "hovermode": "closest",
          "mapbox": {
           "style": "light"
          },
          "paper_bgcolor": "white",
          "plot_bgcolor": "#E5ECF6",
          "polar": {
           "angularaxis": {
            "gridcolor": "white",
            "linecolor": "white",
            "ticks": ""
           },
           "bgcolor": "#E5ECF6",
           "radialaxis": {
            "gridcolor": "white",
            "linecolor": "white",
            "ticks": ""
           }
          },
          "scene": {
           "xaxis": {
            "backgroundcolor": "#E5ECF6",
            "gridcolor": "white",
            "gridwidth": 2,
            "linecolor": "white",
            "showbackground": true,
            "ticks": "",
            "zerolinecolor": "white"
           },
           "yaxis": {
            "backgroundcolor": "#E5ECF6",
            "gridcolor": "white",
            "gridwidth": 2,
            "linecolor": "white",
            "showbackground": true,
            "ticks": "",
            "zerolinecolor": "white"
           },
           "zaxis": {
            "backgroundcolor": "#E5ECF6",
            "gridcolor": "white",
            "gridwidth": 2,
            "linecolor": "white",
            "showbackground": true,
            "ticks": "",
            "zerolinecolor": "white"
           }
          },
          "shapedefaults": {
           "line": {
            "color": "#2a3f5f"
           }
          },
          "ternary": {
           "aaxis": {
            "gridcolor": "white",
            "linecolor": "white",
            "ticks": ""
           },
           "baxis": {
            "gridcolor": "white",
            "linecolor": "white",
            "ticks": ""
           },
           "bgcolor": "#E5ECF6",
           "caxis": {
            "gridcolor": "white",
            "linecolor": "white",
            "ticks": ""
           }
          },
          "title": {
           "x": 0.05
          },
          "xaxis": {
           "automargin": true,
           "gridcolor": "white",
           "linecolor": "white",
           "ticks": "",
           "title": {
            "standoff": 15
           },
           "zerolinecolor": "white",
           "zerolinewidth": 2
          },
          "yaxis": {
           "automargin": true,
           "gridcolor": "white",
           "linecolor": "white",
           "ticks": "",
           "title": {
            "standoff": 15
           },
           "zerolinecolor": "white",
           "zerolinewidth": 2
          }
         }
        },
        "xaxis": {
         "anchor": "y",
         "domain": [
          0,
          1
         ],
         "title": {
          "text": "x"
         }
        },
        "yaxis": {
         "anchor": "x",
         "domain": [
          0,
          1
         ],
         "title": {
          "text": "y"
         }
        }
       }
      }
     },
     "metadata": {},
     "output_type": "display_data"
    }
   ],
   "source": [
    "px.scatter(x=y_test, y=lr.predict(x_test))\n"
   ]
  },
  {
   "cell_type": "code",
   "execution_count": 22,
   "metadata": {},
   "outputs": [
    {
     "data": {
      "application/vnd.plotly.v1+json": {
       "config": {
        "plotlyServerURL": "https://plot.ly"
       },
       "data": [
        {
         "hovertemplate": "x=%{x}<br>y=%{y}<extra></extra>",
         "legendgroup": "",
         "marker": {
          "color": "#636efa",
          "symbol": "circle"
         },
         "mode": "markers",
         "name": "",
         "orientation": "v",
         "showlegend": false,
         "type": "scatter",
         "x": [
          0,
          1,
          2,
          3,
          4
         ],
         "xaxis": "x",
         "y": [
          0,
          1,
          4,
          9,
          16
         ],
         "yaxis": "y"
        }
       ],
       "layout": {
        "legend": {
         "tracegroupgap": 0
        },
        "margin": {
         "t": 60
        },
        "template": {
         "data": {
          "bar": [
           {
            "error_x": {
             "color": "#2a3f5f"
            },
            "error_y": {
             "color": "#2a3f5f"
            },
            "marker": {
             "line": {
              "color": "#E5ECF6",
              "width": 0.5
             },
             "pattern": {
              "fillmode": "overlay",
              "size": 10,
              "solidity": 0.2
             }
            },
            "type": "bar"
           }
          ],
          "barpolar": [
           {
            "marker": {
             "line": {
              "color": "#E5ECF6",
              "width": 0.5
             },
             "pattern": {
              "fillmode": "overlay",
              "size": 10,
              "solidity": 0.2
             }
            },
            "type": "barpolar"
           }
          ],
          "carpet": [
           {
            "aaxis": {
             "endlinecolor": "#2a3f5f",
             "gridcolor": "white",
             "linecolor": "white",
             "minorgridcolor": "white",
             "startlinecolor": "#2a3f5f"
            },
            "baxis": {
             "endlinecolor": "#2a3f5f",
             "gridcolor": "white",
             "linecolor": "white",
             "minorgridcolor": "white",
             "startlinecolor": "#2a3f5f"
            },
            "type": "carpet"
           }
          ],
          "choropleth": [
           {
            "colorbar": {
             "outlinewidth": 0,
             "ticks": ""
            },
            "type": "choropleth"
           }
          ],
          "contour": [
           {
            "colorbar": {
             "outlinewidth": 0,
             "ticks": ""
            },
            "colorscale": [
             [
              0,
              "#0d0887"
             ],
             [
              0.1111111111111111,
              "#46039f"
             ],
             [
              0.2222222222222222,
              "#7201a8"
             ],
             [
              0.3333333333333333,
              "#9c179e"
             ],
             [
              0.4444444444444444,
              "#bd3786"
             ],
             [
              0.5555555555555556,
              "#d8576b"
             ],
             [
              0.6666666666666666,
              "#ed7953"
             ],
             [
              0.7777777777777778,
              "#fb9f3a"
             ],
             [
              0.8888888888888888,
              "#fdca26"
             ],
             [
              1,
              "#f0f921"
             ]
            ],
            "type": "contour"
           }
          ],
          "contourcarpet": [
           {
            "colorbar": {
             "outlinewidth": 0,
             "ticks": ""
            },
            "type": "contourcarpet"
           }
          ],
          "heatmap": [
           {
            "colorbar": {
             "outlinewidth": 0,
             "ticks": ""
            },
            "colorscale": [
             [
              0,
              "#0d0887"
             ],
             [
              0.1111111111111111,
              "#46039f"
             ],
             [
              0.2222222222222222,
              "#7201a8"
             ],
             [
              0.3333333333333333,
              "#9c179e"
             ],
             [
              0.4444444444444444,
              "#bd3786"
             ],
             [
              0.5555555555555556,
              "#d8576b"
             ],
             [
              0.6666666666666666,
              "#ed7953"
             ],
             [
              0.7777777777777778,
              "#fb9f3a"
             ],
             [
              0.8888888888888888,
              "#fdca26"
             ],
             [
              1,
              "#f0f921"
             ]
            ],
            "type": "heatmap"
           }
          ],
          "heatmapgl": [
           {
            "colorbar": {
             "outlinewidth": 0,
             "ticks": ""
            },
            "colorscale": [
             [
              0,
              "#0d0887"
             ],
             [
              0.1111111111111111,
              "#46039f"
             ],
             [
              0.2222222222222222,
              "#7201a8"
             ],
             [
              0.3333333333333333,
              "#9c179e"
             ],
             [
              0.4444444444444444,
              "#bd3786"
             ],
             [
              0.5555555555555556,
              "#d8576b"
             ],
             [
              0.6666666666666666,
              "#ed7953"
             ],
             [
              0.7777777777777778,
              "#fb9f3a"
             ],
             [
              0.8888888888888888,
              "#fdca26"
             ],
             [
              1,
              "#f0f921"
             ]
            ],
            "type": "heatmapgl"
           }
          ],
          "histogram": [
           {
            "marker": {
             "pattern": {
              "fillmode": "overlay",
              "size": 10,
              "solidity": 0.2
             }
            },
            "type": "histogram"
           }
          ],
          "histogram2d": [
           {
            "colorbar": {
             "outlinewidth": 0,
             "ticks": ""
            },
            "colorscale": [
             [
              0,
              "#0d0887"
             ],
             [
              0.1111111111111111,
              "#46039f"
             ],
             [
              0.2222222222222222,
              "#7201a8"
             ],
             [
              0.3333333333333333,
              "#9c179e"
             ],
             [
              0.4444444444444444,
              "#bd3786"
             ],
             [
              0.5555555555555556,
              "#d8576b"
             ],
             [
              0.6666666666666666,
              "#ed7953"
             ],
             [
              0.7777777777777778,
              "#fb9f3a"
             ],
             [
              0.8888888888888888,
              "#fdca26"
             ],
             [
              1,
              "#f0f921"
             ]
            ],
            "type": "histogram2d"
           }
          ],
          "histogram2dcontour": [
           {
            "colorbar": {
             "outlinewidth": 0,
             "ticks": ""
            },
            "colorscale": [
             [
              0,
              "#0d0887"
             ],
             [
              0.1111111111111111,
              "#46039f"
             ],
             [
              0.2222222222222222,
              "#7201a8"
             ],
             [
              0.3333333333333333,
              "#9c179e"
             ],
             [
              0.4444444444444444,
              "#bd3786"
             ],
             [
              0.5555555555555556,
              "#d8576b"
             ],
             [
              0.6666666666666666,
              "#ed7953"
             ],
             [
              0.7777777777777778,
              "#fb9f3a"
             ],
             [
              0.8888888888888888,
              "#fdca26"
             ],
             [
              1,
              "#f0f921"
             ]
            ],
            "type": "histogram2dcontour"
           }
          ],
          "mesh3d": [
           {
            "colorbar": {
             "outlinewidth": 0,
             "ticks": ""
            },
            "type": "mesh3d"
           }
          ],
          "parcoords": [
           {
            "line": {
             "colorbar": {
              "outlinewidth": 0,
              "ticks": ""
             }
            },
            "type": "parcoords"
           }
          ],
          "pie": [
           {
            "automargin": true,
            "type": "pie"
           }
          ],
          "scatter": [
           {
            "marker": {
             "colorbar": {
              "outlinewidth": 0,
              "ticks": ""
             }
            },
            "type": "scatter"
           }
          ],
          "scatter3d": [
           {
            "line": {
             "colorbar": {
              "outlinewidth": 0,
              "ticks": ""
             }
            },
            "marker": {
             "colorbar": {
              "outlinewidth": 0,
              "ticks": ""
             }
            },
            "type": "scatter3d"
           }
          ],
          "scattercarpet": [
           {
            "marker": {
             "colorbar": {
              "outlinewidth": 0,
              "ticks": ""
             }
            },
            "type": "scattercarpet"
           }
          ],
          "scattergeo": [
           {
            "marker": {
             "colorbar": {
              "outlinewidth": 0,
              "ticks": ""
             }
            },
            "type": "scattergeo"
           }
          ],
          "scattergl": [
           {
            "marker": {
             "colorbar": {
              "outlinewidth": 0,
              "ticks": ""
             }
            },
            "type": "scattergl"
           }
          ],
          "scattermapbox": [
           {
            "marker": {
             "colorbar": {
              "outlinewidth": 0,
              "ticks": ""
             }
            },
            "type": "scattermapbox"
           }
          ],
          "scatterpolar": [
           {
            "marker": {
             "colorbar": {
              "outlinewidth": 0,
              "ticks": ""
             }
            },
            "type": "scatterpolar"
           }
          ],
          "scatterpolargl": [
           {
            "marker": {
             "colorbar": {
              "outlinewidth": 0,
              "ticks": ""
             }
            },
            "type": "scatterpolargl"
           }
          ],
          "scatterternary": [
           {
            "marker": {
             "colorbar": {
              "outlinewidth": 0,
              "ticks": ""
             }
            },
            "type": "scatterternary"
           }
          ],
          "surface": [
           {
            "colorbar": {
             "outlinewidth": 0,
             "ticks": ""
            },
            "colorscale": [
             [
              0,
              "#0d0887"
             ],
             [
              0.1111111111111111,
              "#46039f"
             ],
             [
              0.2222222222222222,
              "#7201a8"
             ],
             [
              0.3333333333333333,
              "#9c179e"
             ],
             [
              0.4444444444444444,
              "#bd3786"
             ],
             [
              0.5555555555555556,
              "#d8576b"
             ],
             [
              0.6666666666666666,
              "#ed7953"
             ],
             [
              0.7777777777777778,
              "#fb9f3a"
             ],
             [
              0.8888888888888888,
              "#fdca26"
             ],
             [
              1,
              "#f0f921"
             ]
            ],
            "type": "surface"
           }
          ],
          "table": [
           {
            "cells": {
             "fill": {
              "color": "#EBF0F8"
             },
             "line": {
              "color": "white"
             }
            },
            "header": {
             "fill": {
              "color": "#C8D4E3"
             },
             "line": {
              "color": "white"
             }
            },
            "type": "table"
           }
          ]
         },
         "layout": {
          "annotationdefaults": {
           "arrowcolor": "#2a3f5f",
           "arrowhead": 0,
           "arrowwidth": 1
          },
          "autotypenumbers": "strict",
          "coloraxis": {
           "colorbar": {
            "outlinewidth": 0,
            "ticks": ""
           }
          },
          "colorscale": {
           "diverging": [
            [
             0,
             "#8e0152"
            ],
            [
             0.1,
             "#c51b7d"
            ],
            [
             0.2,
             "#de77ae"
            ],
            [
             0.3,
             "#f1b6da"
            ],
            [
             0.4,
             "#fde0ef"
            ],
            [
             0.5,
             "#f7f7f7"
            ],
            [
             0.6,
             "#e6f5d0"
            ],
            [
             0.7,
             "#b8e186"
            ],
            [
             0.8,
             "#7fbc41"
            ],
            [
             0.9,
             "#4d9221"
            ],
            [
             1,
             "#276419"
            ]
           ],
           "sequential": [
            [
             0,
             "#0d0887"
            ],
            [
             0.1111111111111111,
             "#46039f"
            ],
            [
             0.2222222222222222,
             "#7201a8"
            ],
            [
             0.3333333333333333,
             "#9c179e"
            ],
            [
             0.4444444444444444,
             "#bd3786"
            ],
            [
             0.5555555555555556,
             "#d8576b"
            ],
            [
             0.6666666666666666,
             "#ed7953"
            ],
            [
             0.7777777777777778,
             "#fb9f3a"
            ],
            [
             0.8888888888888888,
             "#fdca26"
            ],
            [
             1,
             "#f0f921"
            ]
           ],
           "sequentialminus": [
            [
             0,
             "#0d0887"
            ],
            [
             0.1111111111111111,
             "#46039f"
            ],
            [
             0.2222222222222222,
             "#7201a8"
            ],
            [
             0.3333333333333333,
             "#9c179e"
            ],
            [
             0.4444444444444444,
             "#bd3786"
            ],
            [
             0.5555555555555556,
             "#d8576b"
            ],
            [
             0.6666666666666666,
             "#ed7953"
            ],
            [
             0.7777777777777778,
             "#fb9f3a"
            ],
            [
             0.8888888888888888,
             "#fdca26"
            ],
            [
             1,
             "#f0f921"
            ]
           ]
          },
          "colorway": [
           "#636efa",
           "#EF553B",
           "#00cc96",
           "#ab63fa",
           "#FFA15A",
           "#19d3f3",
           "#FF6692",
           "#B6E880",
           "#FF97FF",
           "#FECB52"
          ],
          "font": {
           "color": "#2a3f5f"
          },
          "geo": {
           "bgcolor": "white",
           "lakecolor": "white",
           "landcolor": "#E5ECF6",
           "showlakes": true,
           "showland": true,
           "subunitcolor": "white"
          },
          "hoverlabel": {
           "align": "left"
          },
          "hovermode": "closest",
          "mapbox": {
           "style": "light"
          },
          "paper_bgcolor": "white",
          "plot_bgcolor": "#E5ECF6",
          "polar": {
           "angularaxis": {
            "gridcolor": "white",
            "linecolor": "white",
            "ticks": ""
           },
           "bgcolor": "#E5ECF6",
           "radialaxis": {
            "gridcolor": "white",
            "linecolor": "white",
            "ticks": ""
           }
          },
          "scene": {
           "xaxis": {
            "backgroundcolor": "#E5ECF6",
            "gridcolor": "white",
            "gridwidth": 2,
            "linecolor": "white",
            "showbackground": true,
            "ticks": "",
            "zerolinecolor": "white"
           },
           "yaxis": {
            "backgroundcolor": "#E5ECF6",
            "gridcolor": "white",
            "gridwidth": 2,
            "linecolor": "white",
            "showbackground": true,
            "ticks": "",
            "zerolinecolor": "white"
           },
           "zaxis": {
            "backgroundcolor": "#E5ECF6",
            "gridcolor": "white",
            "gridwidth": 2,
            "linecolor": "white",
            "showbackground": true,
            "ticks": "",
            "zerolinecolor": "white"
           }
          },
          "shapedefaults": {
           "line": {
            "color": "#2a3f5f"
           }
          },
          "ternary": {
           "aaxis": {
            "gridcolor": "white",
            "linecolor": "white",
            "ticks": ""
           },
           "baxis": {
            "gridcolor": "white",
            "linecolor": "white",
            "ticks": ""
           },
           "bgcolor": "#E5ECF6",
           "caxis": {
            "gridcolor": "white",
            "linecolor": "white",
            "ticks": ""
           }
          },
          "title": {
           "x": 0.05
          },
          "xaxis": {
           "automargin": true,
           "gridcolor": "white",
           "linecolor": "white",
           "ticks": "",
           "title": {
            "standoff": 15
           },
           "zerolinecolor": "white",
           "zerolinewidth": 2
          },
          "yaxis": {
           "automargin": true,
           "gridcolor": "white",
           "linecolor": "white",
           "ticks": "",
           "title": {
            "standoff": 15
           },
           "zerolinecolor": "white",
           "zerolinewidth": 2
          }
         }
        },
        "xaxis": {
         "anchor": "y",
         "domain": [
          0,
          1
         ],
         "title": {
          "text": "x"
         }
        },
        "yaxis": {
         "anchor": "x",
         "domain": [
          0,
          1
         ],
         "title": {
          "text": "y"
         }
        }
       }
      }
     },
     "metadata": {},
     "output_type": "display_data"
    }
   ],
   "source": [
    "px.scatter(x=[0, 1, 2, 3, 4], y=[0, 1, 4, 9, 16])\n"
   ]
  },
  {
   "cell_type": "code",
   "execution_count": null,
   "metadata": {},
   "outputs": [],
   "source": []
  }
 ],
 "metadata": {
  "interpreter": {
   "hash": "f77d02840cd0ce834e48b70b5eb944ad83f4bc819f02a128385db65853f22614"
  },
  "kernelspec": {
   "display_name": "Python 3.7.4 64-bit ('venv': venv)",
   "name": "python3"
  },
  "language_info": {
   "codemirror_mode": {
    "name": "ipython",
    "version": 3
   },
   "file_extension": ".py",
   "mimetype": "text/x-python",
   "name": "python",
   "nbconvert_exporter": "python",
   "pygments_lexer": "ipython3",
   "version": "3.8.10"
  },
  "orig_nbformat": 4
 },
 "nbformat": 4,
 "nbformat_minor": 2
}
