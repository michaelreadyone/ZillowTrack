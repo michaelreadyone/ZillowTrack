{
 "cells": [
  {
   "cell_type": "code",
   "execution_count": 1,
   "metadata": {},
   "outputs": [],
   "source": [
    "import numpy as np\n",
    "import pandas as pd\n"
   ]
  },
  {
   "cell_type": "code",
   "execution_count": 2,
   "metadata": {},
   "outputs": [
    {
     "data": {
      "text/html": [
       "<div>\n",
       "<style scoped>\n",
       "    .dataframe tbody tr th:only-of-type {\n",
       "        vertical-align: middle;\n",
       "    }\n",
       "\n",
       "    .dataframe tbody tr th {\n",
       "        vertical-align: top;\n",
       "    }\n",
       "\n",
       "    .dataframe thead th {\n",
       "        text-align: right;\n",
       "    }\n",
       "</style>\n",
       "<table border=\"1\" class=\"dataframe\">\n",
       "  <thead>\n",
       "    <tr style=\"text-align: right;\">\n",
       "      <th></th>\n",
       "      <th>price</th>\n",
       "      <th>bd_num</th>\n",
       "      <th>ba_num</th>\n",
       "      <th>sqft</th>\n",
       "      <th>address</th>\n",
       "      <th>zestimate</th>\n",
       "      <th>Building</th>\n",
       "      <th>Calendar</th>\n",
       "      <th>Heating</th>\n",
       "      <th>Snowflake</th>\n",
       "      <th>Parking</th>\n",
       "      <th>Lot</th>\n",
       "      <th>PriceSquareFeet</th>\n",
       "      <th>url</th>\n",
       "      <th>zipcode</th>\n",
       "    </tr>\n",
       "  </thead>\n",
       "  <tbody>\n",
       "    <tr>\n",
       "      <th>0</th>\n",
       "      <td>$279,900</td>\n",
       "      <td>3</td>\n",
       "      <td>1</td>\n",
       "      <td>1,324</td>\n",
       "      <td>3072 Beechwood Blvd,Pittsburgh, PA 15217</td>\n",
       "      <td>$275,900</td>\n",
       "      <td>Single family residence</td>\n",
       "      <td>Built in 1940</td>\n",
       "      <td>Natural gas, baseboard</td>\n",
       "      <td>Wall unit(s), window a/c</td>\n",
       "      <td>Open parking</td>\n",
       "      <td>3,049 sqft</td>\n",
       "      <td>$211 price/sqft</td>\n",
       "      <td>https://www.zillow.com/homedetails/3072-Beechw...</td>\n",
       "      <td>15106</td>\n",
       "    </tr>\n",
       "    <tr>\n",
       "      <th>1</th>\n",
       "      <td>$258,900</td>\n",
       "      <td>4</td>\n",
       "      <td>3</td>\n",
       "      <td>2,854</td>\n",
       "      <td>304 Washington Ave,New Galilee, PA 16141</td>\n",
       "      <td>Contact Agent</td>\n",
       "      <td>Single family residence</td>\n",
       "      <td>Built in 1957</td>\n",
       "      <td>Natural gas, forced air</td>\n",
       "      <td>Central air</td>\n",
       "      <td>2 Attached garage spaces</td>\n",
       "      <td>0.42 Acres</td>\n",
       "      <td>$91 price/sqft</td>\n",
       "      <td>https://www.zillow.com/homedetails/304-Washing...</td>\n",
       "      <td>15106</td>\n",
       "    </tr>\n",
       "    <tr>\n",
       "      <th>2</th>\n",
       "      <td>$167,000</td>\n",
       "      <td>5</td>\n",
       "      <td>2</td>\n",
       "      <td>3,698</td>\n",
       "      <td>1000 Ridge Ave,New Cumberland, WV 26047</td>\n",
       "      <td>$160,800</td>\n",
       "      <td>Single family residence</td>\n",
       "      <td>Built in 1875</td>\n",
       "      <td>Forced air, fireplace(s), gas</td>\n",
       "      <td>None</td>\n",
       "      <td>3 Garage spaces</td>\n",
       "      <td>0.51 Acres</td>\n",
       "      <td>$45 price/sqft</td>\n",
       "      <td>https://www.zillow.com/homedetails/1000-Ridge-...</td>\n",
       "      <td>15106</td>\n",
       "    </tr>\n",
       "    <tr>\n",
       "      <th>3</th>\n",
       "      <td>$350,000</td>\n",
       "      <td>3</td>\n",
       "      <td>3</td>\n",
       "      <td>2,180</td>\n",
       "      <td>165 Jamison Ln,Monroeville, PA 15146</td>\n",
       "      <td>$350,100</td>\n",
       "      <td>Single family residence</td>\n",
       "      <td>Built in 1965</td>\n",
       "      <td>Electric, radiant</td>\n",
       "      <td>Central air, electric</td>\n",
       "      <td>3 Attached garage spaces</td>\n",
       "      <td>0.25 Acres</td>\n",
       "      <td>$161 price/sqft</td>\n",
       "      <td>https://www.zillow.com/homedetails/165-Jamison...</td>\n",
       "      <td>15106</td>\n",
       "    </tr>\n",
       "    <tr>\n",
       "      <th>4</th>\n",
       "      <td>$219,900</td>\n",
       "      <td>3</td>\n",
       "      <td>3</td>\n",
       "      <td>2,994</td>\n",
       "      <td>35 Northgait Dr,Slippery Rock, PA 16057</td>\n",
       "      <td>None</td>\n",
       "      <td>Single family residence</td>\n",
       "      <td>Built in 1985</td>\n",
       "      <td>No data</td>\n",
       "      <td>No data</td>\n",
       "      <td>2 Attached garage spaces</td>\n",
       "      <td>1.57 Acres</td>\n",
       "      <td>$73 price/sqft</td>\n",
       "      <td>https://www.zillow.com/homedetails/35-Northgai...</td>\n",
       "      <td>15106</td>\n",
       "    </tr>\n",
       "  </tbody>\n",
       "</table>\n",
       "</div>"
      ],
      "text/plain": [
       "      price bd_num ba_num   sqft                                   address  \\\n",
       "0  $279,900      3      1  1,324  3072 Beechwood Blvd,Pittsburgh, PA 15217   \n",
       "1  $258,900      4      3  2,854  304 Washington Ave,New Galilee, PA 16141   \n",
       "2  $167,000      5      2  3,698   1000 Ridge Ave,New Cumberland, WV 26047   \n",
       "3  $350,000      3      3  2,180      165 Jamison Ln,Monroeville, PA 15146   \n",
       "4  $219,900      3      3  2,994   35 Northgait Dr,Slippery Rock, PA 16057   \n",
       "\n",
       "       zestimate                 Building       Calendar  \\\n",
       "0       $275,900  Single family residence  Built in 1940   \n",
       "1  Contact Agent  Single family residence  Built in 1957   \n",
       "2       $160,800  Single family residence  Built in 1875   \n",
       "3       $350,100  Single family residence  Built in 1965   \n",
       "4          None   Single family residence  Built in 1985   \n",
       "\n",
       "                         Heating                 Snowflake  \\\n",
       "0         Natural gas, baseboard  Wall unit(s), window a/c   \n",
       "1        Natural gas, forced air               Central air   \n",
       "2  Forced air, fireplace(s), gas                      None   \n",
       "3              Electric, radiant     Central air, electric   \n",
       "4                        No data                   No data   \n",
       "\n",
       "                    Parking         Lot  PriceSquareFeet  \\\n",
       "0              Open parking  3,049 sqft  $211 price/sqft   \n",
       "1  2 Attached garage spaces  0.42 Acres   $91 price/sqft   \n",
       "2           3 Garage spaces  0.51 Acres   $45 price/sqft   \n",
       "3  3 Attached garage spaces  0.25 Acres  $161 price/sqft   \n",
       "4  2 Attached garage spaces  1.57 Acres   $73 price/sqft   \n",
       "\n",
       "                                                 url  zipcode  \n",
       "0  https://www.zillow.com/homedetails/3072-Beechw...    15106  \n",
       "1  https://www.zillow.com/homedetails/304-Washing...    15106  \n",
       "2  https://www.zillow.com/homedetails/1000-Ridge-...    15106  \n",
       "3  https://www.zillow.com/homedetails/165-Jamison...    15106  \n",
       "4  https://www.zillow.com/homedetails/35-Northgai...    15106  "
      ]
     },
     "execution_count": 2,
     "metadata": {},
     "output_type": "execute_result"
    }
   ],
   "source": [
    "df = pd.read_csv('data/2022-01-05.csv', index_col=0)\n",
    "df.head(5)\n"
   ]
  },
  {
   "cell_type": "markdown",
   "metadata": {},
   "source": [
    "[Feature Engineering for Categorical Attributes](https://dotdata.com/blog/feature-engineering-for-categorical-attributes/)\n",
    "\n",
    "[One-Hot Encoding a Feature on a Pandas Dataframe: Examples](https://queirozf.com/entries/one-hot-encoding-a-feature-on-a-pandas-dataframe-an-example)\n",
    "\n",
    "### Category column process:\n",
    "\n",
    "- Building : One-hot\n",
    "- Heating : One-hot with combination\n",
    "- Snowflake : One-hot with combination\n",
    "- Parking: label encoding\n",
    "- Zipcode: One-hot\n",
    "\n",
    "### Insignificant features:\n",
    "\n",
    "- address\n"
   ]
  },
  {
   "cell_type": "markdown",
   "metadata": {},
   "source": [
    "## Column classify\n"
   ]
  },
  {
   "cell_type": "code",
   "execution_count": 3,
   "metadata": {},
   "outputs": [],
   "source": [
    "# price, bd_num, ba_num, sqft, zestimate, Calendar, Lot, PriceSquareFeet\n",
    "num_cols = ['price', 'bd_num', 'ba_num', 'sqft', 'Calendar']\n",
    "one_hot_cols = ['Building', 'zipcode']\n",
    "one_hot_unstruc_cols = ['Heating', 'Snowflake']\n",
    "ord_unstruc_cols = ['Parking']\n",
    "removed_cols = ['address', 'zestimate', 'PriceSquareFeet', 'url']\n"
   ]
  },
  {
   "cell_type": "markdown",
   "metadata": {},
   "source": [
    "## Column data process function\n"
   ]
  },
  {
   "cell_type": "code",
   "execution_count": 4,
   "metadata": {},
   "outputs": [],
   "source": [
    "def extract_num(num_str):\n",
    "    '''Extract number value from string'''\n",
    "    num_str = str(num_str)\n",
    "    ans = ''\n",
    "    for letter in num_str:\n",
    "        if letter.isdecimal() or letter == '.':\n",
    "            ans += letter\n",
    "    return float(ans) if ans else None\n",
    "\n",
    "\n",
    "def one_hot_transform(df, col_name):\n",
    "    import pandas as pd\n",
    "    # get one hot coding matrix\n",
    "    one_hot_df = pd.get_dummies(df[col_name], prefix=col_name)\n",
    "    # merge one hot with df\n",
    "    df = pd.concat([df, one_hot_df], axis=1)\n",
    "    # delete original feature\n",
    "    df.drop([col_name], axis=1, inplace=True)\n",
    "    return df\n",
    "\n",
    "\n",
    "def one_hot_transform_unstructure(df, col_name, separator):\n",
    "    # first loop through all rows to get all titles\n",
    "    titles = set()\n",
    "    for names in df[col_name]:\n",
    "        for title in names.split(separator):\n",
    "            titles.add(title.strip())\n",
    "    titles = list(titles)\n",
    "    # create new column based on existance of the title in col_name\n",
    "    for title in titles:\n",
    "        df[col_name + '_' +\n",
    "            title] = df[col_name].apply(lambda x: 1 if title in x else 0)\n",
    "    # delete original feature\n",
    "    df.drop([col_name], axis=1, inplace=True)\n",
    "    return df\n",
    "\n",
    "# special for one col\n",
    "\n",
    "\n",
    "def parking_score(info):\n",
    "    '''\n",
    "    scale = {\n",
    "        'garage': 10,\n",
    "        'covered': 8,\n",
    "        'parking': 6\n",
    "    }\n",
    "    '''\n",
    "    num = extract_num(info)\n",
    "    num = num if num else 1\n",
    "    # print(num)\n",
    "    if 'garage' in info.lower():\n",
    "        return 10 * num\n",
    "    elif 'covered' in info.lower():\n",
    "        return 8 * num\n",
    "    elif 'parking' in info.lower():\n",
    "        return 6 * num\n",
    "    return 0\n",
    "\n",
    "\n",
    "def lot_area(info):\n",
    "    info = str(info)\n",
    "    multiply = 43560 if 'acres' in info.lower() else 1\n",
    "    val = extract_num(info)\n",
    "    res = val*multiply if val else None\n",
    "    return res\n"
   ]
  },
  {
   "cell_type": "markdown",
   "metadata": {},
   "source": [
    "## Remove cols\n"
   ]
  },
  {
   "cell_type": "code",
   "execution_count": 5,
   "metadata": {},
   "outputs": [],
   "source": [
    "for col in removed_cols:\n",
    "    del df[col]\n"
   ]
  },
  {
   "cell_type": "markdown",
   "metadata": {},
   "source": [
    "## Apply functions to columns\n"
   ]
  },
  {
   "cell_type": "code",
   "execution_count": 6,
   "metadata": {},
   "outputs": [],
   "source": [
    "df['Parking'] = df['Parking'].apply(parking_score)\n",
    "df['Lot'] = df['Lot'].apply(lot_area)\n",
    "for col in num_cols:\n",
    "    df[col] = df[col].apply(extract_num)\n",
    "for col in one_hot_cols:\n",
    "    df = one_hot_transform(df, col)\n",
    "for col in one_hot_unstruc_cols:\n",
    "    df = one_hot_transform_unstructure(df, col, ',')\n"
   ]
  },
  {
   "cell_type": "markdown",
   "metadata": {},
   "source": [
    "## Replace None with average\n"
   ]
  },
  {
   "cell_type": "code",
   "execution_count": 7,
   "metadata": {},
   "outputs": [
    {
     "name": "stdout",
     "output_type": "stream",
     "text": [
      "<class 'pandas.core.frame.DataFrame'>\n",
      "Int64Index: 783 entries, 0 to 782\n",
      "Data columns (total 91 columns):\n",
      " #   Column                                       Non-Null Count  Dtype  \n",
      "---  ------                                       --------------  -----  \n",
      " 0   price                                        783 non-null    float64\n",
      " 1   bd_num                                       686 non-null    float64\n",
      " 2   ba_num                                       684 non-null    float64\n",
      " 3   sqft                                         545 non-null    float64\n",
      " 4   Calendar                                     761 non-null    float64\n",
      " 5   Parking                                      783 non-null    float64\n",
      " 6   Lot                                          623 non-null    float64\n",
      " 7   Building_Detached                            783 non-null    uint8  \n",
      " 8   Building_Duplex                              783 non-null    uint8  \n",
      " 9   Building_Multifamily                         783 non-null    uint8  \n",
      " 10  Building_Quadruplex                          783 non-null    uint8  \n",
      " 11  Building_Single family residence             783 non-null    uint8  \n",
      " 12  Building_Single family residence, townhouse  783 non-null    uint8  \n",
      " 13  Building_Singlefamily                        783 non-null    uint8  \n",
      " 14  Building_Stock cooperative, townhouse        783 non-null    uint8  \n",
      " 15  Building_Townhouse                           783 non-null    uint8  \n",
      " 16  Building_Triplex                             783 non-null    uint8  \n",
      " 17  zipcode_15106                                783 non-null    uint8  \n",
      " 18  zipcode_15120                                783 non-null    uint8  \n",
      " 19  zipcode_15201                                783 non-null    uint8  \n",
      " 20  zipcode_15203                                783 non-null    uint8  \n",
      " 21  zipcode_15204                                783 non-null    uint8  \n",
      " 22  zipcode_15205                                783 non-null    uint8  \n",
      " 23  zipcode_15206                                783 non-null    uint8  \n",
      " 24  zipcode_15207                                783 non-null    uint8  \n",
      " 25  zipcode_15208                                783 non-null    uint8  \n",
      " 26  zipcode_15210                                783 non-null    uint8  \n",
      " 27  zipcode_15211                                783 non-null    uint8  \n",
      " 28  zipcode_15212                                783 non-null    uint8  \n",
      " 29  zipcode_15213                                783 non-null    uint8  \n",
      " 30  zipcode_15214                                783 non-null    uint8  \n",
      " 31  zipcode_15215                                783 non-null    uint8  \n",
      " 32  zipcode_15216                                783 non-null    uint8  \n",
      " 33  zipcode_15217                                783 non-null    uint8  \n",
      " 34  zipcode_15218                                783 non-null    uint8  \n",
      " 35  zipcode_15219                                783 non-null    uint8  \n",
      " 36  zipcode_15220                                783 non-null    uint8  \n",
      " 37  zipcode_15221                                783 non-null    uint8  \n",
      " 38  zipcode_15222                                783 non-null    uint8  \n",
      " 39  zipcode_15224                                783 non-null    uint8  \n",
      " 40  zipcode_15226                                783 non-null    uint8  \n",
      " 41  zipcode_15227                                783 non-null    uint8  \n",
      " 42  zipcode_15232                                783 non-null    uint8  \n",
      " 43  zipcode_15233                                783 non-null    uint8  \n",
      " 44  zipcode_15234                                783 non-null    uint8  \n",
      " 45  zipcode_15235                                783 non-null    uint8  \n",
      " 46  zipcode_15236                                783 non-null    uint8  \n",
      " 47  zipcode_15238                                783 non-null    uint8  \n",
      " 48  zipcode_15260                                783 non-null    uint8  \n",
      " 49  zipcode_15290                                783 non-null    uint8  \n",
      " 50  Heating_Forced air                           783 non-null    int64  \n",
      " 51  Heating_hot water                            783 non-null    int64  \n",
      " 52  Heating_Radiant                              783 non-null    int64  \n",
      " 53  Heating_Electric                             783 non-null    int64  \n",
      " 54  Heating_fireplace(s)                         783 non-null    int64  \n",
      " 55  Heating_Natural gas                          783 non-null    int64  \n",
      " 56  Heating_natural gas                          783 non-null    int64  \n",
      " 57  Heating_steam                                783 non-null    int64  \n",
      " 58  Heating_propane - leased                     783 non-null    int64  \n",
      " 59  Heating_gas                                  783 non-null    int64  \n",
      " 60  Heating_Central                              783 non-null    int64  \n",
      " 61  Heating_90% forced air                       783 non-null    int64  \n",
      " 62  Heating_radiant                              783 non-null    int64  \n",
      " 63  Heating_No data                              783 non-null    int64  \n",
      " 64  Heating_Hot water                            783 non-null    int64  \n",
      " 65  Heating_Other                                783 non-null    int64  \n",
      " 66  Heating_zoned                                783 non-null    int64  \n",
      " 67  Heating_Oil                                  783 non-null    int64  \n",
      " 68  Heating_forced air                           783 non-null    int64  \n",
      " 69  Heating_baseboard                            783 non-null    int64  \n",
      " 70  Heating_heat pump                            783 non-null    int64  \n",
      " 71  Snowflake_central a/c                        783 non-null    int64  \n",
      " 72  Snowflake_electric                           783 non-null    int64  \n",
      " 73  Snowflake_window unit(s)                     783 non-null    int64  \n",
      " 74  Snowflake_Electric                           783 non-null    int64  \n",
      " 75  Snowflake_Window a/c                         783 non-null    int64  \n",
      " 76  Snowflake_central air                        783 non-null    int64  \n",
      " 77  Snowflake_window a/c                         783 non-null    int64  \n",
      " 78  Snowflake_Central a/c                        783 non-null    int64  \n",
      " 79  Snowflake_Ceiling fan(s)                     783 non-null    int64  \n",
      " 80  Snowflake_gas                                783 non-null    int64  \n",
      " 81  Snowflake_Central                            783 non-null    int64  \n",
      " 82  Snowflake_Gas                                783 non-null    int64  \n",
      " 83  Snowflake_wall unit(s)                       783 non-null    int64  \n",
      " 84  Snowflake_None                               783 non-null    int64  \n",
      " 85  Snowflake_No data                            783 non-null    int64  \n",
      " 86  Snowflake_Wall unit(s)                       783 non-null    int64  \n",
      " 87  Snowflake_Other                              783 non-null    int64  \n",
      " 88  Snowflake_Central air                        783 non-null    int64  \n",
      " 89  Snowflake_other                              783 non-null    int64  \n",
      " 90  Snowflake_Attic fan                          783 non-null    int64  \n",
      "dtypes: float64(7), int64(41), uint8(43)\n",
      "memory usage: 332.6 KB\n"
     ]
    }
   ],
   "source": [
    "df.info()\n"
   ]
  },
  {
   "cell_type": "code",
   "execution_count": 8,
   "metadata": {},
   "outputs": [
    {
     "data": {
      "text/html": [
       "<div>\n",
       "<style scoped>\n",
       "    .dataframe tbody tr th:only-of-type {\n",
       "        vertical-align: middle;\n",
       "    }\n",
       "\n",
       "    .dataframe tbody tr th {\n",
       "        vertical-align: top;\n",
       "    }\n",
       "\n",
       "    .dataframe thead th {\n",
       "        text-align: right;\n",
       "    }\n",
       "</style>\n",
       "<table border=\"1\" class=\"dataframe\">\n",
       "  <thead>\n",
       "    <tr style=\"text-align: right;\">\n",
       "      <th></th>\n",
       "      <th>price</th>\n",
       "      <th>bd_num</th>\n",
       "      <th>ba_num</th>\n",
       "      <th>sqft</th>\n",
       "      <th>Calendar</th>\n",
       "      <th>Parking</th>\n",
       "      <th>Lot</th>\n",
       "      <th>Building_Detached</th>\n",
       "      <th>Building_Duplex</th>\n",
       "      <th>Building_Multifamily</th>\n",
       "      <th>...</th>\n",
       "      <th>Snowflake_Central</th>\n",
       "      <th>Snowflake_Gas</th>\n",
       "      <th>Snowflake_wall unit(s)</th>\n",
       "      <th>Snowflake_None</th>\n",
       "      <th>Snowflake_No data</th>\n",
       "      <th>Snowflake_Wall unit(s)</th>\n",
       "      <th>Snowflake_Other</th>\n",
       "      <th>Snowflake_Central air</th>\n",
       "      <th>Snowflake_other</th>\n",
       "      <th>Snowflake_Attic fan</th>\n",
       "    </tr>\n",
       "  </thead>\n",
       "  <tbody>\n",
       "    <tr>\n",
       "      <th>0</th>\n",
       "      <td>279900.0</td>\n",
       "      <td>3.0</td>\n",
       "      <td>1.0</td>\n",
       "      <td>1324.0</td>\n",
       "      <td>1940.0</td>\n",
       "      <td>6.0</td>\n",
       "      <td>3049.0</td>\n",
       "      <td>0</td>\n",
       "      <td>0</td>\n",
       "      <td>0</td>\n",
       "      <td>...</td>\n",
       "      <td>0</td>\n",
       "      <td>0</td>\n",
       "      <td>0</td>\n",
       "      <td>0</td>\n",
       "      <td>0</td>\n",
       "      <td>1</td>\n",
       "      <td>0</td>\n",
       "      <td>0</td>\n",
       "      <td>0</td>\n",
       "      <td>0</td>\n",
       "    </tr>\n",
       "    <tr>\n",
       "      <th>1</th>\n",
       "      <td>258900.0</td>\n",
       "      <td>4.0</td>\n",
       "      <td>3.0</td>\n",
       "      <td>2854.0</td>\n",
       "      <td>1957.0</td>\n",
       "      <td>20.0</td>\n",
       "      <td>18295.2</td>\n",
       "      <td>0</td>\n",
       "      <td>0</td>\n",
       "      <td>0</td>\n",
       "      <td>...</td>\n",
       "      <td>1</td>\n",
       "      <td>0</td>\n",
       "      <td>0</td>\n",
       "      <td>0</td>\n",
       "      <td>0</td>\n",
       "      <td>0</td>\n",
       "      <td>0</td>\n",
       "      <td>1</td>\n",
       "      <td>0</td>\n",
       "      <td>0</td>\n",
       "    </tr>\n",
       "    <tr>\n",
       "      <th>2</th>\n",
       "      <td>167000.0</td>\n",
       "      <td>5.0</td>\n",
       "      <td>2.0</td>\n",
       "      <td>3698.0</td>\n",
       "      <td>1875.0</td>\n",
       "      <td>30.0</td>\n",
       "      <td>22215.6</td>\n",
       "      <td>0</td>\n",
       "      <td>0</td>\n",
       "      <td>0</td>\n",
       "      <td>...</td>\n",
       "      <td>0</td>\n",
       "      <td>0</td>\n",
       "      <td>0</td>\n",
       "      <td>1</td>\n",
       "      <td>0</td>\n",
       "      <td>0</td>\n",
       "      <td>0</td>\n",
       "      <td>0</td>\n",
       "      <td>0</td>\n",
       "      <td>0</td>\n",
       "    </tr>\n",
       "    <tr>\n",
       "      <th>3</th>\n",
       "      <td>350000.0</td>\n",
       "      <td>3.0</td>\n",
       "      <td>3.0</td>\n",
       "      <td>2180.0</td>\n",
       "      <td>1965.0</td>\n",
       "      <td>30.0</td>\n",
       "      <td>10890.0</td>\n",
       "      <td>0</td>\n",
       "      <td>0</td>\n",
       "      <td>0</td>\n",
       "      <td>...</td>\n",
       "      <td>1</td>\n",
       "      <td>0</td>\n",
       "      <td>0</td>\n",
       "      <td>0</td>\n",
       "      <td>0</td>\n",
       "      <td>0</td>\n",
       "      <td>0</td>\n",
       "      <td>1</td>\n",
       "      <td>0</td>\n",
       "      <td>0</td>\n",
       "    </tr>\n",
       "    <tr>\n",
       "      <th>4</th>\n",
       "      <td>219900.0</td>\n",
       "      <td>3.0</td>\n",
       "      <td>3.0</td>\n",
       "      <td>2994.0</td>\n",
       "      <td>1985.0</td>\n",
       "      <td>20.0</td>\n",
       "      <td>68389.2</td>\n",
       "      <td>0</td>\n",
       "      <td>0</td>\n",
       "      <td>0</td>\n",
       "      <td>...</td>\n",
       "      <td>0</td>\n",
       "      <td>0</td>\n",
       "      <td>0</td>\n",
       "      <td>0</td>\n",
       "      <td>1</td>\n",
       "      <td>0</td>\n",
       "      <td>0</td>\n",
       "      <td>0</td>\n",
       "      <td>0</td>\n",
       "      <td>0</td>\n",
       "    </tr>\n",
       "    <tr>\n",
       "      <th>...</th>\n",
       "      <td>...</td>\n",
       "      <td>...</td>\n",
       "      <td>...</td>\n",
       "      <td>...</td>\n",
       "      <td>...</td>\n",
       "      <td>...</td>\n",
       "      <td>...</td>\n",
       "      <td>...</td>\n",
       "      <td>...</td>\n",
       "      <td>...</td>\n",
       "      <td>...</td>\n",
       "      <td>...</td>\n",
       "      <td>...</td>\n",
       "      <td>...</td>\n",
       "      <td>...</td>\n",
       "      <td>...</td>\n",
       "      <td>...</td>\n",
       "      <td>...</td>\n",
       "      <td>...</td>\n",
       "      <td>...</td>\n",
       "      <td>...</td>\n",
       "    </tr>\n",
       "    <tr>\n",
       "      <th>778</th>\n",
       "      <td>395000.0</td>\n",
       "      <td>3.0</td>\n",
       "      <td>3.0</td>\n",
       "      <td>1792.0</td>\n",
       "      <td>1936.0</td>\n",
       "      <td>20.0</td>\n",
       "      <td>15681.6</td>\n",
       "      <td>0</td>\n",
       "      <td>0</td>\n",
       "      <td>0</td>\n",
       "      <td>...</td>\n",
       "      <td>1</td>\n",
       "      <td>0</td>\n",
       "      <td>0</td>\n",
       "      <td>0</td>\n",
       "      <td>0</td>\n",
       "      <td>0</td>\n",
       "      <td>0</td>\n",
       "      <td>1</td>\n",
       "      <td>0</td>\n",
       "      <td>0</td>\n",
       "    </tr>\n",
       "    <tr>\n",
       "      <th>779</th>\n",
       "      <td>149900.0</td>\n",
       "      <td>3.0</td>\n",
       "      <td>2.0</td>\n",
       "      <td>1144.0</td>\n",
       "      <td>1930.0</td>\n",
       "      <td>6.0</td>\n",
       "      <td>3584.0</td>\n",
       "      <td>0</td>\n",
       "      <td>0</td>\n",
       "      <td>0</td>\n",
       "      <td>...</td>\n",
       "      <td>0</td>\n",
       "      <td>0</td>\n",
       "      <td>0</td>\n",
       "      <td>0</td>\n",
       "      <td>0</td>\n",
       "      <td>0</td>\n",
       "      <td>0</td>\n",
       "      <td>0</td>\n",
       "      <td>0</td>\n",
       "      <td>0</td>\n",
       "    </tr>\n",
       "    <tr>\n",
       "      <th>780</th>\n",
       "      <td>274900.0</td>\n",
       "      <td>4.0</td>\n",
       "      <td>3.0</td>\n",
       "      <td>2433.0</td>\n",
       "      <td>1904.0</td>\n",
       "      <td>20.0</td>\n",
       "      <td>6699.0</td>\n",
       "      <td>0</td>\n",
       "      <td>0</td>\n",
       "      <td>0</td>\n",
       "      <td>...</td>\n",
       "      <td>1</td>\n",
       "      <td>0</td>\n",
       "      <td>0</td>\n",
       "      <td>0</td>\n",
       "      <td>0</td>\n",
       "      <td>0</td>\n",
       "      <td>0</td>\n",
       "      <td>1</td>\n",
       "      <td>0</td>\n",
       "      <td>0</td>\n",
       "    </tr>\n",
       "    <tr>\n",
       "      <th>781</th>\n",
       "      <td>269000.0</td>\n",
       "      <td>3.0</td>\n",
       "      <td>2.0</td>\n",
       "      <td>1328.0</td>\n",
       "      <td>1950.0</td>\n",
       "      <td>20.0</td>\n",
       "      <td>34848.0</td>\n",
       "      <td>0</td>\n",
       "      <td>0</td>\n",
       "      <td>0</td>\n",
       "      <td>...</td>\n",
       "      <td>1</td>\n",
       "      <td>0</td>\n",
       "      <td>0</td>\n",
       "      <td>0</td>\n",
       "      <td>0</td>\n",
       "      <td>0</td>\n",
       "      <td>0</td>\n",
       "      <td>1</td>\n",
       "      <td>0</td>\n",
       "      <td>0</td>\n",
       "    </tr>\n",
       "    <tr>\n",
       "      <th>782</th>\n",
       "      <td>289000.0</td>\n",
       "      <td>3.0</td>\n",
       "      <td>2.0</td>\n",
       "      <td>1560.0</td>\n",
       "      <td>1930.0</td>\n",
       "      <td>10.0</td>\n",
       "      <td>12196.8</td>\n",
       "      <td>0</td>\n",
       "      <td>0</td>\n",
       "      <td>0</td>\n",
       "      <td>...</td>\n",
       "      <td>0</td>\n",
       "      <td>0</td>\n",
       "      <td>0</td>\n",
       "      <td>0</td>\n",
       "      <td>0</td>\n",
       "      <td>0</td>\n",
       "      <td>0</td>\n",
       "      <td>0</td>\n",
       "      <td>0</td>\n",
       "      <td>0</td>\n",
       "    </tr>\n",
       "  </tbody>\n",
       "</table>\n",
       "<p>783 rows × 91 columns</p>\n",
       "</div>"
      ],
      "text/plain": [
       "        price  bd_num  ba_num    sqft  Calendar  Parking      Lot  \\\n",
       "0    279900.0     3.0     1.0  1324.0    1940.0      6.0   3049.0   \n",
       "1    258900.0     4.0     3.0  2854.0    1957.0     20.0  18295.2   \n",
       "2    167000.0     5.0     2.0  3698.0    1875.0     30.0  22215.6   \n",
       "3    350000.0     3.0     3.0  2180.0    1965.0     30.0  10890.0   \n",
       "4    219900.0     3.0     3.0  2994.0    1985.0     20.0  68389.2   \n",
       "..        ...     ...     ...     ...       ...      ...      ...   \n",
       "778  395000.0     3.0     3.0  1792.0    1936.0     20.0  15681.6   \n",
       "779  149900.0     3.0     2.0  1144.0    1930.0      6.0   3584.0   \n",
       "780  274900.0     4.0     3.0  2433.0    1904.0     20.0   6699.0   \n",
       "781  269000.0     3.0     2.0  1328.0    1950.0     20.0  34848.0   \n",
       "782  289000.0     3.0     2.0  1560.0    1930.0     10.0  12196.8   \n",
       "\n",
       "     Building_Detached  Building_Duplex  Building_Multifamily  ...  \\\n",
       "0                    0                0                     0  ...   \n",
       "1                    0                0                     0  ...   \n",
       "2                    0                0                     0  ...   \n",
       "3                    0                0                     0  ...   \n",
       "4                    0                0                     0  ...   \n",
       "..                 ...              ...                   ...  ...   \n",
       "778                  0                0                     0  ...   \n",
       "779                  0                0                     0  ...   \n",
       "780                  0                0                     0  ...   \n",
       "781                  0                0                     0  ...   \n",
       "782                  0                0                     0  ...   \n",
       "\n",
       "     Snowflake_Central  Snowflake_Gas  Snowflake_wall unit(s)  Snowflake_None  \\\n",
       "0                    0              0                       0               0   \n",
       "1                    1              0                       0               0   \n",
       "2                    0              0                       0               1   \n",
       "3                    1              0                       0               0   \n",
       "4                    0              0                       0               0   \n",
       "..                 ...            ...                     ...             ...   \n",
       "778                  1              0                       0               0   \n",
       "779                  0              0                       0               0   \n",
       "780                  1              0                       0               0   \n",
       "781                  1              0                       0               0   \n",
       "782                  0              0                       0               0   \n",
       "\n",
       "     Snowflake_No data  Snowflake_Wall unit(s)  Snowflake_Other  \\\n",
       "0                    0                       1                0   \n",
       "1                    0                       0                0   \n",
       "2                    0                       0                0   \n",
       "3                    0                       0                0   \n",
       "4                    1                       0                0   \n",
       "..                 ...                     ...              ...   \n",
       "778                  0                       0                0   \n",
       "779                  0                       0                0   \n",
       "780                  0                       0                0   \n",
       "781                  0                       0                0   \n",
       "782                  0                       0                0   \n",
       "\n",
       "     Snowflake_Central air  Snowflake_other  Snowflake_Attic fan  \n",
       "0                        0                0                    0  \n",
       "1                        1                0                    0  \n",
       "2                        0                0                    0  \n",
       "3                        1                0                    0  \n",
       "4                        0                0                    0  \n",
       "..                     ...              ...                  ...  \n",
       "778                      1                0                    0  \n",
       "779                      0                0                    0  \n",
       "780                      1                0                    0  \n",
       "781                      1                0                    0  \n",
       "782                      0                0                    0  \n",
       "\n",
       "[783 rows x 91 columns]"
      ]
     },
     "execution_count": 8,
     "metadata": {},
     "output_type": "execute_result"
    }
   ],
   "source": [
    "for col in df.columns:\n",
    "    df[col].fillna(df[col].mean(), inplace=True)\n",
    "df\n"
   ]
  },
  {
   "cell_type": "code",
   "execution_count": 9,
   "metadata": {},
   "outputs": [
    {
     "name": "stdout",
     "output_type": "stream",
     "text": [
      "<class 'pandas.core.frame.DataFrame'>\n",
      "Int64Index: 783 entries, 0 to 782\n",
      "Data columns (total 91 columns):\n",
      " #   Column                                       Non-Null Count  Dtype  \n",
      "---  ------                                       --------------  -----  \n",
      " 0   price                                        783 non-null    float64\n",
      " 1   bd_num                                       783 non-null    float64\n",
      " 2   ba_num                                       783 non-null    float64\n",
      " 3   sqft                                         783 non-null    float64\n",
      " 4   Calendar                                     783 non-null    float64\n",
      " 5   Parking                                      783 non-null    float64\n",
      " 6   Lot                                          783 non-null    float64\n",
      " 7   Building_Detached                            783 non-null    uint8  \n",
      " 8   Building_Duplex                              783 non-null    uint8  \n",
      " 9   Building_Multifamily                         783 non-null    uint8  \n",
      " 10  Building_Quadruplex                          783 non-null    uint8  \n",
      " 11  Building_Single family residence             783 non-null    uint8  \n",
      " 12  Building_Single family residence, townhouse  783 non-null    uint8  \n",
      " 13  Building_Singlefamily                        783 non-null    uint8  \n",
      " 14  Building_Stock cooperative, townhouse        783 non-null    uint8  \n",
      " 15  Building_Townhouse                           783 non-null    uint8  \n",
      " 16  Building_Triplex                             783 non-null    uint8  \n",
      " 17  zipcode_15106                                783 non-null    uint8  \n",
      " 18  zipcode_15120                                783 non-null    uint8  \n",
      " 19  zipcode_15201                                783 non-null    uint8  \n",
      " 20  zipcode_15203                                783 non-null    uint8  \n",
      " 21  zipcode_15204                                783 non-null    uint8  \n",
      " 22  zipcode_15205                                783 non-null    uint8  \n",
      " 23  zipcode_15206                                783 non-null    uint8  \n",
      " 24  zipcode_15207                                783 non-null    uint8  \n",
      " 25  zipcode_15208                                783 non-null    uint8  \n",
      " 26  zipcode_15210                                783 non-null    uint8  \n",
      " 27  zipcode_15211                                783 non-null    uint8  \n",
      " 28  zipcode_15212                                783 non-null    uint8  \n",
      " 29  zipcode_15213                                783 non-null    uint8  \n",
      " 30  zipcode_15214                                783 non-null    uint8  \n",
      " 31  zipcode_15215                                783 non-null    uint8  \n",
      " 32  zipcode_15216                                783 non-null    uint8  \n",
      " 33  zipcode_15217                                783 non-null    uint8  \n",
      " 34  zipcode_15218                                783 non-null    uint8  \n",
      " 35  zipcode_15219                                783 non-null    uint8  \n",
      " 36  zipcode_15220                                783 non-null    uint8  \n",
      " 37  zipcode_15221                                783 non-null    uint8  \n",
      " 38  zipcode_15222                                783 non-null    uint8  \n",
      " 39  zipcode_15224                                783 non-null    uint8  \n",
      " 40  zipcode_15226                                783 non-null    uint8  \n",
      " 41  zipcode_15227                                783 non-null    uint8  \n",
      " 42  zipcode_15232                                783 non-null    uint8  \n",
      " 43  zipcode_15233                                783 non-null    uint8  \n",
      " 44  zipcode_15234                                783 non-null    uint8  \n",
      " 45  zipcode_15235                                783 non-null    uint8  \n",
      " 46  zipcode_15236                                783 non-null    uint8  \n",
      " 47  zipcode_15238                                783 non-null    uint8  \n",
      " 48  zipcode_15260                                783 non-null    uint8  \n",
      " 49  zipcode_15290                                783 non-null    uint8  \n",
      " 50  Heating_Forced air                           783 non-null    int64  \n",
      " 51  Heating_hot water                            783 non-null    int64  \n",
      " 52  Heating_Radiant                              783 non-null    int64  \n",
      " 53  Heating_Electric                             783 non-null    int64  \n",
      " 54  Heating_fireplace(s)                         783 non-null    int64  \n",
      " 55  Heating_Natural gas                          783 non-null    int64  \n",
      " 56  Heating_natural gas                          783 non-null    int64  \n",
      " 57  Heating_steam                                783 non-null    int64  \n",
      " 58  Heating_propane - leased                     783 non-null    int64  \n",
      " 59  Heating_gas                                  783 non-null    int64  \n",
      " 60  Heating_Central                              783 non-null    int64  \n",
      " 61  Heating_90% forced air                       783 non-null    int64  \n",
      " 62  Heating_radiant                              783 non-null    int64  \n",
      " 63  Heating_No data                              783 non-null    int64  \n",
      " 64  Heating_Hot water                            783 non-null    int64  \n",
      " 65  Heating_Other                                783 non-null    int64  \n",
      " 66  Heating_zoned                                783 non-null    int64  \n",
      " 67  Heating_Oil                                  783 non-null    int64  \n",
      " 68  Heating_forced air                           783 non-null    int64  \n",
      " 69  Heating_baseboard                            783 non-null    int64  \n",
      " 70  Heating_heat pump                            783 non-null    int64  \n",
      " 71  Snowflake_central a/c                        783 non-null    int64  \n",
      " 72  Snowflake_electric                           783 non-null    int64  \n",
      " 73  Snowflake_window unit(s)                     783 non-null    int64  \n",
      " 74  Snowflake_Electric                           783 non-null    int64  \n",
      " 75  Snowflake_Window a/c                         783 non-null    int64  \n",
      " 76  Snowflake_central air                        783 non-null    int64  \n",
      " 77  Snowflake_window a/c                         783 non-null    int64  \n",
      " 78  Snowflake_Central a/c                        783 non-null    int64  \n",
      " 79  Snowflake_Ceiling fan(s)                     783 non-null    int64  \n",
      " 80  Snowflake_gas                                783 non-null    int64  \n",
      " 81  Snowflake_Central                            783 non-null    int64  \n",
      " 82  Snowflake_Gas                                783 non-null    int64  \n",
      " 83  Snowflake_wall unit(s)                       783 non-null    int64  \n",
      " 84  Snowflake_None                               783 non-null    int64  \n",
      " 85  Snowflake_No data                            783 non-null    int64  \n",
      " 86  Snowflake_Wall unit(s)                       783 non-null    int64  \n",
      " 87  Snowflake_Other                              783 non-null    int64  \n",
      " 88  Snowflake_Central air                        783 non-null    int64  \n",
      " 89  Snowflake_other                              783 non-null    int64  \n",
      " 90  Snowflake_Attic fan                          783 non-null    int64  \n",
      "dtypes: float64(7), int64(41), uint8(43)\n",
      "memory usage: 332.6 KB\n"
     ]
    }
   ],
   "source": [
    "df.info()\n"
   ]
  },
  {
   "cell_type": "code",
   "execution_count": 10,
   "metadata": {},
   "outputs": [
    {
     "data": {
      "text/html": [
       "<div>\n",
       "<style scoped>\n",
       "    .dataframe tbody tr th:only-of-type {\n",
       "        vertical-align: middle;\n",
       "    }\n",
       "\n",
       "    .dataframe tbody tr th {\n",
       "        vertical-align: top;\n",
       "    }\n",
       "\n",
       "    .dataframe thead th {\n",
       "        text-align: right;\n",
       "    }\n",
       "</style>\n",
       "<table border=\"1\" class=\"dataframe\">\n",
       "  <thead>\n",
       "    <tr style=\"text-align: right;\">\n",
       "      <th></th>\n",
       "      <th>price</th>\n",
       "      <th>bd_num</th>\n",
       "      <th>ba_num</th>\n",
       "      <th>sqft</th>\n",
       "      <th>Calendar</th>\n",
       "      <th>Parking</th>\n",
       "      <th>Lot</th>\n",
       "      <th>Building_Detached</th>\n",
       "      <th>Building_Duplex</th>\n",
       "      <th>Building_Multifamily</th>\n",
       "      <th>...</th>\n",
       "      <th>Snowflake_Central</th>\n",
       "      <th>Snowflake_Gas</th>\n",
       "      <th>Snowflake_wall unit(s)</th>\n",
       "      <th>Snowflake_None</th>\n",
       "      <th>Snowflake_No data</th>\n",
       "      <th>Snowflake_Wall unit(s)</th>\n",
       "      <th>Snowflake_Other</th>\n",
       "      <th>Snowflake_Central air</th>\n",
       "      <th>Snowflake_other</th>\n",
       "      <th>Snowflake_Attic fan</th>\n",
       "    </tr>\n",
       "  </thead>\n",
       "  <tbody>\n",
       "    <tr>\n",
       "      <th>0</th>\n",
       "      <td>279900.0</td>\n",
       "      <td>3.0</td>\n",
       "      <td>1.0</td>\n",
       "      <td>1324.0</td>\n",
       "      <td>1940.0</td>\n",
       "      <td>6.0</td>\n",
       "      <td>3049.0</td>\n",
       "      <td>0</td>\n",
       "      <td>0</td>\n",
       "      <td>0</td>\n",
       "      <td>...</td>\n",
       "      <td>0</td>\n",
       "      <td>0</td>\n",
       "      <td>0</td>\n",
       "      <td>0</td>\n",
       "      <td>0</td>\n",
       "      <td>1</td>\n",
       "      <td>0</td>\n",
       "      <td>0</td>\n",
       "      <td>0</td>\n",
       "      <td>0</td>\n",
       "    </tr>\n",
       "    <tr>\n",
       "      <th>1</th>\n",
       "      <td>258900.0</td>\n",
       "      <td>4.0</td>\n",
       "      <td>3.0</td>\n",
       "      <td>2854.0</td>\n",
       "      <td>1957.0</td>\n",
       "      <td>20.0</td>\n",
       "      <td>18295.2</td>\n",
       "      <td>0</td>\n",
       "      <td>0</td>\n",
       "      <td>0</td>\n",
       "      <td>...</td>\n",
       "      <td>1</td>\n",
       "      <td>0</td>\n",
       "      <td>0</td>\n",
       "      <td>0</td>\n",
       "      <td>0</td>\n",
       "      <td>0</td>\n",
       "      <td>0</td>\n",
       "      <td>1</td>\n",
       "      <td>0</td>\n",
       "      <td>0</td>\n",
       "    </tr>\n",
       "    <tr>\n",
       "      <th>2</th>\n",
       "      <td>167000.0</td>\n",
       "      <td>5.0</td>\n",
       "      <td>2.0</td>\n",
       "      <td>3698.0</td>\n",
       "      <td>1875.0</td>\n",
       "      <td>30.0</td>\n",
       "      <td>22215.6</td>\n",
       "      <td>0</td>\n",
       "      <td>0</td>\n",
       "      <td>0</td>\n",
       "      <td>...</td>\n",
       "      <td>0</td>\n",
       "      <td>0</td>\n",
       "      <td>0</td>\n",
       "      <td>1</td>\n",
       "      <td>0</td>\n",
       "      <td>0</td>\n",
       "      <td>0</td>\n",
       "      <td>0</td>\n",
       "      <td>0</td>\n",
       "      <td>0</td>\n",
       "    </tr>\n",
       "    <tr>\n",
       "      <th>3</th>\n",
       "      <td>350000.0</td>\n",
       "      <td>3.0</td>\n",
       "      <td>3.0</td>\n",
       "      <td>2180.0</td>\n",
       "      <td>1965.0</td>\n",
       "      <td>30.0</td>\n",
       "      <td>10890.0</td>\n",
       "      <td>0</td>\n",
       "      <td>0</td>\n",
       "      <td>0</td>\n",
       "      <td>...</td>\n",
       "      <td>1</td>\n",
       "      <td>0</td>\n",
       "      <td>0</td>\n",
       "      <td>0</td>\n",
       "      <td>0</td>\n",
       "      <td>0</td>\n",
       "      <td>0</td>\n",
       "      <td>1</td>\n",
       "      <td>0</td>\n",
       "      <td>0</td>\n",
       "    </tr>\n",
       "    <tr>\n",
       "      <th>4</th>\n",
       "      <td>219900.0</td>\n",
       "      <td>3.0</td>\n",
       "      <td>3.0</td>\n",
       "      <td>2994.0</td>\n",
       "      <td>1985.0</td>\n",
       "      <td>20.0</td>\n",
       "      <td>68389.2</td>\n",
       "      <td>0</td>\n",
       "      <td>0</td>\n",
       "      <td>0</td>\n",
       "      <td>...</td>\n",
       "      <td>0</td>\n",
       "      <td>0</td>\n",
       "      <td>0</td>\n",
       "      <td>0</td>\n",
       "      <td>1</td>\n",
       "      <td>0</td>\n",
       "      <td>0</td>\n",
       "      <td>0</td>\n",
       "      <td>0</td>\n",
       "      <td>0</td>\n",
       "    </tr>\n",
       "  </tbody>\n",
       "</table>\n",
       "<p>5 rows × 91 columns</p>\n",
       "</div>"
      ],
      "text/plain": [
       "      price  bd_num  ba_num    sqft  Calendar  Parking      Lot  \\\n",
       "0  279900.0     3.0     1.0  1324.0    1940.0      6.0   3049.0   \n",
       "1  258900.0     4.0     3.0  2854.0    1957.0     20.0  18295.2   \n",
       "2  167000.0     5.0     2.0  3698.0    1875.0     30.0  22215.6   \n",
       "3  350000.0     3.0     3.0  2180.0    1965.0     30.0  10890.0   \n",
       "4  219900.0     3.0     3.0  2994.0    1985.0     20.0  68389.2   \n",
       "\n",
       "   Building_Detached  Building_Duplex  Building_Multifamily  ...  \\\n",
       "0                  0                0                     0  ...   \n",
       "1                  0                0                     0  ...   \n",
       "2                  0                0                     0  ...   \n",
       "3                  0                0                     0  ...   \n",
       "4                  0                0                     0  ...   \n",
       "\n",
       "   Snowflake_Central  Snowflake_Gas  Snowflake_wall unit(s)  Snowflake_None  \\\n",
       "0                  0              0                       0               0   \n",
       "1                  1              0                       0               0   \n",
       "2                  0              0                       0               1   \n",
       "3                  1              0                       0               0   \n",
       "4                  0              0                       0               0   \n",
       "\n",
       "   Snowflake_No data  Snowflake_Wall unit(s)  Snowflake_Other  \\\n",
       "0                  0                       1                0   \n",
       "1                  0                       0                0   \n",
       "2                  0                       0                0   \n",
       "3                  0                       0                0   \n",
       "4                  1                       0                0   \n",
       "\n",
       "   Snowflake_Central air  Snowflake_other  Snowflake_Attic fan  \n",
       "0                      0                0                    0  \n",
       "1                      1                0                    0  \n",
       "2                      0                0                    0  \n",
       "3                      1                0                    0  \n",
       "4                      0                0                    0  \n",
       "\n",
       "[5 rows x 91 columns]"
      ]
     },
     "execution_count": 10,
     "metadata": {},
     "output_type": "execute_result"
    }
   ],
   "source": [
    "df.head(5)\n"
   ]
  },
  {
   "cell_type": "markdown",
   "metadata": {},
   "source": [
    "## More feature engineering before training\n"
   ]
  },
  {
   "cell_type": "code",
   "execution_count": 11,
   "metadata": {},
   "outputs": [
    {
     "name": "stdout",
     "output_type": "stream",
     "text": [
      "2022\n"
     ]
    }
   ],
   "source": [
    "# year convert to the year gap towards this year\n",
    "from datetime import datetime\n",
    "print(datetime.today().year)\n",
    "df['Calendar'] = 2022 - df['Calendar']\n"
   ]
  },
  {
   "cell_type": "code",
   "execution_count": 12,
   "metadata": {},
   "outputs": [
    {
     "data": {
      "text/html": [
       "<div>\n",
       "<style scoped>\n",
       "    .dataframe tbody tr th:only-of-type {\n",
       "        vertical-align: middle;\n",
       "    }\n",
       "\n",
       "    .dataframe tbody tr th {\n",
       "        vertical-align: top;\n",
       "    }\n",
       "\n",
       "    .dataframe thead th {\n",
       "        text-align: right;\n",
       "    }\n",
       "</style>\n",
       "<table border=\"1\" class=\"dataframe\">\n",
       "  <thead>\n",
       "    <tr style=\"text-align: right;\">\n",
       "      <th></th>\n",
       "      <th>price</th>\n",
       "      <th>bd_num</th>\n",
       "      <th>ba_num</th>\n",
       "      <th>sqft</th>\n",
       "      <th>Calendar</th>\n",
       "      <th>Parking</th>\n",
       "      <th>Lot</th>\n",
       "      <th>Building_Detached</th>\n",
       "      <th>Building_Duplex</th>\n",
       "      <th>Building_Multifamily</th>\n",
       "      <th>...</th>\n",
       "      <th>Snowflake_Central</th>\n",
       "      <th>Snowflake_Gas</th>\n",
       "      <th>Snowflake_wall unit(s)</th>\n",
       "      <th>Snowflake_None</th>\n",
       "      <th>Snowflake_No data</th>\n",
       "      <th>Snowflake_Wall unit(s)</th>\n",
       "      <th>Snowflake_Other</th>\n",
       "      <th>Snowflake_Central air</th>\n",
       "      <th>Snowflake_other</th>\n",
       "      <th>Snowflake_Attic fan</th>\n",
       "    </tr>\n",
       "  </thead>\n",
       "  <tbody>\n",
       "    <tr>\n",
       "      <th>count</th>\n",
       "      <td>7.830000e+02</td>\n",
       "      <td>783.000000</td>\n",
       "      <td>783.000000</td>\n",
       "      <td>783.000000</td>\n",
       "      <td>783.000000</td>\n",
       "      <td>783.000000</td>\n",
       "      <td>783.000000</td>\n",
       "      <td>783.000000</td>\n",
       "      <td>783.000000</td>\n",
       "      <td>783.000000</td>\n",
       "      <td>...</td>\n",
       "      <td>783.000000</td>\n",
       "      <td>783.000000</td>\n",
       "      <td>783.000000</td>\n",
       "      <td>783.000000</td>\n",
       "      <td>783.000000</td>\n",
       "      <td>783.000000</td>\n",
       "      <td>783.000000</td>\n",
       "      <td>783.000000</td>\n",
       "      <td>783.000000</td>\n",
       "      <td>783.000000</td>\n",
       "    </tr>\n",
       "    <tr>\n",
       "      <th>mean</th>\n",
       "      <td>3.083219e+05</td>\n",
       "      <td>3.225948</td>\n",
       "      <td>2.124269</td>\n",
       "      <td>1804.044037</td>\n",
       "      <td>94.333771</td>\n",
       "      <td>12.099617</td>\n",
       "      <td>10762.080931</td>\n",
       "      <td>0.003831</td>\n",
       "      <td>0.088123</td>\n",
       "      <td>0.011494</td>\n",
       "      <td>...</td>\n",
       "      <td>0.496807</td>\n",
       "      <td>0.002554</td>\n",
       "      <td>0.006386</td>\n",
       "      <td>0.002554</td>\n",
       "      <td>0.385696</td>\n",
       "      <td>0.011494</td>\n",
       "      <td>0.010217</td>\n",
       "      <td>0.492976</td>\n",
       "      <td>0.005109</td>\n",
       "      <td>0.001277</td>\n",
       "    </tr>\n",
       "    <tr>\n",
       "      <th>std</th>\n",
       "      <td>4.332248e+05</td>\n",
       "      <td>0.981920</td>\n",
       "      <td>1.077815</td>\n",
       "      <td>1069.751282</td>\n",
       "      <td>31.227145</td>\n",
       "      <td>12.853902</td>\n",
       "      <td>38798.075044</td>\n",
       "      <td>0.061819</td>\n",
       "      <td>0.283654</td>\n",
       "      <td>0.106661</td>\n",
       "      <td>...</td>\n",
       "      <td>0.500309</td>\n",
       "      <td>0.050508</td>\n",
       "      <td>0.079706</td>\n",
       "      <td>0.050508</td>\n",
       "      <td>0.487070</td>\n",
       "      <td>0.106661</td>\n",
       "      <td>0.100626</td>\n",
       "      <td>0.500270</td>\n",
       "      <td>0.071337</td>\n",
       "      <td>0.035737</td>\n",
       "    </tr>\n",
       "    <tr>\n",
       "      <th>min</th>\n",
       "      <td>1.200000e+04</td>\n",
       "      <td>1.000000</td>\n",
       "      <td>1.000000</td>\n",
       "      <td>441.000000</td>\n",
       "      <td>1.000000</td>\n",
       "      <td>0.000000</td>\n",
       "      <td>505.300000</td>\n",
       "      <td>0.000000</td>\n",
       "      <td>0.000000</td>\n",
       "      <td>0.000000</td>\n",
       "      <td>...</td>\n",
       "      <td>0.000000</td>\n",
       "      <td>0.000000</td>\n",
       "      <td>0.000000</td>\n",
       "      <td>0.000000</td>\n",
       "      <td>0.000000</td>\n",
       "      <td>0.000000</td>\n",
       "      <td>0.000000</td>\n",
       "      <td>0.000000</td>\n",
       "      <td>0.000000</td>\n",
       "      <td>0.000000</td>\n",
       "    </tr>\n",
       "    <tr>\n",
       "      <th>25%</th>\n",
       "      <td>1.434500e+05</td>\n",
       "      <td>3.000000</td>\n",
       "      <td>1.000000</td>\n",
       "      <td>1338.000000</td>\n",
       "      <td>72.500000</td>\n",
       "      <td>6.000000</td>\n",
       "      <td>2600.000000</td>\n",
       "      <td>0.000000</td>\n",
       "      <td>0.000000</td>\n",
       "      <td>0.000000</td>\n",
       "      <td>...</td>\n",
       "      <td>0.000000</td>\n",
       "      <td>0.000000</td>\n",
       "      <td>0.000000</td>\n",
       "      <td>0.000000</td>\n",
       "      <td>0.000000</td>\n",
       "      <td>0.000000</td>\n",
       "      <td>0.000000</td>\n",
       "      <td>0.000000</td>\n",
       "      <td>0.000000</td>\n",
       "      <td>0.000000</td>\n",
       "    </tr>\n",
       "    <tr>\n",
       "      <th>50%</th>\n",
       "      <td>2.150000e+05</td>\n",
       "      <td>3.000000</td>\n",
       "      <td>2.000000</td>\n",
       "      <td>1804.044037</td>\n",
       "      <td>101.000000</td>\n",
       "      <td>10.000000</td>\n",
       "      <td>5227.000000</td>\n",
       "      <td>0.000000</td>\n",
       "      <td>0.000000</td>\n",
       "      <td>0.000000</td>\n",
       "      <td>...</td>\n",
       "      <td>0.000000</td>\n",
       "      <td>0.000000</td>\n",
       "      <td>0.000000</td>\n",
       "      <td>0.000000</td>\n",
       "      <td>0.000000</td>\n",
       "      <td>0.000000</td>\n",
       "      <td>0.000000</td>\n",
       "      <td>0.000000</td>\n",
       "      <td>0.000000</td>\n",
       "      <td>0.000000</td>\n",
       "    </tr>\n",
       "    <tr>\n",
       "      <th>75%</th>\n",
       "      <td>3.250000e+05</td>\n",
       "      <td>4.000000</td>\n",
       "      <td>3.000000</td>\n",
       "      <td>1804.044037</td>\n",
       "      <td>122.000000</td>\n",
       "      <td>20.000000</td>\n",
       "      <td>10762.080931</td>\n",
       "      <td>0.000000</td>\n",
       "      <td>0.000000</td>\n",
       "      <td>0.000000</td>\n",
       "      <td>...</td>\n",
       "      <td>1.000000</td>\n",
       "      <td>0.000000</td>\n",
       "      <td>0.000000</td>\n",
       "      <td>0.000000</td>\n",
       "      <td>1.000000</td>\n",
       "      <td>0.000000</td>\n",
       "      <td>0.000000</td>\n",
       "      <td>1.000000</td>\n",
       "      <td>0.000000</td>\n",
       "      <td>0.000000</td>\n",
       "    </tr>\n",
       "    <tr>\n",
       "      <th>max</th>\n",
       "      <td>4.900000e+06</td>\n",
       "      <td>9.000000</td>\n",
       "      <td>9.000000</td>\n",
       "      <td>14302.000000</td>\n",
       "      <td>192.000000</td>\n",
       "      <td>200.000000</td>\n",
       "      <td>891237.600000</td>\n",
       "      <td>1.000000</td>\n",
       "      <td>1.000000</td>\n",
       "      <td>1.000000</td>\n",
       "      <td>...</td>\n",
       "      <td>1.000000</td>\n",
       "      <td>1.000000</td>\n",
       "      <td>1.000000</td>\n",
       "      <td>1.000000</td>\n",
       "      <td>1.000000</td>\n",
       "      <td>1.000000</td>\n",
       "      <td>1.000000</td>\n",
       "      <td>1.000000</td>\n",
       "      <td>1.000000</td>\n",
       "      <td>1.000000</td>\n",
       "    </tr>\n",
       "  </tbody>\n",
       "</table>\n",
       "<p>8 rows × 91 columns</p>\n",
       "</div>"
      ],
      "text/plain": [
       "              price      bd_num      ba_num          sqft    Calendar  \\\n",
       "count  7.830000e+02  783.000000  783.000000    783.000000  783.000000   \n",
       "mean   3.083219e+05    3.225948    2.124269   1804.044037   94.333771   \n",
       "std    4.332248e+05    0.981920    1.077815   1069.751282   31.227145   \n",
       "min    1.200000e+04    1.000000    1.000000    441.000000    1.000000   \n",
       "25%    1.434500e+05    3.000000    1.000000   1338.000000   72.500000   \n",
       "50%    2.150000e+05    3.000000    2.000000   1804.044037  101.000000   \n",
       "75%    3.250000e+05    4.000000    3.000000   1804.044037  122.000000   \n",
       "max    4.900000e+06    9.000000    9.000000  14302.000000  192.000000   \n",
       "\n",
       "          Parking            Lot  Building_Detached  Building_Duplex  \\\n",
       "count  783.000000     783.000000         783.000000       783.000000   \n",
       "mean    12.099617   10762.080931           0.003831         0.088123   \n",
       "std     12.853902   38798.075044           0.061819         0.283654   \n",
       "min      0.000000     505.300000           0.000000         0.000000   \n",
       "25%      6.000000    2600.000000           0.000000         0.000000   \n",
       "50%     10.000000    5227.000000           0.000000         0.000000   \n",
       "75%     20.000000   10762.080931           0.000000         0.000000   \n",
       "max    200.000000  891237.600000           1.000000         1.000000   \n",
       "\n",
       "       Building_Multifamily  ...  Snowflake_Central  Snowflake_Gas  \\\n",
       "count            783.000000  ...         783.000000     783.000000   \n",
       "mean               0.011494  ...           0.496807       0.002554   \n",
       "std                0.106661  ...           0.500309       0.050508   \n",
       "min                0.000000  ...           0.000000       0.000000   \n",
       "25%                0.000000  ...           0.000000       0.000000   \n",
       "50%                0.000000  ...           0.000000       0.000000   \n",
       "75%                0.000000  ...           1.000000       0.000000   \n",
       "max                1.000000  ...           1.000000       1.000000   \n",
       "\n",
       "       Snowflake_wall unit(s)  Snowflake_None  Snowflake_No data  \\\n",
       "count              783.000000      783.000000         783.000000   \n",
       "mean                 0.006386        0.002554           0.385696   \n",
       "std                  0.079706        0.050508           0.487070   \n",
       "min                  0.000000        0.000000           0.000000   \n",
       "25%                  0.000000        0.000000           0.000000   \n",
       "50%                  0.000000        0.000000           0.000000   \n",
       "75%                  0.000000        0.000000           1.000000   \n",
       "max                  1.000000        1.000000           1.000000   \n",
       "\n",
       "       Snowflake_Wall unit(s)  Snowflake_Other  Snowflake_Central air  \\\n",
       "count              783.000000       783.000000             783.000000   \n",
       "mean                 0.011494         0.010217               0.492976   \n",
       "std                  0.106661         0.100626               0.500270   \n",
       "min                  0.000000         0.000000               0.000000   \n",
       "25%                  0.000000         0.000000               0.000000   \n",
       "50%                  0.000000         0.000000               0.000000   \n",
       "75%                  0.000000         0.000000               1.000000   \n",
       "max                  1.000000         1.000000               1.000000   \n",
       "\n",
       "       Snowflake_other  Snowflake_Attic fan  \n",
       "count       783.000000           783.000000  \n",
       "mean          0.005109             0.001277  \n",
       "std           0.071337             0.035737  \n",
       "min           0.000000             0.000000  \n",
       "25%           0.000000             0.000000  \n",
       "50%           0.000000             0.000000  \n",
       "75%           0.000000             0.000000  \n",
       "max           1.000000             1.000000  \n",
       "\n",
       "[8 rows x 91 columns]"
      ]
     },
     "execution_count": 12,
     "metadata": {},
     "output_type": "execute_result"
    }
   ],
   "source": [
    "df.describe()\n"
   ]
  },
  {
   "cell_type": "markdown",
   "metadata": {},
   "source": [
    "## Begin model training\n",
    "\n",
    "[Linear Regressions and Split Datasets Using Sklearn](https://medium.com/the-code-monster/split-a-dataset-into-train-and-test-datasets-using-sk-learn-acc7fd1802e0)\n"
   ]
  },
  {
   "cell_type": "code",
   "execution_count": 13,
   "metadata": {},
   "outputs": [],
   "source": [
    "from sklearn.model_selection import train_test_split\n",
    "from matplotlib import pyplot as plt\n",
    "import plotly.express as px\n"
   ]
  },
  {
   "cell_type": "code",
   "execution_count": 14,
   "metadata": {},
   "outputs": [],
   "source": [
    "# plt.scatter(df['price'],df['sqft'])\n"
   ]
  },
  {
   "cell_type": "code",
   "execution_count": 15,
   "metadata": {},
   "outputs": [],
   "source": [
    "X = df[list(df.columns)[1:]]\n",
    "Y = df['price']\n",
    "# X.head(10)\n"
   ]
  },
  {
   "cell_type": "code",
   "execution_count": 16,
   "metadata": {},
   "outputs": [],
   "source": [
    "x_train, x_test, y_train, y_test = train_test_split(X, Y, test_size=0.2)\n",
    "# print the data\n",
    "# x_train\n"
   ]
  },
  {
   "cell_type": "code",
   "execution_count": 17,
   "metadata": {},
   "outputs": [],
   "source": [
    "from sklearn.linear_model import LinearRegression\n",
    "lr = LinearRegression()\n"
   ]
  },
  {
   "cell_type": "code",
   "execution_count": 18,
   "metadata": {},
   "outputs": [
    {
     "data": {
      "text/plain": [
       "LinearRegression()"
      ]
     },
     "execution_count": 18,
     "metadata": {},
     "output_type": "execute_result"
    }
   ],
   "source": [
    "lr.fit(x_train, y_train)\n"
   ]
  },
  {
   "cell_type": "code",
   "execution_count": 19,
   "metadata": {},
   "outputs": [
    {
     "data": {
      "text/plain": [
       "0.7839259970306935"
      ]
     },
     "execution_count": 19,
     "metadata": {},
     "output_type": "execute_result"
    }
   ],
   "source": [
    "lr.score(x_test, y_test)\n"
   ]
  },
  {
   "cell_type": "code",
   "execution_count": 20,
   "metadata": {},
   "outputs": [
    {
     "data": {
      "text/plain": [
       "<matplotlib.collections.PathCollection at 0x7fa6af08f7f0>"
      ]
     },
     "execution_count": 20,
     "metadata": {},
     "output_type": "execute_result"
    },
    {
     "data": {
      "image/png": "[encoded data removed]",
      "text/plain": [
       "<Figure size 432x288 with 1 Axes>"
      ]
     },
     "metadata": {
      "needs_background": "light"
     },
     "output_type": "display_data"
    }
   ],
   "source": [
    "plt.scatter(y_test, lr.predict(x_test))\n"
   ]
  },
  {
   "cell_type": "code",
   "execution_count": 29,
   "metadata": {},
   "outputs": [
    {
     "data": {
      "application/vnd.plotly.v1+json": {
       "config": {
        "plotlyServerURL": "https://plot.ly"
       },
       "data": [
        {
         "hovertemplate": "x=%{x}<br>y=%{y}<extra></extra>",
         "legendgroup": "",
         "marker": {
          "color": "#636efa",
          "symbol": "circle"
         },
         "mode": "markers",
         "name": "",
         "orientation": "h",
         "showlegend": false,
         "type": "scatter",
         "x": [
          396536.5166100284,
          178823.28207697417,
          16798.90147283685,
          102664.77817454073,
          693548.4807514888,
          -35492.06965062645,
          471766.38312917954,
          125066.92461573519,
          334420.8934967101,
          514454.680211698,
          463818.6696100331,
          97295.00631432107,
          264630.78324167564,
          4331328.613470243,
          210760.7718904775,
          104704.6857329486,
          413615.8477613917,
          223847.90108626505,
          519488.10803196236,
          337247.35680227255,
          611261.9133726705,
          435836.17438839335,
          320720.84969515685,
          186181.38011719816,
          268068.9403820802,
          194786.0283428309,
          632711.6136922713,
          36617.540591801866,
          325157.3146321695,
          126809.93638267816,
          232693.92624086415,
          116296.8917196854,
          139006.74292531115,
          361014.6228044163,
          158167.56240556034,
          339541.3507523742,
          484499.0806858639,
          48706.70744861144,
          689804.0475421017,
          265779.6314047516,
          -52549.01929991582,
          159957.47059323284,
          540167.7338201927,
          -43637.2647267516,
          -139319.3972646037,
          288706.3077387535,
          274943.01603053644,
          60804.754145075334,
          -52990.93840506353,
          166159.8247889261,
          121882.65780285763,
          234565.04647916247,
          16040.758336499566,
          22347.811377059843,
          293042.97194592585,
          234164.1307227112,
          389450.58480215067,
          128405.9351935854,
          317307.7092791112,
          125157.00202589785,
          167520.24912075017,
          156987.6026488893,
          156154.50047661585,
          67748.3634679938,
          89236.78129586496,
          37732.050390895456,
          -36908.659872606746,
          626992.3488139568,
          32825.47657829168,
          204120.41655884444,
          -68844.47404539965,
          292793.3984066253,
          779113.0283836497,
          250912.23829901585,
          194766.3291059087,
          483887.8797097301,
          511442.88371640985,
          865174.874692332,
          243329.8077196919,
          91679.58710852056,
          60181.372979034204,
          36874.94092267059,
          35492.32015515462,
          338361.6483251134,
          465249.0286794323,
          167084.7397214577,
          18724.156790492358,
          172558.72861563502,
          257783.53007507435,
          227362.10637451324,
          1185573.8036406368,
          544014.6822252236,
          278545.469142422,
          378782.1769604964,
          -86143.48190198252,
          523243.4180020049,
          26967.52383283805,
          472330.3202295028,
          -5997.129003389273,
          -150853.8485830741,
          223498.308770361,
          37288.58257589984,
          108630.24440824054,
          75516.02110567241,
          750939.0735486331,
          -48285.328942755645,
          347238.70754728693,
          314972.78902635217,
          57252.619361994264,
          214971.70972778933,
          267656.7851601252,
          385291.3729987763,
          229160.55984423356,
          611946.0043898455,
          320828.17573631124,
          -2208.4994374210946,
          473894.1866910642,
          170938.1252423207,
          89551.21995276067,
          132110.59925784974,
          323507.88831942773,
          212791.2301314586,
          126825.53656879155,
          650228.485274127,
          314877.4103049476,
          115499.29612783558,
          -39756.25560610957,
          748100.7983675338,
          785241.295506221,
          197640.15860932914,
          393521.8283982486,
          203516.71549267543,
          886583.8574204238,
          199964.61792364856,
          64702.44638082967,
          -114679.19885645567,
          127367.930439785,
          600420.1185972807,
          307743.6978711029,
          194760.251802114,
          87878.99436017388,
          238054.4423154302,
          247587.32629739138,
          412618.43247186457,
          179364.52135497518,
          366503.39495451894,
          78892.0768363048,
          22380.58969970158,
          280225.6170750547,
          207270.75415550498,
          131868.19335275557,
          -155889.4849921828,
          696207.0418590158,
          1167541.969338062,
          554138.43895285,
          363331.3610760959,
          152609.09860690276
         ],
         "xaxis": "x",
         "y": [
          0,
          1,
          2,
          3,
          4,
          5,
          6,
          7,
          8,
          9,
          10,
          11,
          12,
          13,
          14,
          15,
          16,
          17,
          18,
          19,
          20,
          21,
          22,
          23,
          24,
          25,
          26,
          27,
          28,
          29,
          30,
          31,
          32,
          33,
          34,
          35,
          36,
          37,
          38,
          39,
          40,
          41,
          42,
          43,
          44,
          45,
          46,
          47,
          48,
          49,
          50,
          51,
          52,
          53,
          54,
          55,
          56,
          57,
          58,
          59,
          60,
          61,
          62,
          63,
          64,
          65,
          66,
          67,
          68,
          69,
          70,
          71,
          72,
          73,
          74,
          75,
          76,
          77,
          78,
          79,
          80,
          81,
          82,
          83,
          84,
          85,
          86,
          87,
          88,
          89,
          90,
          91,
          92,
          93,
          94,
          95,
          96,
          97,
          98,
          99,
          100,
          101,
          102,
          103,
          104,
          105,
          106,
          107,
          108,
          109,
          110,
          111,
          112,
          113,
          114,
          115,
          116,
          117,
          118,
          119,
          120,
          121,
          122,
          123,
          124,
          125,
          126,
          127,
          128,
          129,
          130,
          131,
          132,
          133,
          134,
          135,
          136,
          137,
          138,
          139,
          140,
          141,
          142,
          143,
          144,
          145,
          146,
          147,
          148,
          149,
          150,
          151,
          152,
          153,
          154,
          155,
          156
         ],
         "yaxis": "y"
        }
       ],
       "layout": {
        "legend": {
         "tracegroupgap": 0
        },
        "margin": {
         "t": 60
        },
        "template": {
         "data": {
          "bar": [
           {
            "error_x": {
             "color": "#2a3f5f"
            },
            "error_y": {
             "color": "#2a3f5f"
            },
            "marker": {
             "line": {
              "color": "#E5ECF6",
              "width": 0.5
             },
             "pattern": {
              "fillmode": "overlay",
              "size": 10,
              "solidity": 0.2
             }
            },
            "type": "bar"
           }
          ],
          "barpolar": [
           {
            "marker": {
             "line": {
              "color": "#E5ECF6",
              "width": 0.5
             },
             "pattern": {
              "fillmode": "overlay",
              "size": 10,
              "solidity": 0.2
             }
            },
            "type": "barpolar"
           }
          ],
          "carpet": [
           {
            "aaxis": {
             "endlinecolor": "#2a3f5f",
             "gridcolor": "white",
             "linecolor": "white",
             "minorgridcolor": "white",
             "startlinecolor": "#2a3f5f"
            },
            "baxis": {
             "endlinecolor": "#2a3f5f",
             "gridcolor": "white",
             "linecolor": "white",
             "minorgridcolor": "white",
             "startlinecolor": "#2a3f5f"
            },
            "type": "carpet"
           }
          ],
          "choropleth": [
           {
            "colorbar": {
             "outlinewidth": 0,
             "ticks": ""
            },
            "type": "choropleth"
           }
          ],
          "contour": [
           {
            "colorbar": {
             "outlinewidth": 0,
             "ticks": ""
            },
            "colorscale": [
             [
              0,
              "#0d0887"
             ],
             [
              0.1111111111111111,
              "#46039f"
             ],
             [
              0.2222222222222222,
              "#7201a8"
             ],
             [
              0.3333333333333333,
              "#9c179e"
             ],
             [
              0.4444444444444444,
              "#bd3786"
             ],
             [
              0.5555555555555556,
              "#d8576b"
             ],
             [
              0.6666666666666666,
              "#ed7953"
             ],
             [
              0.7777777777777778,
              "#fb9f3a"
             ],
             [
              0.8888888888888888,
              "#fdca26"
             ],
             [
              1,
              "#f0f921"
             ]
            ],
            "type": "contour"
           }
          ],
          "contourcarpet": [
           {
            "colorbar": {
             "outlinewidth": 0,
             "ticks": ""
            },
            "type": "contourcarpet"
           }
          ],
          "heatmap": [
           {
            "colorbar": {
             "outlinewidth": 0,
             "ticks": ""
            },
            "colorscale": [
             [
              0,
              "#0d0887"
             ],
             [
              0.1111111111111111,
              "#46039f"
             ],
             [
              0.2222222222222222,
              "#7201a8"
             ],
             [
              0.3333333333333333,
              "#9c179e"
             ],
             [
              0.4444444444444444,
              "#bd3786"
             ],
             [
              0.5555555555555556,
              "#d8576b"
             ],
             [
              0.6666666666666666,
              "#ed7953"
             ],
             [
              0.7777777777777778,
              "#fb9f3a"
             ],
             [
              0.8888888888888888,
              "#fdca26"
             ],
             [
              1,
              "#f0f921"
             ]
            ],
            "type": "heatmap"
           }
          ],
          "heatmapgl": [
           {
            "colorbar": {
             "outlinewidth": 0,
             "ticks": ""
            },
            "colorscale": [
             [
              0,
              "#0d0887"
             ],
             [
              0.1111111111111111,
              "#46039f"
             ],
             [
              0.2222222222222222,
              "#7201a8"
             ],
             [
              0.3333333333333333,
              "#9c179e"
             ],
             [
              0.4444444444444444,
              "#bd3786"
             ],
             [
              0.5555555555555556,
              "#d8576b"
             ],
             [
              0.6666666666666666,
              "#ed7953"
             ],
             [
              0.7777777777777778,
              "#fb9f3a"
             ],
             [
              0.8888888888888888,
              "#fdca26"
             ],
             [
              1,
              "#f0f921"
             ]
            ],
            "type": "heatmapgl"
           }
          ],
          "histogram": [
           {
            "marker": {
             "pattern": {
              "fillmode": "overlay",
              "size": 10,
              "solidity": 0.2
             }
            },
            "type": "histogram"
           }
          ],
          "histogram2d": [
           {
            "colorbar": {
             "outlinewidth": 0,
             "ticks": ""
            },
            "colorscale": [
             [
              0,
              "#0d0887"
             ],
             [
              0.1111111111111111,
              "#46039f"
             ],
             [
              0.2222222222222222,
              "#7201a8"
             ],
             [
              0.3333333333333333,
              "#9c179e"
             ],
             [
              0.4444444444444444,
              "#bd3786"
             ],
             [
              0.5555555555555556,
              "#d8576b"
             ],
             [
              0.6666666666666666,
              "#ed7953"
             ],
             [
              0.7777777777777778,
              "#fb9f3a"
             ],
             [
              0.8888888888888888,
              "#fdca26"
             ],
             [
              1,
              "#f0f921"
             ]
            ],
            "type": "histogram2d"
           }
          ],
          "histogram2dcontour": [
           {
            "colorbar": {
             "outlinewidth": 0,
             "ticks": ""
            },
            "colorscale": [
             [
              0,
              "#0d0887"
             ],
             [
              0.1111111111111111,
              "#46039f"
             ],
             [
              0.2222222222222222,
              "#7201a8"
             ],
             [
              0.3333333333333333,
              "#9c179e"
             ],
             [
              0.4444444444444444,
              "#bd3786"
             ],
             [
              0.5555555555555556,
              "#d8576b"
             ],
             [
              0.6666666666666666,
              "#ed7953"
             ],
             [
              0.7777777777777778,
              "#fb9f3a"
             ],
             [
              0.8888888888888888,
              "#fdca26"
             ],
             [
              1,
              "#f0f921"
             ]
            ],
            "type": "histogram2dcontour"
           }
          ],
          "mesh3d": [
           {
            "colorbar": {
             "outlinewidth": 0,
             "ticks": ""
            },
            "type": "mesh3d"
           }
          ],
          "parcoords": [
           {
            "line": {
             "colorbar": {
              "outlinewidth": 0,
              "ticks": ""
             }
            },
            "type": "parcoords"
           }
          ],
          "pie": [
           {
            "automargin": true,
            "type": "pie"
           }
          ],
          "scatter": [
           {
            "marker": {
             "colorbar": {
              "outlinewidth": 0,
              "ticks": ""
             }
            },
            "type": "scatter"
           }
          ],
          "scatter3d": [
           {
            "line": {
             "colorbar": {
              "outlinewidth": 0,
              "ticks": ""
             }
            },
            "marker": {
             "colorbar": {
              "outlinewidth": 0,
              "ticks": ""
             }
            },
            "type": "scatter3d"
           }
          ],
          "scattercarpet": [
           {
            "marker": {
             "colorbar": {
              "outlinewidth": 0,
              "ticks": ""
             }
            },
            "type": "scattercarpet"
           }
          ],
          "scattergeo": [
           {
            "marker": {
             "colorbar": {
              "outlinewidth": 0,
              "ticks": ""
             }
            },
            "type": "scattergeo"
           }
          ],
          "scattergl": [
           {
            "marker": {
             "colorbar": {
              "outlinewidth": 0,
              "ticks": ""
             }
            },
            "type": "scattergl"
           }
          ],
          "scattermapbox": [
           {
            "marker": {
             "colorbar": {
              "outlinewidth": 0,
              "ticks": ""
             }
            },
            "type": "scattermapbox"
           }
          ],
          "scatterpolar": [
           {
            "marker": {
             "colorbar": {
              "outlinewidth": 0,
              "ticks": ""
             }
            },
            "type": "scatterpolar"
           }
          ],
          "scatterpolargl": [
           {
            "marker": {
             "colorbar": {
              "outlinewidth": 0,
              "ticks": ""
             }
            },
            "type": "scatterpolargl"
           }
          ],
          "scatterternary": [
           {
            "marker": {
             "colorbar": {
              "outlinewidth": 0,
              "ticks": ""
             }
            },
            "type": "scatterternary"
           }
          ],
          "surface": [
           {
            "colorbar": {
             "outlinewidth": 0,
             "ticks": ""
            },
            "colorscale": [
             [
              0,
              "#0d0887"
             ],
             [
              0.1111111111111111,
              "#46039f"
             ],
             [
              0.2222222222222222,
              "#7201a8"
             ],
             [
              0.3333333333333333,
              "#9c179e"
             ],
             [
              0.4444444444444444,
              "#bd3786"
             ],
             [
              0.5555555555555556,
              "#d8576b"
             ],
             [
              0.6666666666666666,
              "#ed7953"
             ],
             [
              0.7777777777777778,
              "#fb9f3a"
             ],
             [
              0.8888888888888888,
              "#fdca26"
             ],
             [
              1,
              "#f0f921"
             ]
            ],
            "type": "surface"
           }
          ],
          "table": [
           {
            "cells": {
             "fill": {
              "color": "#EBF0F8"
             },
             "line": {
              "color": "white"
             }
            },
            "header": {
             "fill": {
              "color": "#C8D4E3"
             },
             "line": {
              "color": "white"
             }
            },
            "type": "table"
           }
          ]
         },
         "layout": {
          "annotationdefaults": {
           "arrowcolor": "#2a3f5f",
           "arrowhead": 0,
           "arrowwidth": 1
          },
          "autotypenumbers": "strict",
          "coloraxis": {
           "colorbar": {
            "outlinewidth": 0,
            "ticks": ""
           }
          },
          "colorscale": {
           "diverging": [
            [
             0,
             "#8e0152"
            ],
            [
             0.1,
             "#c51b7d"
            ],
            [
             0.2,
             "#de77ae"
            ],
            [
             0.3,
             "#f1b6da"
            ],
            [
             0.4,
             "#fde0ef"
            ],
            [
             0.5,
             "#f7f7f7"
            ],
            [
             0.6,
             "#e6f5d0"
            ],
            [
             0.7,
             "#b8e186"
            ],
            [
             0.8,
             "#7fbc41"
            ],
            [
             0.9,
             "#4d9221"
            ],
            [
             1,
             "#276419"
            ]
           ],
           "sequential": [
            [
             0,
             "#0d0887"
            ],
            [
             0.1111111111111111,
             "#46039f"
            ],
            [
             0.2222222222222222,
             "#7201a8"
            ],
            [
             0.3333333333333333,
             "#9c179e"
            ],
            [
             0.4444444444444444,
             "#bd3786"
            ],
            [
             0.5555555555555556,
             "#d8576b"
            ],
            [
             0.6666666666666666,
             "#ed7953"
            ],
            [
             0.7777777777777778,
             "#fb9f3a"
            ],
            [
             0.8888888888888888,
             "#fdca26"
            ],
            [
             1,
             "#f0f921"
            ]
           ],
           "sequentialminus": [
            [
             0,
             "#0d0887"
            ],
            [
             0.1111111111111111,
             "#46039f"
            ],
            [
             0.2222222222222222,
             "#7201a8"
            ],
            [
             0.3333333333333333,
             "#9c179e"
            ],
            [
             0.4444444444444444,
             "#bd3786"
            ],
            [
             0.5555555555555556,
             "#d8576b"
            ],
            [
             0.6666666666666666,
             "#ed7953"
            ],
            [
             0.7777777777777778,
             "#fb9f3a"
            ],
            [
             0.8888888888888888,
             "#fdca26"
            ],
            [
             1,
             "#f0f921"
            ]
           ]
          },
          "colorway": [
           "#636efa",
           "#EF553B",
           "#00cc96",
           "#ab63fa",
           "#FFA15A",
           "#19d3f3",
           "#FF6692",
           "#B6E880",
           "#FF97FF",
           "#FECB52"
          ],
          "font": {
           "color": "#2a3f5f"
          },
          "geo": {
           "bgcolor": "white",
           "lakecolor": "white",
           "landcolor": "#E5ECF6",
           "showlakes": true,
           "showland": true,
           "subunitcolor": "white"
          },
          "hoverlabel": {
           "align": "left"
          },
          "hovermode": "closest",
          "mapbox": {
           "style": "light"
          },
          "paper_bgcolor": "white",
          "plot_bgcolor": "#E5ECF6",
          "polar": {
           "angularaxis": {
            "gridcolor": "white",
            "linecolor": "white",
            "ticks": ""
           },
           "bgcolor": "#E5ECF6",
           "radialaxis": {
            "gridcolor": "white",
            "linecolor": "white",
            "ticks": ""
           }
          },
          "scene": {
           "xaxis": {
            "backgroundcolor": "#E5ECF6",
            "gridcolor": "white",
            "gridwidth": 2,
            "linecolor": "white",
            "showbackground": true,
            "ticks": "",
            "zerolinecolor": "white"
           },
           "yaxis": {
            "backgroundcolor": "#E5ECF6",
            "gridcolor": "white",
            "gridwidth": 2,
            "linecolor": "white",
            "showbackground": true,
            "ticks": "",
            "zerolinecolor": "white"
           },
           "zaxis": {
            "backgroundcolor": "#E5ECF6",
            "gridcolor": "white",
            "gridwidth": 2,
            "linecolor": "white",
            "showbackground": true,
            "ticks": "",
            "zerolinecolor": "white"
           }
          },
          "shapedefaults": {
           "line": {
            "color": "#2a3f5f"
           }
          },
          "ternary": {
           "aaxis": {
            "gridcolor": "white",
            "linecolor": "white",
            "ticks": ""
           },
           "baxis": {
            "gridcolor": "white",
            "linecolor": "white",
            "ticks": ""
           },
           "bgcolor": "#E5ECF6",
           "caxis": {
            "gridcolor": "white",
            "linecolor": "white",
            "ticks": ""
           }
          },
          "title": {
           "x": 0.05
          },
          "xaxis": {
           "automargin": true,
           "gridcolor": "white",
           "linecolor": "white",
           "ticks": "",
           "title": {
            "standoff": 15
           },
           "zerolinecolor": "white",
           "zerolinewidth": 2
          },
          "yaxis": {
           "automargin": true,
           "gridcolor": "white",
           "linecolor": "white",
           "ticks": "",
           "title": {
            "standoff": 15
           },
           "zerolinecolor": "white",
           "zerolinewidth": 2
          }
         }
        },
        "xaxis": {
         "anchor": "y",
         "domain": [
          0,
          1
         ],
         "title": {
          "text": "x"
         }
        },
        "yaxis": {
         "anchor": "x",
         "domain": [
          0,
          1
         ],
         "title": {
          "text": "y"
         }
        }
       }
      }
     },
     "metadata": {},
     "output_type": "display_data"
    }
   ],
   "source": [
    "px.scatter(x=lr.predict(x_test))\n"
   ]
  },
  {
   "cell_type": "code",
   "execution_count": null,
   "metadata": {},
   "outputs": [
    {
     "data": {
      "application/vnd.plotly.v1+json": {
       "config": {
        "plotlyServerURL": "https://plot.ly"
       },
       "data": [
        {
         "hovertemplate": "x=%{x}<br>y=%{y}<extra></extra>",
         "legendgroup": "",
         "marker": {
          "color": "#636efa",
          "symbol": "circle"
         },
         "mode": "markers",
         "name": "",
         "orientation": "v",
         "showlegend": false,
         "type": "scatter",
         "x": [
          0,
          1,
          2,
          3,
          4
         ],
         "xaxis": "x",
         "y": [
          0,
          1,
          4,
          9,
          16
         ],
         "yaxis": "y"
        }
       ],
       "layout": {
        "legend": {
         "tracegroupgap": 0
        },
        "margin": {
         "t": 60
        },
        "template": {
         "data": {
          "bar": [
           {
            "error_x": {
             "color": "#2a3f5f"
            },
            "error_y": {
             "color": "#2a3f5f"
            },
            "marker": {
             "line": {
              "color": "#E5ECF6",
              "width": 0.5
             },
             "pattern": {
              "fillmode": "overlay",
              "size": 10,
              "solidity": 0.2
             }
            },
            "type": "bar"
           }
          ],
          "barpolar": [
           {
            "marker": {
             "line": {
              "color": "#E5ECF6",
              "width": 0.5
             },
             "pattern": {
              "fillmode": "overlay",
              "size": 10,
              "solidity": 0.2
             }
            },
            "type": "barpolar"
           }
          ],
          "carpet": [
           {
            "aaxis": {
             "endlinecolor": "#2a3f5f",
             "gridcolor": "white",
             "linecolor": "white",
             "minorgridcolor": "white",
             "startlinecolor": "#2a3f5f"
            },
            "baxis": {
             "endlinecolor": "#2a3f5f",
             "gridcolor": "white",
             "linecolor": "white",
             "minorgridcolor": "white",
             "startlinecolor": "#2a3f5f"
            },
            "type": "carpet"
           }
          ],
          "choropleth": [
           {
            "colorbar": {
             "outlinewidth": 0,
             "ticks": ""
            },
            "type": "choropleth"
           }
          ],
          "contour": [
           {
            "colorbar": {
             "outlinewidth": 0,
             "ticks": ""
            },
            "colorscale": [
             [
              0,
              "#0d0887"
             ],
             [
              0.1111111111111111,
              "#46039f"
             ],
             [
              0.2222222222222222,
              "#7201a8"
             ],
             [
              0.3333333333333333,
              "#9c179e"
             ],
             [
              0.4444444444444444,
              "#bd3786"
             ],
             [
              0.5555555555555556,
              "#d8576b"
             ],
             [
              0.6666666666666666,
              "#ed7953"
             ],
             [
              0.7777777777777778,
              "#fb9f3a"
             ],
             [
              0.8888888888888888,
              "#fdca26"
             ],
             [
              1,
              "#f0f921"
             ]
            ],
            "type": "contour"
           }
          ],
          "contourcarpet": [
           {
            "colorbar": {
             "outlinewidth": 0,
             "ticks": ""
            },
            "type": "contourcarpet"
           }
          ],
          "heatmap": [
           {
            "colorbar": {
             "outlinewidth": 0,
             "ticks": ""
            },
            "colorscale": [
             [
              0,
              "#0d0887"
             ],
             [
              0.1111111111111111,
              "#46039f"
             ],
             [
              0.2222222222222222,
              "#7201a8"
             ],
             [
              0.3333333333333333,
              "#9c179e"
             ],
             [
              0.4444444444444444,
              "#bd3786"
             ],
             [
              0.5555555555555556,
              "#d8576b"
             ],
             [
              0.6666666666666666,
              "#ed7953"
             ],
             [
              0.7777777777777778,
              "#fb9f3a"
             ],
             [
              0.8888888888888888,
              "#fdca26"
             ],
             [
              1,
              "#f0f921"
             ]
            ],
            "type": "heatmap"
           }
          ],
          "heatmapgl": [
           {
            "colorbar": {
             "outlinewidth": 0,
             "ticks": ""
            },
            "colorscale": [
             [
              0,
              "#0d0887"
             ],
             [
              0.1111111111111111,
              "#46039f"
             ],
             [
              0.2222222222222222,
              "#7201a8"
             ],
             [
              0.3333333333333333,
              "#9c179e"
             ],
             [
              0.4444444444444444,
              "#bd3786"
             ],
             [
              0.5555555555555556,
              "#d8576b"
             ],
             [
              0.6666666666666666,
              "#ed7953"
             ],
             [
              0.7777777777777778,
              "#fb9f3a"
             ],
             [
              0.8888888888888888,
              "#fdca26"
             ],
             [
              1,
              "#f0f921"
             ]
            ],
            "type": "heatmapgl"
           }
          ],
          "histogram": [
           {
            "marker": {
             "pattern": {
              "fillmode": "overlay",
              "size": 10,
              "solidity": 0.2
             }
            },
            "type": "histogram"
           }
          ],
          "histogram2d": [
           {
            "colorbar": {
             "outlinewidth": 0,
             "ticks": ""
            },
            "colorscale": [
             [
              0,
              "#0d0887"
             ],
             [
              0.1111111111111111,
              "#46039f"
             ],
             [
              0.2222222222222222,
              "#7201a8"
             ],
             [
              0.3333333333333333,
              "#9c179e"
             ],
             [
              0.4444444444444444,
              "#bd3786"
             ],
             [
              0.5555555555555556,
              "#d8576b"
             ],
             [
              0.6666666666666666,
              "#ed7953"
             ],
             [
              0.7777777777777778,
              "#fb9f3a"
             ],
             [
              0.8888888888888888,
              "#fdca26"
             ],
             [
              1,
              "#f0f921"
             ]
            ],
            "type": "histogram2d"
           }
          ],
          "histogram2dcontour": [
           {
            "colorbar": {
             "outlinewidth": 0,
             "ticks": ""
            },
            "colorscale": [
             [
              0,
              "#0d0887"
             ],
             [
              0.1111111111111111,
              "#46039f"
             ],
             [
              0.2222222222222222,
              "#7201a8"
             ],
             [
              0.3333333333333333,
              "#9c179e"
             ],
             [
              0.4444444444444444,
              "#bd3786"
             ],
             [
              0.5555555555555556,
              "#d8576b"
             ],
             [
              0.6666666666666666,
              "#ed7953"
             ],
             [
              0.7777777777777778,
              "#fb9f3a"
             ],
             [
              0.8888888888888888,
              "#fdca26"
             ],
             [
              1,
              "#f0f921"
             ]
            ],
            "type": "histogram2dcontour"
           }
          ],
          "mesh3d": [
           {
            "colorbar": {
             "outlinewidth": 0,
             "ticks": ""
            },
            "type": "mesh3d"
           }
          ],
          "parcoords": [
           {
            "line": {
             "colorbar": {
              "outlinewidth": 0,
              "ticks": ""
             }
            },
            "type": "parcoords"
           }
          ],
          "pie": [
           {
            "automargin": true,
            "type": "pie"
           }
          ],
          "scatter": [
           {
            "marker": {
             "colorbar": {
              "outlinewidth": 0,
              "ticks": ""
             }
            },
            "type": "scatter"
           }
          ],
          "scatter3d": [
           {
            "line": {
             "colorbar": {
              "outlinewidth": 0,
              "ticks": ""
             }
            },
            "marker": {
             "colorbar": {
              "outlinewidth": 0,
              "ticks": ""
             }
            },
            "type": "scatter3d"
           }
          ],
          "scattercarpet": [
           {
            "marker": {
             "colorbar": {
              "outlinewidth": 0,
              "ticks": ""
             }
            },
            "type": "scattercarpet"
           }
          ],
          "scattergeo": [
           {
            "marker": {
             "colorbar": {
              "outlinewidth": 0,
              "ticks": ""
             }
            },
            "type": "scattergeo"
           }
          ],
          "scattergl": [
           {
            "marker": {
             "colorbar": {
              "outlinewidth": 0,
              "ticks": ""
             }
            },
            "type": "scattergl"
           }
          ],
          "scattermapbox": [
           {
            "marker": {
             "colorbar": {
              "outlinewidth": 0,
              "ticks": ""
             }
            },
            "type": "scattermapbox"
           }
          ],
          "scatterpolar": [
           {
            "marker": {
             "colorbar": {
              "outlinewidth": 0,
              "ticks": ""
             }
            },
            "type": "scatterpolar"
           }
          ],
          "scatterpolargl": [
           {
            "marker": {
             "colorbar": {
              "outlinewidth": 0,
              "ticks": ""
             }
            },
            "type": "scatterpolargl"
           }
          ],
          "scatterternary": [
           {
            "marker": {
             "colorbar": {
              "outlinewidth": 0,
              "ticks": ""
             }
            },
            "type": "scatterternary"
           }
          ],
          "surface": [
           {
            "colorbar": {
             "outlinewidth": 0,
             "ticks": ""
            },
            "colorscale": [
             [
              0,
              "#0d0887"
             ],
             [
              0.1111111111111111,
              "#46039f"
             ],
             [
              0.2222222222222222,
              "#7201a8"
             ],
             [
              0.3333333333333333,
              "#9c179e"
             ],
             [
              0.4444444444444444,
              "#bd3786"
             ],
             [
              0.5555555555555556,
              "#d8576b"
             ],
             [
              0.6666666666666666,
              "#ed7953"
             ],
             [
              0.7777777777777778,
              "#fb9f3a"
             ],
             [
              0.8888888888888888,
              "#fdca26"
             ],
             [
              1,
              "#f0f921"
             ]
            ],
            "type": "surface"
           }
          ],
          "table": [
           {
            "cells": {
             "fill": {
              "color": "#EBF0F8"
             },
             "line": {
              "color": "white"
             }
            },
            "header": {
             "fill": {
              "color": "#C8D4E3"
             },
             "line": {
              "color": "white"
             }
            },
            "type": "table"
           }
          ]
         },
         "layout": {
          "annotationdefaults": {
           "arrowcolor": "#2a3f5f",
           "arrowhead": 0,
           "arrowwidth": 1
          },
          "autotypenumbers": "strict",
          "coloraxis": {
           "colorbar": {
            "outlinewidth": 0,
            "ticks": ""
           }
          },
          "colorscale": {
           "diverging": [
            [
             0,
             "#8e0152"
            ],
            [
             0.1,
             "#c51b7d"
            ],
            [
             0.2,
             "#de77ae"
            ],
            [
             0.3,
             "#f1b6da"
            ],
            [
             0.4,
             "#fde0ef"
            ],
            [
             0.5,
             "#f7f7f7"
            ],
            [
             0.6,
             "#e6f5d0"
            ],
            [
             0.7,
             "#b8e186"
            ],
            [
             0.8,
             "#7fbc41"
            ],
            [
             0.9,
             "#4d9221"
            ],
            [
             1,
             "#276419"
            ]
           ],
           "sequential": [
            [
             0,
             "#0d0887"
            ],
            [
             0.1111111111111111,
             "#46039f"
            ],
            [
             0.2222222222222222,
             "#7201a8"
            ],
            [
             0.3333333333333333,
             "#9c179e"
            ],
            [
             0.4444444444444444,
             "#bd3786"
            ],
            [
             0.5555555555555556,
             "#d8576b"
            ],
            [
             0.6666666666666666,
             "#ed7953"
            ],
            [
             0.7777777777777778,
             "#fb9f3a"
            ],
            [
             0.8888888888888888,
             "#fdca26"
            ],
            [
             1,
             "#f0f921"
            ]
           ],
           "sequentialminus": [
            [
             0,
             "#0d0887"
            ],
            [
             0.1111111111111111,
             "#46039f"
            ],
            [
             0.2222222222222222,
             "#7201a8"
            ],
            [
             0.3333333333333333,
             "#9c179e"
            ],
            [
             0.4444444444444444,
             "#bd3786"
            ],
            [
             0.5555555555555556,
             "#d8576b"
            ],
            [
             0.6666666666666666,
             "#ed7953"
            ],
            [
             0.7777777777777778,
             "#fb9f3a"
            ],
            [
             0.8888888888888888,
             "#fdca26"
            ],
            [
             1,
             "#f0f921"
            ]
           ]
          },
          "colorway": [
           "#636efa",
           "#EF553B",
           "#00cc96",
           "#ab63fa",
           "#FFA15A",
           "#19d3f3",
           "#FF6692",
           "#B6E880",
           "#FF97FF",
           "#FECB52"
          ],
          "font": {
           "color": "#2a3f5f"
          },
          "geo": {
           "bgcolor": "white",
           "lakecolor": "white",
           "landcolor": "#E5ECF6",
           "showlakes": true,
           "showland": true,
           "subunitcolor": "white"
          },
          "hoverlabel": {
           "align": "left"
          },
          "hovermode": "closest",
          "mapbox": {
           "style": "light"
          },
          "paper_bgcolor": "white",
          "plot_bgcolor": "#E5ECF6",
          "polar": {
           "angularaxis": {
            "gridcolor": "white",
            "linecolor": "white",
            "ticks": ""
           },
           "bgcolor": "#E5ECF6",
           "radialaxis": {
            "gridcolor": "white",
            "linecolor": "white",
            "ticks": ""
           }
          },
          "scene": {
           "xaxis": {
            "backgroundcolor": "#E5ECF6",
            "gridcolor": "white",
            "gridwidth": 2,
            "linecolor": "white",
            "showbackground": true,
            "ticks": "",
            "zerolinecolor": "white"
           },
           "yaxis": {
            "backgroundcolor": "#E5ECF6",
            "gridcolor": "white",
            "gridwidth": 2,
            "linecolor": "white",
            "showbackground": true,
            "ticks": "",
            "zerolinecolor": "white"
           },
           "zaxis": {
            "backgroundcolor": "#E5ECF6",
            "gridcolor": "white",
            "gridwidth": 2,
            "linecolor": "white",
            "showbackground": true,
            "ticks": "",
            "zerolinecolor": "white"
           }
          },
          "shapedefaults": {
           "line": {
            "color": "#2a3f5f"
           }
          },
          "ternary": {
           "aaxis": {
            "gridcolor": "white",
            "linecolor": "white",
            "ticks": ""
           },
           "baxis": {
            "gridcolor": "white",
            "linecolor": "white",
            "ticks": ""
           },
           "bgcolor": "#E5ECF6",
           "caxis": {
            "gridcolor": "white",
            "linecolor": "white",
            "ticks": ""
           }
          },
          "title": {
           "x": 0.05
          },
          "xaxis": {
           "automargin": true,
           "gridcolor": "white",
           "linecolor": "white",
           "ticks": "",
           "title": {
            "standoff": 15
           },
           "zerolinecolor": "white",
           "zerolinewidth": 2
          },
          "yaxis": {
           "automargin": true,
           "gridcolor": "white",
           "linecolor": "white",
           "ticks": "",
           "title": {
            "standoff": 15
           },
           "zerolinecolor": "white",
           "zerolinewidth": 2
          }
         }
        },
        "xaxis": {
         "anchor": "y",
         "domain": [
          0,
          1
         ],
         "title": {
          "text": "x"
         }
        },
        "yaxis": {
         "anchor": "x",
         "domain": [
          0,
          1
         ],
         "title": {
          "text": "y"
         }
        }
       }
      }
     },
     "metadata": {},
     "output_type": "display_data"
    }
   ],
   "source": [
    "px.scatter(x=[0, 1, 2, 3, 4], y=[0, 1, 4, 9, 16])\n"
   ]
  },
  {
   "cell_type": "code",
   "execution_count": null,
   "metadata": {},
   "outputs": [],
   "source": []
  }
 ],
 "metadata": {
  "interpreter": {
   "hash": "f77d02840cd0ce834e48b70b5eb944ad83f4bc819f02a128385db65853f22614"
  },
  "kernelspec": {
   "display_name": "Python 3.7.4 64-bit ('venv': venv)",
   "name": "python3"
  },
  "language_info": {
   "codemirror_mode": {
    "name": "ipython",
    "version": 3
   },
   "file_extension": ".py",
   "mimetype": "text/x-python",
   "name": "python",
   "nbconvert_exporter": "python",
   "pygments_lexer": "ipython3",
   "version": "3.8.10"
  },
  "orig_nbformat": 4
 },
 "nbformat": 4,
 "nbformat_minor": 2
}
