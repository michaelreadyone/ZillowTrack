{
 "cells": [
  {
   "cell_type": "code",
   "execution_count": 1,
   "metadata": {},
   "outputs": [
    {
     "name": "stdout",
     "output_type": "stream",
     "text": [
      "{'5815-Station-St-Pittsburgh-PA-15206/11623565_zpid/', '5810-Rippey-St-Pittsburgh-PA-15206/11623327_zpid/', '116-Auburn-St-Pittsburgh-PA-15206/11623625_zpid/', '5501-Elgin-St-Pittsburgh-PA-15206/11619870_zpid/', '1111-Mellon-St-Pittsburgh-PA-15206/11620359_zpid/', '1145-Beechwood-Blvd-Pittsburgh-PA-15206/11629298_zpid/', '308-Carver-St-Pittsburgh-PA-15206/11285643_zpid/', '7220-Butler-St-Pittsburgh-PA-15206/11278009_zpid/', '1054-Beechwood-Blvd-Pittsburgh-PA-15206/11629038_zpid/', '100-Denniston-St-APT-94-Pittsburgh-PA-15206/11624658_zpid/', '6208-Saint-Marie-St-Pittsburgh-PA-15206/11623170_zpid/', '1160-Beechwood-Blvd-Pittsburgh-PA-15206/11629224_zpid/', '5641-Bryant-St-Pittsburgh-PA-15206/11620414_zpid/', '1825-Jancey-St-Pittsburgh-PA-15206/11278462_zpid/', '1600-Trinity-St-Pittsburgh-PA-15206/11278260_zpid/'}\n",
      "{'3448-Frazier-St-Pittsburgh-PA-15213/11420042_zpid/', '3500-Frazier-St-Pittsburgh-PA-15213/164612964_zpid/', '3511-Melwood-Ave-Pittsburgh-PA-15213/11402753_zpid/', '3456-Frazier-St-Pittsburgh-PA-15213/164340878_zpid/', '3764-Bigelow-Blvd-Pittsburgh-PA-15213/11402805_zpid/', '4919-Centre-Ave-Pittsburgh-PA-15213/2114952459_zpid/', '110-Burrows-St-Pittsburgh-PA-15213/333136445_zpid/', '3567-Bigelow-Blvd-Pittsburgh-PA-15213/2076555487_zpid/', '3229-Parkview-Ave-Pittsburgh-PA-15213/11420320_zpid/', '4305-Bigelow-Blvd-Pittsburgh-PA-15213/11407883_zpid/', '4803-Ellsworth-Ave-Pittsburgh-PA-15213/11528937_zpid/', '3375-Parkview-Ave-Pittsburgh-PA-15213/11413704_zpid/', '132-Burrows-St-Pittsburgh-PA-15213/333109458_zpid/', '122-Burrows-St-Pittsburgh-PA-15213/333136448_zpid/', '112-Burrows-St-Pittsburgh-PA-15213/333136446_zpid/'}\n",
      "{'3330-Guy-St-Pittsburgh-PA-15217/164703720_zpid/', '1140-S-Negley-Ave-Pittsburgh-PA-15217/11629486_zpid/', '6300-Alderson-St-Pittsburgh-PA-15217/11635934_zpid/', '5653-Melvin-St-Pittsburgh-PA-15217/11635398_zpid/', '664-Montclair-St-Pittsburgh-PA-15217/11545239_zpid/', '1129-Greenfield-Ave-Pittsburgh-PA-15217/11639908_zpid/', '628-Loretta-St-Pittsburgh-PA-15217/11545344_zpid/', '6334-Forward-Ave-Pittsburgh-PA-15217/11635530_zpid/', '5516-Bartlett-St-Pittsburgh-PA-15217/11631755_zpid/', '5582-Pocusset-St-Pittsburgh-PA-15217/11635354_zpid/', '2257-Shady-Ave-Pittsburgh-PA-15217/11635048_zpid/', '1831-Boulevard-Dr-Pittsburgh-PA-15217/2067322105_zpid/', '730-Montclair-St-Pittsburgh-PA-15217/11639929_zpid/', '3346-Beechwood-Blvd-Pittsburgh-PA-15217/11639995_zpid/', '5812-Northumberland-St-Pittsburgh-PA-15217/11630763_zpid/', '4165-Beehner-Rd-Pittsburgh-PA-15217/11544725_zpid/', '5430-Aylesboro-Ave-Pittsburgh-PA-15217/11630977_zpid/', '1331-Beechwood-Blvd-Pittsburgh-PA-15217/11629992_zpid/', '2440-Mount-Royal-Rd-Pittsburgh-PA-15217/11289863_zpid/', '1406-Fairstead-Ln-Pittsburgh-PA-15217/87991663_zpid/', '6747-Wilkins-Ave-Pittsburgh-PA-15217/11288014_zpid/', '5552-Darlington-Rd-Pittsburgh-PA-15217/11631349_zpid/', '5700-Lynne-Haven-Rd-Pittsburgh-PA-15217/11629427_zpid/'}\n",
      "{'667-Frayne-St-Pittsburgh-PA-15207/11545332_zpid/', '5135-Interboro-Ave-Pittsburgh-PA-15207/11351757_zpid/', '4320-Bristol-St-Pittsburgh-PA-15207/11544878_zpid/', '667-Baldwin-Rd-Pittsburgh-PA-15207/11299950_zpid/', '568-Hazelwood-Ave-Pittsburgh-PA-15207/11545458_zpid/', '222-Johnston-Ave-Pittsburgh-PA-15207/11550981_zpid/', '4139-Winterburn-Ave-Pittsburgh-PA-15207/11540227_zpid/', '517-Bigelow-St-Pittsburgh-PA-15207/11545076_zpid/', '5706-Keefe-St-Pittsburgh-PA-15207/11352250_zpid/', '620-Calera-St-Pittsburgh-PA-15207/11299914_zpid/', '4539-Parnell-St-Pittsburgh-PA-15207/11545383_zpid/', '629-Blanton-St-Pittsburgh-PA-15207/11540269_zpid/', '322-Johnston-Ave-Pittsburgh-PA-15207/11551063_zpid/'}\n"
     ]
    }
   ],
   "source": [
    "from zillow_scrape import search_zipcode, get_zipcodes, generate_headers\n",
    "import pandas as pd\n",
    "\n",
    "headers = generate_headers()\n",
    "zipcodes = get_zipcodes()\n",
    "\n",
    "info = []\n",
    "for zipcode in zipcodes:\n",
    "    datas = search_zipcode(zipcode, headers)\n",
    "    info += datas\n",
    "\n",
    "df = pd.DataFrame(info, columns=['price', 'bd_num', 'ba_num', 'sqft', 'address', 'zestimate', 'Building',\n",
    "                    'Calendar', 'Heating', 'Snowflake', 'Parking', 'Lot', 'PriceSquareFeet', 'url', 'zipcode'])\n"
   ]
  },
  {
   "cell_type": "code",
   "execution_count": 3,
   "metadata": {},
   "outputs": [],
   "source": [
    "df.to_csv('1_2.csv')"
   ]
  },
  {
   "cell_type": "code",
   "execution_count": 6,
   "metadata": {},
   "outputs": [
    {
     "data": {
      "text/plain": [
       "'2022-01-02 10:38:54.116374'"
      ]
     },
     "execution_count": 6,
     "metadata": {},
     "output_type": "execute_result"
    }
   ],
   "source": [
    "import datetime\n",
    "str(datetime.datetime.now())"
   ]
  },
  {
   "cell_type": "code",
   "execution_count": 1,
   "metadata": {},
   "outputs": [],
   "source": [
    "import pandas as pd"
   ]
  },
  {
   "cell_type": "code",
   "execution_count": 9,
   "metadata": {},
   "outputs": [
    {
     "name": "stdout",
     "output_type": "stream",
     "text": [
      "15106\n",
      "15120\n",
      "15201\n",
      "15203\n",
      "15204\n",
      "15205\n",
      "15206\n",
      "15207\n",
      "15208\n",
      "15210\n",
      "15211\n",
      "15212\n",
      "15213\n",
      "15214\n",
      "15215\n",
      "15216\n",
      "15217\n",
      "15218\n",
      "15219\n",
      "15220\n",
      "15221\n",
      "15222\n",
      "15224\n",
      "15226\n",
      "15227\n",
      "15232\n",
      "15233\n",
      "15234\n",
      "15235\n",
      "15236\n",
      "15238\n",
      "15260\n",
      "15290\n"
     ]
    }
   ],
   "source": [
    "raw_zips = '15106, 15120, 15201, 15203, 15204, 15205, 15206, 15207, 15208, 15210, 15211, 15212, 15213, 15214, 15215, 15216, 15217, 15218, 15219, 15220, 15221, 15222, 15224, 15226, 15227, 15232, 15233, 15234, 15235, 15236, 15238, 15260, 15290'\n",
    "for zipcode in raw_zips.split(', '):\n",
    "    print(zipcode)\n"
   ]
  },
  {
   "cell_type": "code",
   "execution_count": 5,
   "metadata": {},
   "outputs": [
    {
     "data": {
      "text/html": [
       "<div>\n",
       "<style scoped>\n",
       "    .dataframe tbody tr th:only-of-type {\n",
       "        vertical-align: middle;\n",
       "    }\n",
       "\n",
       "    .dataframe tbody tr th {\n",
       "        vertical-align: top;\n",
       "    }\n",
       "\n",
       "    .dataframe thead th {\n",
       "        text-align: right;\n",
       "    }\n",
       "</style>\n",
       "<table border=\"1\" class=\"dataframe\">\n",
       "  <thead>\n",
       "    <tr style=\"text-align: right;\">\n",
       "      <th></th>\n",
       "      <th>0</th>\n",
       "      <th>1</th>\n",
       "    </tr>\n",
       "  </thead>\n",
       "  <tbody>\n",
       "    <tr>\n",
       "      <th>0</th>\n",
       "      <td>Our Products• US ZIP Code Database • US ZIP+4 ...</td>\n",
       "      <td>403 Forbidden \\tQuestions? 1-800-425-1169  Sor...</td>\n",
       "    </tr>\n",
       "  </tbody>\n",
       "</table>\n",
       "</div>"
      ],
      "text/plain": [
       "                                                   0  \\\n",
       "0  Our Products• US ZIP Code Database • US ZIP+4 ...   \n",
       "\n",
       "                                                   1  \n",
       "0  403 Forbidden \\tQuestions? 1-800-425-1169  Sor...  "
      ]
     },
     "execution_count": 5,
     "metadata": {},
     "output_type": "execute_result"
    }
   ],
   "source": [
    "df[0]"
   ]
  },
  {
   "cell_type": "code",
   "execution_count": null,
   "metadata": {},
   "outputs": [],
   "source": []
  }
 ],
 "metadata": {
  "interpreter": {
   "hash": "f77d02840cd0ce834e48b70b5eb944ad83f4bc819f02a128385db65853f22614"
  },
  "kernelspec": {
   "display_name": "Python 3.7.4 64-bit ('venv': venv)",
   "name": "python3"
  },
  "language_info": {
   "codemirror_mode": {
    "name": "ipython",
    "version": 3
   },
   "file_extension": ".py",
   "mimetype": "text/x-python",
   "name": "python",
   "nbconvert_exporter": "python",
   "pygments_lexer": "ipython3",
   "version": "3.7.4"
  },
  "orig_nbformat": 4
 },
 "nbformat": 4,
 "nbformat_minor": 2
}
